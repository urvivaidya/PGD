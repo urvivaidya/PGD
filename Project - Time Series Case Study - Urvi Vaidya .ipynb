{
 "cells": [
  {
   "cell_type": "markdown",
   "id": "57b4fe24",
   "metadata": {},
   "source": [
    "# Forecasting the annual water usage in Baltimore.\n",
    "### Urvi Vaidya - Time Series Case Study"
   ]
  },
  {
   "cell_type": "code",
   "execution_count": 1,
   "id": "21888efe",
   "metadata": {},
   "outputs": [],
   "source": [
    "# we start with importing the necessary libraries\n",
    "import pandas as pd\n",
    "import numpy\n",
    "import matplotlib.pyplot as pyplot\n",
    "import sklearn\n",
    "import scipy\n",
    "from sklearn.metrics import mean_squared_error\n",
    "from math import sqrt\n",
    "from statsmodels.tsa.stattools import adfuller\n",
    "from pandas import read_csv\n",
    "from statsmodels.graphics.tsaplots import plot_acf\n",
    "from statsmodels.graphics.tsaplots import plot_pacf\n",
    "from statsmodels.tsa.arima.model import ARIMA\n",
    "from statsmodels.tsa.arima.model import ARIMAResults\n",
    "import warnings as w\n",
    "w.filterwarnings('ignore')"
   ]
  },
  {
   "cell_type": "code",
   "execution_count": 2,
   "id": "2104c034",
   "metadata": {},
   "outputs": [],
   "source": [
    "file = r'~/Downloads/PGD Sem 2- Time Series Case study/yearly_water_usage.csv'\n"
   ]
  },
  {
   "cell_type": "code",
   "execution_count": 3,
   "id": "01e55679",
   "metadata": {},
   "outputs": [],
   "source": [
    "# we want to read it into a series and not dataframe\n",
    "series = pd.read_csv(file, header = 0, index_col = 0, parse_dates = True, squeeze = True)\n"
   ]
  },
  {
   "cell_type": "markdown",
   "id": "2577330d",
   "metadata": {},
   "source": [
    "### Splitting the dataset for validation"
   ]
  },
  {
   "cell_type": "code",
   "execution_count": 4,
   "id": "b65e4eb1",
   "metadata": {},
   "outputs": [
    {
     "name": "stdout",
     "output_type": "stream",
     "text": [
      "Dataset 69, Validation 10\n"
     ]
    }
   ],
   "source": [
    "# split into a training and validation dataset\n",
    "split_point = len(series) - 10\n",
    "dataset, validation = series[0:split_point], series[split_point:]\n",
    "print('Dataset %d, Validation %d' % (len(dataset), len(validation)))\n",
    "dataset.to_csv('dataset.csv')\n",
    "validation.to_csv('validation.csv')"
   ]
  },
  {
   "cell_type": "code",
   "execution_count": 5,
   "id": "ea5b6578",
   "metadata": {},
   "outputs": [
    {
     "name": "stdout",
     "output_type": "stream",
     "text": [
      ">Predicted=503.000, Expected=503\n",
      ">Predicted=503.000, Expected=503\n",
      ">Predicted=503.000, Expected=515\n",
      ">Predicted=515.000, Expected=522\n",
      ">Predicted=522.000, Expected=492\n",
      ">Predicted=492.000, Expected=503\n",
      ">Predicted=503.000, Expected=503\n",
      ">Predicted=503.000, Expected=450\n",
      ">Predicted=450.000, Expected=432\n",
      ">Predicted=432.000, Expected=432\n",
      ">Predicted=432.000, Expected=458\n",
      ">Predicted=458.000, Expected=462\n",
      ">Predicted=462.000, Expected=503\n",
      ">Predicted=503.000, Expected=488\n",
      ">Predicted=488.000, Expected=466\n",
      ">Predicted=466.000, Expected=492\n",
      ">Predicted=492.000, Expected=503\n",
      ">Predicted=503.000, Expected=515\n",
      ">Predicted=515.000, Expected=500\n",
      ">Predicted=500.000, Expected=522\n",
      ">Predicted=522.000, Expected=575\n",
      ">Predicted=575.000, Expected=583\n",
      ">Predicted=583.000, Expected=587\n",
      ">Predicted=587.000, Expected=628\n",
      ">Predicted=628.000, Expected=640\n",
      ">Predicted=640.000, Expected=609\n",
      ">Predicted=609.000, Expected=606\n",
      ">Predicted=606.000, Expected=632\n",
      ">Predicted=632.000, Expected=617\n",
      ">Predicted=617.000, Expected=613\n",
      ">Predicted=613.000, Expected=598\n",
      ">Predicted=598.000, Expected=575\n",
      ">Predicted=575.000, Expected=564\n",
      ">Predicted=564.000, Expected=549\n",
      ">Predicted=549.000, Expected=538\n",
      "RMSE: 21.975\n"
     ]
    }
   ],
   "source": [
    "# evaluate a persistence model\n",
    "# load data\n",
    "series = pd.read_csv('dataset.csv', header=0, index_col=0, parse_dates=True, squeeze=True)\n",
    "# prepare data\n",
    "X = series.values\n",
    "X = X.astype('float32')\n",
    "train_size = int(len(X) * 0.50)\n",
    "train, test = X[0:train_size], X[train_size:]\n",
    "# walk-forward validation\n",
    "history = [x for x in train]\n",
    "predictions = list()\n",
    "for i in range(len(test)):\n",
    "\t# predict\n",
    "\tyhat = history[-1]\n",
    "\tpredictions.append(yhat)\n",
    "\t# observation\n",
    "\tobs = test[i]\n",
    "\thistory.append(obs)\n",
    "\tprint('>Predicted=%.3f, Expected=%3.f' % (yhat, obs))\n",
    "# report performance\n",
    "rmse = sqrt(mean_squared_error(test, predictions))\n",
    "print('RMSE: %.3f' % rmse)"
   ]
  },
  {
   "cell_type": "code",
   "execution_count": 6,
   "id": "c5bf84e3",
   "metadata": {},
   "outputs": [
    {
     "name": "stdout",
     "output_type": "stream",
     "text": [
      "count     69.000000\n",
      "mean     500.478261\n",
      "std       73.901685\n",
      "min      344.000000\n",
      "25%      458.000000\n",
      "50%      492.000000\n",
      "75%      538.000000\n",
      "max      662.000000\n",
      "Name: Water, dtype: float64\n"
     ]
    }
   ],
   "source": [
    "# summary statistics of time series\n",
    "print(series.describe())"
   ]
  },
  {
   "cell_type": "markdown",
   "id": "b302b372",
   "metadata": {},
   "source": [
    "### Line Plot"
   ]
  },
  {
   "cell_type": "code",
   "execution_count": 7,
   "id": "5769d626",
   "metadata": {},
   "outputs": [
    {
     "data": {
      "image/png": "[encoded data removed]",
      "text/plain": [
       "<Figure size 432x288 with 1 Axes>"
      ]
     },
     "metadata": {
      "needs_background": "light"
     },
     "output_type": "display_data"
    }
   ],
   "source": [
    "series.plot()\n",
    "pyplot.show()"
   ]
  },
  {
   "cell_type": "markdown",
   "id": "e53c6d18",
   "metadata": {},
   "source": [
    "### Density Plot"
   ]
  },
  {
   "cell_type": "code",
   "execution_count": 8,
   "id": "6909255d",
   "metadata": {},
   "outputs": [
    {
     "data": {
      "image/png": "[encoded data removed]",
      "text/plain": [
       "<Figure size 432x288 with 1 Axes>"
      ]
     },
     "metadata": {
      "needs_background": "light"
     },
     "output_type": "display_data"
    }
   ],
   "source": [
    "pyplot.subplot(212)\n",
    "series.plot(kind='kde')\n",
    "pyplot.show()"
   ]
  },
  {
   "cell_type": "markdown",
   "id": "00095162",
   "metadata": {},
   "source": [
    "### Box and Whisker Plots"
   ]
  },
  {
   "cell_type": "code",
   "execution_count": 9,
   "id": "a4dca466",
   "metadata": {},
   "outputs": [
    {
     "data": {
      "image/png": "[encoded data removed]",
      "text/plain": [
       "<Figure size 432x288 with 1 Axes>"
      ]
     },
     "metadata": {
      "needs_background": "light"
     },
     "output_type": "display_data"
    }
   ],
   "source": [
    "# boxplots of time series\n",
    "groups = series.groupby(pd.Grouper(freq='10YS'))\n",
    "decades = pd.DataFrame()\n",
    "for name, group in groups:\n",
    "\tif len(group.values) is 10:\n",
    "\t\tdecades[name.year] = group.values\n",
    "decades.boxplot()\n",
    "pyplot.show()"
   ]
  },
  {
   "cell_type": "code",
   "execution_count": 10,
   "id": "2c382f8b",
   "metadata": {},
   "outputs": [
    {
     "name": "stdout",
     "output_type": "stream",
     "text": [
      "ADF Statistic: -6.126719\n",
      "p-value: 0.000000\n",
      "Critical Values:\n",
      "\t1%: -3.534\n",
      "\t5%: -2.906\n",
      "\t10%: -2.591\n"
     ]
    },
    {
     "data": {
      "image/png": "[encoded data removed]",
      "text/plain": [
       "<Figure size 432x288 with 1 Axes>"
      ]
     },
     "metadata": {
      "needs_background": "light"
     },
     "output_type": "display_data"
    }
   ],
   "source": [
    "# create a differenced series\n",
    "def difference(dataset):\n",
    "\tdiff = list()\n",
    "\tfor i in range(1, len(dataset)):\n",
    "\t\tvalue = dataset[i] - dataset[i - 1]\n",
    "\t\tdiff.append(value)\n",
    "\treturn pd.Series(diff)\n",
    "\n",
    "X = series.values\n",
    "X = X.astype('float32')\n",
    "# difference data\n",
    "stationary = difference(X)\n",
    "stationary.index = series.index[1:]\n",
    "# check if stationary\n",
    "result = adfuller(stationary)\n",
    "print('ADF Statistic: %f' % result[0])\n",
    "print('p-value: %f' % result[1])\n",
    "print('Critical Values:')\n",
    "for key, value in result[4].items():\n",
    "\tprint('\\t%s: %.3f' % (key, value))\n",
    "# plot differenced data\n",
    "stationary.plot()\n",
    "pyplot.show()\n",
    "# save\n",
    "stationary.to_csv('stationary.csv')"
   ]
  },
  {
   "cell_type": "code",
   "execution_count": 11,
   "id": "506bc1d9",
   "metadata": {},
   "outputs": [
    {
     "data": {
      "image/png": "[encoded data removed]",
      "text/plain": [
       "<Figure size 432x288 with 2 Axes>"
      ]
     },
     "metadata": {
      "needs_background": "light"
     },
     "output_type": "display_data"
    }
   ],
   "source": [
    "pyplot.figure()\n",
    "pyplot.subplot(211)\n",
    "plot_acf(series, ax=pyplot.gca())\n",
    "pyplot.subplot(212)\n",
    "plot_pacf(series, ax=pyplot.gca())\n",
    "pyplot.show()"
   ]
  },
  {
   "cell_type": "code",
   "execution_count": 15,
   "id": "b6856b92",
   "metadata": {},
   "outputs": [
    {
     "name": "stdout",
     "output_type": "stream",
     "text": [
      ">Predicted=530.101, Expected=503.000\n",
      ">Predicted=511.154, Expected=503.000\n",
      ">Predicted=515.637, Expected=515.000\n",
      ">Predicted=520.904, Expected=522.000\n",
      ">Predicted=525.009, Expected=492.000\n",
      ">Predicted=492.360, Expected=503.000\n",
      ">Predicted=504.664, Expected=503.000\n",
      ">Predicted=512.082, Expected=450.000\n",
      ">Predicted=454.312, Expected=432.000\n",
      ">Predicted=441.329, Expected=432.000\n",
      ">Predicted=452.418, Expected=458.000\n",
      ">Predicted=470.223, Expected=462.000\n",
      ">Predicted=465.860, Expected=503.000\n",
      ">Predicted=498.112, Expected=488.000\n",
      ">Predicted=483.399, Expected=466.000\n",
      ">Predicted=455.128, Expected=492.000\n",
      ">Predicted=492.320, Expected=503.000\n",
      ">Predicted=503.711, Expected=515.000\n",
      ">Predicted=505.815, Expected=500.000\n",
      ">Predicted=493.165, Expected=522.000\n",
      ">Predicted=515.482, Expected=575.000\n",
      ">Predicted=571.332, Expected=583.000\n",
      ">Predicted=568.102, Expected=587.000\n",
      ">Predicted=567.410, Expected=628.000\n",
      ">Predicted=620.638, Expected=640.000\n",
      ">Predicted=632.546, Expected=609.000\n",
      ">Predicted=594.338, Expected=606.000\n",
      ">Predicted=602.108, Expected=632.000\n",
      ">Predicted=637.227, Expected=617.000\n",
      ">Predicted=614.318, Expected=613.000\n",
      ">Predicted=608.755, Expected=598.000\n",
      ">Predicted=600.294, Expected=575.000\n",
      ">Predicted=574.946, Expected=564.000\n",
      ">Predicted=567.577, Expected=549.000\n",
      ">Predicted=553.543, Expected=538.000\n",
      "RMSE: 25.262\n"
     ]
    }
   ],
   "source": [
    "# load data\n",
    "series = pd.read_csv('dataset.csv', header=0, index_col=0, parse_dates=True, squeeze=True)\n",
    "# prepare data\n",
    "X = series.values\n",
    "X = X.astype('float32')\n",
    "train_size = int(len(X) * 0.50)\n",
    "train, test = X[0:train_size], X[train_size:]\n",
    "# walk-forward validation\n",
    "history = [x for x in train]\n",
    "predictions = list()\n",
    "for i in range(len(test)):\n",
    "    # predict\n",
    "    model = ARIMA(history, order=(4,1,1))\n",
    "    model_fit = model.fit()\n",
    "    yhat = model_fit.forecast()[0]\n",
    "    predictions.append(yhat)\n",
    "    # observation\n",
    "    obs = test[i]\n",
    "    history.append(obs)\n",
    "    print('>Predicted=%.3f, Expected=%.3f' % (yhat, obs))\n",
    "# report performance\n",
    "rmse = sqrt(mean_squared_error(test, predictions))\n",
    "print('RMSE: %.3f' % rmse)\n"
   ]
  },
  {
   "cell_type": "code",
   "execution_count": 16,
   "id": "5cf6712a",
   "metadata": {},
   "outputs": [
    {
     "name": "stdout",
     "output_type": "stream",
     "text": [
      "ARIMA(0, 0, 0) RMSE=76.755\n",
      "ARIMA(0, 0, 1) RMSE=47.347\n",
      "ARIMA(0, 0, 2) RMSE=36.030\n",
      "ARIMA(0, 0, 3) RMSE=32.537\n",
      "ARIMA(0, 0, 4) RMSE=29.528\n",
      "ARIMA(0, 1, 0) RMSE=21.975\n",
      "ARIMA(0, 1, 1) RMSE=21.907\n",
      "ARIMA(0, 1, 2) RMSE=22.178\n",
      "ARIMA(0, 1, 3) RMSE=24.731\n",
      "ARIMA(0, 1, 4) RMSE=24.844\n",
      "ARIMA(0, 2, 0) RMSE=28.992\n",
      "ARIMA(0, 2, 1) RMSE=22.314\n",
      "ARIMA(0, 2, 2) RMSE=22.196\n",
      "ARIMA(0, 2, 3) RMSE=22.356\n",
      "ARIMA(0, 2, 4) RMSE=28.511\n",
      "ARIMA(1, 0, 0) RMSE=23.957\n",
      "ARIMA(1, 0, 1) RMSE=23.991\n",
      "ARIMA(1, 0, 2) RMSE=25.384\n",
      "ARIMA(1, 0, 3) RMSE=25.059\n",
      "ARIMA(1, 0, 4) RMSE=25.109\n",
      "ARIMA(1, 1, 0) RMSE=21.921\n",
      "ARIMA(1, 1, 1) RMSE=21.879\n",
      "ARIMA(1, 1, 2) RMSE=23.314\n",
      "ARIMA(1, 1, 3) RMSE=24.816\n",
      "ARIMA(1, 1, 4) RMSE=27.239\n",
      "ARIMA(1, 2, 0) RMSE=27.464\n",
      "ARIMA(1, 2, 1) RMSE=22.219\n",
      "ARIMA(1, 2, 2) RMSE=22.786\n",
      "ARIMA(1, 2, 3) RMSE=22.933\n",
      "ARIMA(1, 2, 4) RMSE=28.475\n",
      "ARIMA(2, 0, 0) RMSE=24.101\n",
      "ARIMA(2, 0, 1) RMSE=24.113\n",
      "ARIMA(2, 0, 2) RMSE=25.451\n",
      "ARIMA(2, 0, 3) RMSE=25.118\n",
      "ARIMA(2, 0, 4) RMSE=25.260\n",
      "ARIMA(2, 1, 0) RMSE=21.732\n",
      "ARIMA(2, 1, 1) RMSE=23.823\n",
      "ARIMA(2, 1, 2) RMSE=27.510\n",
      "ARIMA(2, 1, 3) RMSE=26.365\n",
      "ARIMA(2, 1, 4) RMSE=26.500\n",
      "ARIMA(2, 2, 0) RMSE=25.282\n",
      "ARIMA(2, 2, 1) RMSE=22.064\n",
      "ARIMA(2, 2, 2) RMSE=23.252\n",
      "ARIMA(2, 2, 3) RMSE=22.674\n",
      "ARIMA(2, 2, 4) RMSE=25.451\n",
      "ARIMA(3, 0, 0) RMSE=24.167\n",
      "ARIMA(3, 0, 1) RMSE=24.661\n",
      "ARIMA(3, 0, 2) RMSE=24.253\n",
      "ARIMA(3, 0, 3) RMSE=26.256\n",
      "ARIMA(3, 0, 4) RMSE=26.544\n",
      "ARIMA(3, 1, 0) RMSE=24.269\n",
      "ARIMA(3, 1, 1) RMSE=25.486\n",
      "ARIMA(3, 1, 2) RMSE=25.393\n",
      "ARIMA(3, 1, 3) RMSE=24.205\n",
      "ARIMA(3, 1, 4) RMSE=26.606\n",
      "ARIMA(3, 2, 0) RMSE=25.627\n",
      "ARIMA(3, 2, 1) RMSE=24.827\n",
      "ARIMA(3, 2, 2) RMSE=30.084\n",
      "ARIMA(3, 2, 3) RMSE=24.763\n",
      "ARIMA(3, 2, 4) RMSE=25.025\n",
      "ARIMA(4, 0, 0) RMSE=25.113\n",
      "ARIMA(4, 0, 1) RMSE=25.228\n",
      "ARIMA(4, 0, 2) RMSE=25.758\n",
      "ARIMA(4, 0, 3) RMSE=26.376\n",
      "ARIMA(4, 0, 4) RMSE=27.330\n",
      "ARIMA(4, 1, 0) RMSE=24.799\n",
      "ARIMA(4, 1, 1) RMSE=25.262\n",
      "ARIMA(4, 1, 2) RMSE=25.257\n",
      "ARIMA(4, 1, 3) RMSE=25.373\n",
      "ARIMA(4, 1, 4) RMSE=26.706\n",
      "ARIMA(4, 2, 0) RMSE=27.093\n",
      "ARIMA(4, 2, 1) RMSE=25.676\n",
      "ARIMA(4, 2, 2) RMSE=25.349\n",
      "ARIMA(4, 2, 3) RMSE=29.431\n",
      "ARIMA(4, 2, 4) RMSE=32.574\n",
      "Best ARIMA(2, 1, 0) RMSE=21.732\n"
     ]
    }
   ],
   "source": [
    "# grid search ARIMA parameters for a time series\n",
    "# evaluate an ARIMA model for a given order (p,d,q) and return RMSE\n",
    "def evaluate_arima_model(X, arima_order):\n",
    "\t# prepare training dataset\n",
    "\tX = X.astype('float32')\n",
    "\ttrain_size = int(len(X) * 0.50)\n",
    "\ttrain, test = X[0:train_size], X[train_size:]\n",
    "\thistory = [x for x in train]\n",
    "\t# make predictions\n",
    "\tpredictions = list()\n",
    "\tfor t in range(len(test)):\n",
    "\t\tmodel = ARIMA(history, order=arima_order)\n",
    "\t\tmodel_fit = model.fit()\n",
    "\t\tyhat = model_fit.forecast()[0]\n",
    "\t\tpredictions.append(yhat)\n",
    "\t\thistory.append(test[t])\n",
    "\t# calculate out of sample error\n",
    "\trmse = sqrt(mean_squared_error(test, predictions))\n",
    "\treturn rmse\n",
    "\n",
    "# evaluate combinations of p, d and q values for an ARIMA model\n",
    "def evaluate_models(dataset, p_values, d_values, q_values):\n",
    "\tdataset = dataset.astype('float32')\n",
    "\tbest_score, best_cfg = float(\"inf\"), None\n",
    "\tfor p in p_values:\n",
    "\t\tfor d in d_values:\n",
    "\t\t\tfor q in q_values:\n",
    "\t\t\t\torder = (p,d,q)\n",
    "\t\t\t\ttry:\n",
    "\t\t\t\t\trmse = evaluate_arima_model(dataset, order)\n",
    "\t\t\t\t\tif rmse < best_score:\n",
    "\t\t\t\t\t\tbest_score, best_cfg = rmse, order\n",
    "\t\t\t\t\tprint('ARIMA%s RMSE=%.3f' % (order,rmse))\n",
    "\t\t\t\texcept:\n",
    "\t\t\t\t\tcontinue\n",
    "\tprint('Best ARIMA%s RMSE=%.3f' % (best_cfg, best_score))\n",
    "\n",
    "\n",
    "# evaluate parameters\n",
    "p_values = range(0, 5)\n",
    "d_values = range(0, 3)\n",
    "q_values = range(0, 5)\n",
    "\n",
    "evaluate_models(series.values, p_values, d_values, q_values)"
   ]
  },
  {
   "cell_type": "code",
   "execution_count": 19,
   "id": "54ecfcfd",
   "metadata": {},
   "outputs": [
    {
     "name": "stdout",
     "output_type": "stream",
     "text": [
      "RMSE: 21.732\n",
      "               0\n",
      "count  35.000000\n",
      "mean    1.081458\n",
      "std    22.022201\n",
      "min   -52.104849\n",
      "25%   -16.209637\n",
      "50%    -0.454858\n",
      "75%    12.089062\n",
      "max    51.281127\n"
     ]
    },
    {
     "data": {
      "image/png": "[encoded data removed]",
      "text/plain": [
       "<Figure size 432x288 with 2 Axes>"
      ]
     },
     "metadata": {
      "needs_background": "light"
     },
     "output_type": "display_data"
    }
   ],
   "source": [
    "# summarize residual errors for an ARIMA model\n",
    "# prepare data\n",
    "X = series.values\n",
    "X = X.astype('float32')\n",
    "train_size = int(len(X) * 0.50)\n",
    "train, test = X[0:train_size], X[train_size:]\n",
    "# walk-forward validation\n",
    "history = [x for x in train]\n",
    "predictions = list()\n",
    "for i in range(len(test)):\n",
    "\t# predict\n",
    "\tmodel = ARIMA(history, order=(2,1,0))\n",
    "\tmodel_fit = model.fit()\n",
    "\tyhat = model_fit.forecast()[0]\n",
    "\tpredictions.append(yhat)\n",
    "\t# observation\n",
    "\tobs = test[i]\n",
    "\thistory.append(obs)\n",
    "# report performance\n",
    "rmse = sqrt(mean_squared_error(test, predictions))\n",
    "print('RMSE: %.3f' % rmse)\n",
    "# errors\n",
    "residuals = [test[i]-predictions[i] for i in range(len(test))]\n",
    "residuals = pd.DataFrame(residuals)\n",
    "print(residuals.describe())\n",
    "pyplot.figure()\n",
    "pyplot.subplot(211)\n",
    "residuals.hist(ax=pyplot.gca())\n",
    "pyplot.subplot(212)\n",
    "residuals.plot(kind='kde', ax=pyplot.gca())\n",
    "pyplot.show()"
   ]
  },
  {
   "cell_type": "markdown",
   "id": "b8f02ce4",
   "metadata": {},
   "source": [
    "### Performing bias-correction"
   ]
  },
  {
   "cell_type": "code",
   "execution_count": 25,
   "id": "79681543",
   "metadata": {},
   "outputs": [],
   "source": [
    "# load data\n",
    "series = pd.read_csv('dataset.csv', header=0, index_col=0, parse_dates=True, squeeze=True)\n",
    "# prepare data\n",
    "X = series.values\n",
    "X = X.astype('float32')\n",
    "# fit model\n",
    "model = ARIMA(X, order=(2,1,0))\n",
    "model_fit = model.fit()\n",
    "bias = 1.081623\n",
    "# save model\n",
    "model_fit.save('model.pkl')\n",
    "numpy.save('model_bias.npy', [bias])"
   ]
  },
  {
   "cell_type": "code",
   "execution_count": 27,
   "id": "fb5c5e45",
   "metadata": {},
   "outputs": [
    {
     "name": "stdout",
     "output_type": "stream",
     "text": [
      "Predicted: 540.011\n"
     ]
    }
   ],
   "source": [
    "# load finalized model and make a prediction\n",
    "model_fit = ARIMAResults.load('model.pkl')\n",
    "bias = numpy.load('model_bias.npy')\n",
    "yhat = bias + float(model_fit.forecast()[0])\n",
    "print('Predicted: %.3f' % yhat)"
   ]
  },
  {
   "cell_type": "code",
   "execution_count": 30,
   "id": "8d7fa45e",
   "metadata": {},
   "outputs": [
    {
     "name": "stdout",
     "output_type": "stream",
     "text": [
      ">Predicted=540.011, Expected=568\n",
      ">Predicted=571.593, Expected=575\n",
      ">Predicted=573.292, Expected=579\n",
      ">Predicted=579.562, Expected=587\n",
      ">Predicted=588.064, Expected=602\n",
      ">Predicted=603.025, Expected=594\n",
      ">Predicted=593.177, Expected=587\n",
      ">Predicted=588.556, Expected=587\n",
      ">Predicted=588.796, Expected=625\n",
      ">Predicted=627.947, Expected=613\n",
      "RMSE: 16.533\n"
     ]
    },
    {
     "data": {
      "image/png": "[encoded data removed]",
      "text/plain": [
       "<Figure size 432x288 with 1 Axes>"
      ]
     },
     "metadata": {
      "needs_background": "light"
     },
     "output_type": "display_data"
    }
   ],
   "source": [
    "# load and evaluate the finalized model on the validation dataset\n",
    "# load and prepare datasets\n",
    "X = dataset.values.astype('float32')\n",
    "history = [x for x in X]\n",
    "validation = pd.read_csv('validation.csv', header=0, index_col=0, parse_dates=True, squeeze=True)\n",
    "y = validation.values.astype('float32')\n",
    "# load model\n",
    "model_fit = ARIMAResults.load('model.pkl')\n",
    "bias = numpy.load('model_bias.npy')\n",
    "# make first prediction\n",
    "predictions = list()\n",
    "yhat = bias + float(model_fit.forecast()[0])\n",
    "predictions.append(yhat)\n",
    "history.append(y[0])\n",
    "print('>Predicted=%.3f, Expected=%3.f' % (yhat, y[0]))\n",
    "# rolling forecasts\n",
    "for i in range(1, len(y)):\n",
    "\t# predict\n",
    "\tmodel = ARIMA(history, order=(2,1,0))\n",
    "\tmodel_fit = model.fit()\n",
    "\tyhat = bias + float(model_fit.forecast()[0])\n",
    "\tpredictions.append(yhat)\n",
    "\t# observation\n",
    "\tobs = y[i]\n",
    "\thistory.append(obs)\n",
    "\tprint('>Predicted=%.3f, Expected=%3.f' % (yhat, obs))\n",
    "# report performance\n",
    "rmse = sqrt(mean_squared_error(y, predictions))\n",
    "print('RMSE: %.3f' % rmse)\n",
    "pyplot.plot(y)\n",
    "pyplot.plot(predictions, color='red')\n",
    "pyplot.show()"
   ]
  },
  {
   "cell_type": "code",
   "execution_count": null,
   "id": "6f5b54eb",
   "metadata": {},
   "outputs": [],
   "source": []
  },
  {
   "cell_type": "code",
   "execution_count": null,
   "id": "fcd07d2b",
   "metadata": {},
   "outputs": [],
   "source": []
  }
 ],
 "metadata": {
  "kernelspec": {
   "display_name": "Python 3 (ipykernel)",
   "language": "python",
   "name": "python3"
  },
  "language_info": {
   "codemirror_mode": {
    "name": "ipython",
    "version": 3
   },
   "file_extension": ".py",
   "mimetype": "text/x-python",
   "name": "python",
   "nbconvert_exporter": "python",
   "pygments_lexer": "ipython3",
   "version": "3.8.9"
  }
 },
 "nbformat": 4,
 "nbformat_minor": 5
}
