{
 "cells": [
  {
   "cell_type": "markdown",
   "id": "23697d88",
   "metadata": {},
   "source": [
    "### Natural Language Processing Techniques"
   ]
  },
  {
   "cell_type": "markdown",
   "id": "4b8709ea",
   "metadata": {},
   "source": [
    "##### NLTK Library for NLP techniques\n",
    "\n",
    "- NLTK: Natural Language Toolkit (collection of Python Libraries desinged to identify tags of speech found in text like English language)"
   ]
  },
  {
   "cell_type": "code",
   "execution_count": 1,
   "id": "5c80f6e4",
   "metadata": {},
   "outputs": [],
   "source": [
    "# Import NLTK library\n",
    "import nltk"
   ]
  },
  {
   "cell_type": "code",
   "execution_count": 2,
   "id": "65028d41",
   "metadata": {},
   "outputs": [
    {
     "name": "stdout",
     "output_type": "stream",
     "text": [
      "showing info https://raw.githubusercontent.com/nltk/nltk_data/gh-pages/index.xml\n"
     ]
    },
    {
     "data": {
      "text/plain": [
       "True"
      ]
     },
     "execution_count": 2,
     "metadata": {},
     "output_type": "execute_result"
    }
   ],
   "source": [
    "# Download all dependencies such as text repositories for NLTK\n",
    "nltk.download()\n",
    "#nltk.download('punkt')"
   ]
  },
  {
   "cell_type": "markdown",
   "id": "1d90ab4b",
   "metadata": {},
   "source": [
    "- Gensim is a robust semantic modeling library which can be used for several applications\n",
    "- Pattern is used to ensure that gensim package works properly"
   ]
  },
  {
   "cell_type": "code",
   "execution_count": 11,
   "id": "a146d177",
   "metadata": {
    "scrolled": true
   },
   "outputs": [
    {
     "ename": "ModuleNotFoundError",
     "evalue": "No module named 'pattern'",
     "output_type": "error",
     "traceback": [
      "\u001b[0;31m---------------------------------------------------------------------------\u001b[0m",
      "\u001b[0;31mModuleNotFoundError\u001b[0m                       Traceback (most recent call last)",
      "Input \u001b[0;32mIn [11]\u001b[0m, in \u001b[0;36m<module>\u001b[0;34m\u001b[0m\n\u001b[1;32m      1\u001b[0m \u001b[38;5;66;03m# # Import gensim and pattern libraries\u001b[39;00m\n\u001b[1;32m      2\u001b[0m \u001b[38;5;66;03m# !pip install gensim\u001b[39;00m\n\u001b[1;32m      3\u001b[0m \u001b[38;5;66;03m# !pip install pattern\u001b[39;00m\n\u001b[1;32m      4\u001b[0m \u001b[38;5;28;01mimport\u001b[39;00m \u001b[38;5;21;01mgensim\u001b[39;00m\n\u001b[0;32m----> 5\u001b[0m \u001b[38;5;28;01mimport\u001b[39;00m \u001b[38;5;21;01mpattern\u001b[39;00m\n",
      "\u001b[0;31mModuleNotFoundError\u001b[0m: No module named 'pattern'"
     ]
    }
   ],
   "source": [
    "# # Import gensim and pattern libraries\n",
    "# !pip install gensim\n",
    "# !pip install pattern\n",
    "import gensim\n",
    "import pattern\n"
   ]
  },
  {
   "cell_type": "markdown",
   "id": "abce988e",
   "metadata": {},
   "source": [
    "#### Tokenization\n",
    "- It is defined as the process of breaking the given text into smaller units called as tokens\n",
    "- Token types include words, numbers or punctuation marks \n",
    "- It's also called as word segmentation"
   ]
  },
  {
   "cell_type": "markdown",
   "id": "17ebd5d4",
   "metadata": {},
   "source": [
    "##### Sentence Tokenize Package\n",
    "- Divides the input text into sentences\n",
    "\n",
    "##### Word Tokenize Package\n",
    "- Divides the input text into words\n",
    "\n",
    "##### Word Punctuation Tokenize Package\n",
    "- Divides the input text intp words and punctuation marks\n",
    "\n",
    "##### Porter Stemmer Package\n",
    "- Uses the Porter's algorithm to stem the input tokens and extract the root/base form of the words\n",
    "\n",
    "##### Lancaster Stemmer Package\n",
    "- Uses the Lancaster's algorithm to stem the input tokens and extract the root/base form of the words\n",
    "\n",
    "##### Snowball Stemmer Package\n",
    "- Uses the Snowball's algorithm to stem the input tokens and extract the root/base form of the words\n",
    "\n",
    "##### WordNet Lemmatizer Package\n",
    "- Extracts the base form of the word which depends upon whether it is used as a noun or a verb\n"
   ]
  },
  {
   "cell_type": "code",
   "execution_count": 12,
   "id": "78e9a944",
   "metadata": {},
   "outputs": [],
   "source": [
    "# Import functions for stemming and lemmatization \n",
    "from nltk.tokenize import sent_tokenize\n",
    "from nltk.tokenize import word_tokenize\n",
    "from nltk.tokenize import WordPunctTokenizer\n",
    "from nltk.stem.porter import PorterStemmer\n",
    "from nltk.stem.lancaster import LancasterStemmer\n",
    "from nltk.stem.snowball import SnowballStemmer\n",
    "from nltk.stem import WordNetLemmatizer"
   ]
  },
  {
   "cell_type": "markdown",
   "id": "e54a068a",
   "metadata": {},
   "source": [
    "#### Example (Implement Noun-Phrase Chunking to find the noun phrase chunks in a given sentence)"
   ]
  },
  {
   "cell_type": "markdown",
   "id": "f159fa34",
   "metadata": {},
   "source": [
    "##### Chunking"
   ]
  },
  {
   "cell_type": "markdown",
   "id": "bd41bd95",
   "metadata": {},
   "source": [
    "##### Steps\n",
    "- Step 1: Chunk grammar definition\n",
    "- Step 2: Chunk parser creation\n",
    "- Step 3: Output computation\n",
    "\n",
    "##### Structure\n",
    "- DT : Determinant\n",
    "- VBP : Verb\n",
    "- JJ : Adjective\n",
    "- IN : Preposition\n",
    "- NN : Noun "
   ]
  },
  {
   "cell_type": "code",
   "execution_count": 5,
   "id": "457af6c1",
   "metadata": {},
   "outputs": [],
   "source": [
    "# Define sentence with structure\n",
    "text_str = \"a clever fox was jumping over the wall\"\n",
    "\n",
    "sentence = [(\"a\", \"DT\"), (\"clever\", \"JJ\"), (\"fox\", \"NN\"), (\"was\", \"VBP\"),\n",
    "           (\"jumping\", \"VBP\"), (\"over\", \"IN\"),(\"the\", \"DD\"),(\"wall\", \"NN\")]"
   ]
  },
  {
   "cell_type": "code",
   "execution_count": 7,
   "id": "8f130c9e",
   "metadata": {},
   "outputs": [],
   "source": [
    "# Specify regular expression\n",
    "grammar = \"NP:{<DT>?<JJ>*<NN>}\" \n",
    "\n",
    "# Starts with an optional (?) determiner ('DT')\n",
    "# Can have any number (*) of adjectives ('JJ')\n",
    "# End with a noun (<NN>)\n"
   ]
  },
  {
   "cell_type": "code",
   "execution_count": 8,
   "id": "1c7b9bc4",
   "metadata": {},
   "outputs": [],
   "source": [
    "# Create parser\n",
    "parser_chunking = nltk.RegexpParser(grammar)"
   ]
  },
  {
   "cell_type": "code",
   "execution_count": 9,
   "id": "d5e77351",
   "metadata": {},
   "outputs": [],
   "source": [
    "output = parser_chunking.parse(sentence)"
   ]
  },
  {
   "cell_type": "code",
   "execution_count": 10,
   "id": "0675857e",
   "metadata": {},
   "outputs": [],
   "source": [
    "output.draw()"
   ]
  },
  {
   "cell_type": "markdown",
   "id": "95d8ea0b",
   "metadata": {},
   "source": [
    "##### Chinking"
   ]
  },
  {
   "cell_type": "markdown",
   "id": "8af51910",
   "metadata": {},
   "source": [
    "- Chunking is a way to include a pattern and chinking is a way to exclude a pattern"
   ]
  },
  {
   "cell_type": "code",
   "execution_count": 11,
   "id": "171ea66a",
   "metadata": {},
   "outputs": [
    {
     "data": {
      "text/plain": [
       "[('a', 'DT'),\n",
       " ('clever', 'JJ'),\n",
       " ('fox', 'NN'),\n",
       " ('was', 'VBP'),\n",
       " ('jumping', 'VBP'),\n",
       " ('over', 'IN'),\n",
       " ('the', 'DD'),\n",
       " ('wall', 'NN')]"
      ]
     },
     "execution_count": 11,
     "metadata": {},
     "output_type": "execute_result"
    }
   ],
   "source": [
    "sentence"
   ]
  },
  {
   "cell_type": "code",
   "execution_count": 53,
   "id": "4df3a086",
   "metadata": {},
   "outputs": [],
   "source": [
    "grammar = \"\"\"\n",
    "Chunk: {<.*>+} \n",
    "}<JJ>{\"\"\""
   ]
  },
  {
   "cell_type": "markdown",
   "id": "95545b09",
   "metadata": {},
   "source": [
    "- {<.*>+} : It is used to determine what patterns u want to include in your chunks, include everything\n",
    "- }<JJ>{  : It is used to determine what patterns u want to exclude in your chunks, exclude adjectives"
   ]
  },
  {
   "cell_type": "code",
   "execution_count": 54,
   "id": "6eba523d",
   "metadata": {},
   "outputs": [],
   "source": [
    "chunk_parser = nltk.RegexpParser(grammar)"
   ]
  },
  {
   "cell_type": "code",
   "execution_count": 55,
   "id": "731411f4",
   "metadata": {},
   "outputs": [],
   "source": [
    "output = chunk_parser.parse(sentence)"
   ]
  },
  {
   "cell_type": "code",
   "execution_count": 56,
   "id": "914cc0ae",
   "metadata": {},
   "outputs": [],
   "source": [
    "output.draw()"
   ]
  },
  {
   "cell_type": "markdown",
   "id": "c60dae54",
   "metadata": {},
   "source": [
    "##### Sentence & Word Tokenizer "
   ]
  },
  {
   "cell_type": "code",
   "execution_count": 12,
   "id": "47afd3d5",
   "metadata": {},
   "outputs": [],
   "source": [
    "# Input String\n",
    "text = \"\"\"Aatharva managed to score ABOVE average in ML subject. Dipali and Darshan did better than 70% of the class relatively. Viren was happy with the overall performance. Manali,Muaaz and Gifty could have done beter.\"\"\"\n",
    "\n"
   ]
  },
  {
   "cell_type": "code",
   "execution_count": 16,
   "id": "8768617a",
   "metadata": {},
   "outputs": [
    {
     "data": {
      "text/plain": [
       "['Aatharva managed to score ABOVE average in ML subject.',\n",
       " 'Dipali and Darshan did better than 70% of the class relatively.',\n",
       " 'Viren was happy with the overall performance.',\n",
       " 'Manali,Muaaz and Gifty could have done beter.']"
      ]
     },
     "execution_count": 16,
     "metadata": {},
     "output_type": "execute_result"
    }
   ],
   "source": [
    "sent_tokenize(text)"
   ]
  },
  {
   "cell_type": "code",
   "execution_count": 17,
   "id": "62b82135",
   "metadata": {},
   "outputs": [],
   "source": [
    "text_new = '''Viren completed his engineering from V.J.T.I. and is working as a senior data scientist. His CGPA is 9.24.'''"
   ]
  },
  {
   "cell_type": "code",
   "execution_count": 18,
   "id": "2fbb4cc3",
   "metadata": {},
   "outputs": [
    {
     "data": {
      "text/plain": [
       "['Viren completed his engineering from V.J.T.I.',\n",
       " 'and is working as a senior data scientist.',\n",
       " 'His CGPA is 9.24.']"
      ]
     },
     "execution_count": 18,
     "metadata": {},
     "output_type": "execute_result"
    }
   ],
   "source": [
    "sent_tokenize(text_new)"
   ]
  },
  {
   "cell_type": "code",
   "execution_count": 19,
   "id": "1c20889a",
   "metadata": {},
   "outputs": [],
   "source": [
    "# Word Toeknizer \n",
    "word_tokens = word_tokenize(text)"
   ]
  },
  {
   "cell_type": "code",
   "execution_count": 20,
   "id": "c4b11407",
   "metadata": {},
   "outputs": [
    {
     "data": {
      "text/plain": [
       "['Aatharva',\n",
       " 'managed',\n",
       " 'to',\n",
       " 'score',\n",
       " 'ABOVE',\n",
       " 'average',\n",
       " 'in',\n",
       " 'ML',\n",
       " 'subject',\n",
       " '.',\n",
       " 'Dipali',\n",
       " 'and',\n",
       " 'Darshan',\n",
       " 'did',\n",
       " 'better',\n",
       " 'than',\n",
       " '70',\n",
       " '%',\n",
       " 'of',\n",
       " 'the',\n",
       " 'class',\n",
       " 'relatively',\n",
       " '.',\n",
       " 'Viren',\n",
       " 'was',\n",
       " 'happy',\n",
       " 'with',\n",
       " 'the',\n",
       " 'overall',\n",
       " 'performance',\n",
       " '.',\n",
       " 'Manali',\n",
       " ',',\n",
       " 'Muaaz',\n",
       " 'and',\n",
       " 'Gifty',\n",
       " 'could',\n",
       " 'have',\n",
       " 'done',\n",
       " 'beter',\n",
       " '.']"
      ]
     },
     "execution_count": 20,
     "metadata": {},
     "output_type": "execute_result"
    }
   ],
   "source": [
    "word_tokens"
   ]
  },
  {
   "cell_type": "markdown",
   "id": "363b75ad",
   "metadata": {},
   "source": [
    "##### Stop Words "
   ]
  },
  {
   "cell_type": "code",
   "execution_count": 21,
   "id": "4699bc59",
   "metadata": {},
   "outputs": [],
   "source": [
    "# nltk.download('stopwords')\n",
    "from nltk.corpus import stopwords\n",
    "from nltk.tokenize import word_tokenize"
   ]
  },
  {
   "cell_type": "code",
   "execution_count": 22,
   "id": "f96a3ad1",
   "metadata": {},
   "outputs": [],
   "source": [
    "stop_words = set(stopwords.words(\"english\"))"
   ]
  },
  {
   "cell_type": "code",
   "execution_count": 23,
   "id": "989b2f78",
   "metadata": {},
   "outputs": [
    {
     "data": {
      "text/plain": [
       "{'a',\n",
       " 'about',\n",
       " 'above',\n",
       " 'after',\n",
       " 'again',\n",
       " 'against',\n",
       " 'ain',\n",
       " 'all',\n",
       " 'am',\n",
       " 'an',\n",
       " 'and',\n",
       " 'any',\n",
       " 'are',\n",
       " 'aren',\n",
       " \"aren't\",\n",
       " 'as',\n",
       " 'at',\n",
       " 'be',\n",
       " 'because',\n",
       " 'been',\n",
       " 'before',\n",
       " 'being',\n",
       " 'below',\n",
       " 'between',\n",
       " 'both',\n",
       " 'but',\n",
       " 'by',\n",
       " 'can',\n",
       " 'couldn',\n",
       " \"couldn't\",\n",
       " 'd',\n",
       " 'did',\n",
       " 'didn',\n",
       " \"didn't\",\n",
       " 'do',\n",
       " 'does',\n",
       " 'doesn',\n",
       " \"doesn't\",\n",
       " 'doing',\n",
       " 'don',\n",
       " \"don't\",\n",
       " 'down',\n",
       " 'during',\n",
       " 'each',\n",
       " 'few',\n",
       " 'for',\n",
       " 'from',\n",
       " 'further',\n",
       " 'had',\n",
       " 'hadn',\n",
       " \"hadn't\",\n",
       " 'has',\n",
       " 'hasn',\n",
       " \"hasn't\",\n",
       " 'have',\n",
       " 'haven',\n",
       " \"haven't\",\n",
       " 'having',\n",
       " 'he',\n",
       " 'her',\n",
       " 'here',\n",
       " 'hers',\n",
       " 'herself',\n",
       " 'him',\n",
       " 'himself',\n",
       " 'his',\n",
       " 'how',\n",
       " 'i',\n",
       " 'if',\n",
       " 'in',\n",
       " 'into',\n",
       " 'is',\n",
       " 'isn',\n",
       " \"isn't\",\n",
       " 'it',\n",
       " \"it's\",\n",
       " 'its',\n",
       " 'itself',\n",
       " 'just',\n",
       " 'll',\n",
       " 'm',\n",
       " 'ma',\n",
       " 'me',\n",
       " 'mightn',\n",
       " \"mightn't\",\n",
       " 'more',\n",
       " 'most',\n",
       " 'mustn',\n",
       " \"mustn't\",\n",
       " 'my',\n",
       " 'myself',\n",
       " 'needn',\n",
       " \"needn't\",\n",
       " 'no',\n",
       " 'nor',\n",
       " 'not',\n",
       " 'now',\n",
       " 'o',\n",
       " 'of',\n",
       " 'off',\n",
       " 'on',\n",
       " 'once',\n",
       " 'only',\n",
       " 'or',\n",
       " 'other',\n",
       " 'our',\n",
       " 'ours',\n",
       " 'ourselves',\n",
       " 'out',\n",
       " 'over',\n",
       " 'own',\n",
       " 're',\n",
       " 's',\n",
       " 'same',\n",
       " 'shan',\n",
       " \"shan't\",\n",
       " 'she',\n",
       " \"she's\",\n",
       " 'should',\n",
       " \"should've\",\n",
       " 'shouldn',\n",
       " \"shouldn't\",\n",
       " 'so',\n",
       " 'some',\n",
       " 'such',\n",
       " 't',\n",
       " 'than',\n",
       " 'that',\n",
       " \"that'll\",\n",
       " 'the',\n",
       " 'their',\n",
       " 'theirs',\n",
       " 'them',\n",
       " 'themselves',\n",
       " 'then',\n",
       " 'there',\n",
       " 'these',\n",
       " 'they',\n",
       " 'this',\n",
       " 'those',\n",
       " 'through',\n",
       " 'to',\n",
       " 'too',\n",
       " 'under',\n",
       " 'until',\n",
       " 'up',\n",
       " 've',\n",
       " 'very',\n",
       " 'was',\n",
       " 'wasn',\n",
       " \"wasn't\",\n",
       " 'we',\n",
       " 'were',\n",
       " 'weren',\n",
       " \"weren't\",\n",
       " 'what',\n",
       " 'when',\n",
       " 'where',\n",
       " 'which',\n",
       " 'while',\n",
       " 'who',\n",
       " 'whom',\n",
       " 'why',\n",
       " 'will',\n",
       " 'with',\n",
       " 'won',\n",
       " \"won't\",\n",
       " 'wouldn',\n",
       " \"wouldn't\",\n",
       " 'y',\n",
       " 'you',\n",
       " \"you'd\",\n",
       " \"you'll\",\n",
       " \"you're\",\n",
       " \"you've\",\n",
       " 'your',\n",
       " 'yours',\n",
       " 'yourself',\n",
       " 'yourselves'}"
      ]
     },
     "execution_count": 23,
     "metadata": {},
     "output_type": "execute_result"
    }
   ],
   "source": [
    "stop_words"
   ]
  },
  {
   "cell_type": "code",
   "execution_count": 27,
   "id": "1048caed",
   "metadata": {},
   "outputs": [],
   "source": [
    "filtered_list = []\n",
    "stop_real = []\n",
    "for word in word_tokens:\n",
    "    #print(word)\n",
    "    #print(word.casefold())\n",
    "    if word.lower() not in stop_words:\n",
    "        filtered_list.append(word)\n",
    "    else:\n",
    "        stop_real.append(word)"
   ]
  },
  {
   "cell_type": "code",
   "execution_count": 79,
   "id": "d11a87b5",
   "metadata": {},
   "outputs": [],
   "source": [
    "# Using list comprehension \n",
    "filtered_list = [word for word in word_tokens if word.casefold() not in stop_words]"
   ]
  },
  {
   "cell_type": "code",
   "execution_count": 28,
   "id": "572b5995",
   "metadata": {},
   "outputs": [
    {
     "data": {
      "text/plain": [
       "(['Aatharva',\n",
       "  'managed',\n",
       "  'score',\n",
       "  'average',\n",
       "  'ML',\n",
       "  'subject',\n",
       "  '.',\n",
       "  'Dipali',\n",
       "  'Darshan',\n",
       "  'better',\n",
       "  '70',\n",
       "  '%',\n",
       "  'class',\n",
       "  'relatively',\n",
       "  '.',\n",
       "  'Viren',\n",
       "  'happy',\n",
       "  'overall',\n",
       "  'performance',\n",
       "  '.',\n",
       "  'Manali',\n",
       "  ',',\n",
       "  'Muaaz',\n",
       "  'Gifty',\n",
       "  'could',\n",
       "  'done',\n",
       "  'beter',\n",
       "  '.'],\n",
       " ['to',\n",
       "  'ABOVE',\n",
       "  'in',\n",
       "  'and',\n",
       "  'did',\n",
       "  'than',\n",
       "  'of',\n",
       "  'the',\n",
       "  'was',\n",
       "  'with',\n",
       "  'the',\n",
       "  'and',\n",
       "  'have'])"
      ]
     },
     "execution_count": 28,
     "metadata": {},
     "output_type": "execute_result"
    }
   ],
   "source": [
    "filtered_list,stop_real"
   ]
  },
  {
   "cell_type": "markdown",
   "id": "60418fe6",
   "metadata": {},
   "source": [
    "##### Stemming"
   ]
  },
  {
   "cell_type": "code",
   "execution_count": 29,
   "id": "176a2c31",
   "metadata": {},
   "outputs": [],
   "source": [
    "from nltk.stem import PorterStemmer\n",
    "from nltk.tokenize import word_tokenize"
   ]
  },
  {
   "cell_type": "code",
   "execution_count": 30,
   "id": "188d487f",
   "metadata": {},
   "outputs": [],
   "source": [
    "# Create a stemmer\n",
    "stemmer = PorterStemmer()"
   ]
  },
  {
   "cell_type": "code",
   "execution_count": 35,
   "id": "1b191574",
   "metadata": {},
   "outputs": [],
   "source": [
    "text_str = ''' The crew of the USS Discovery discovered many discoveries . Discovering is what explorers do.'''\n",
    "#text_str = ''' Das ist sehr gut'''\n"
   ]
  },
  {
   "cell_type": "code",
   "execution_count": 36,
   "id": "9c16d23e",
   "metadata": {},
   "outputs": [],
   "source": [
    "words = word_tokenize(text_str)"
   ]
  },
  {
   "cell_type": "code",
   "execution_count": 37,
   "id": "08343480",
   "metadata": {},
   "outputs": [
    {
     "data": {
      "text/plain": [
       "['The',\n",
       " 'crew',\n",
       " 'of',\n",
       " 'the',\n",
       " 'USS',\n",
       " 'Discovery',\n",
       " 'discovered',\n",
       " 'many',\n",
       " 'discoveries',\n",
       " '.',\n",
       " 'Discovering',\n",
       " 'is',\n",
       " 'what',\n",
       " 'explorers',\n",
       " 'do',\n",
       " '.']"
      ]
     },
     "execution_count": 37,
     "metadata": {},
     "output_type": "execute_result"
    }
   ],
   "source": [
    "words"
   ]
  },
  {
   "cell_type": "code",
   "execution_count": 38,
   "id": "e93ac635",
   "metadata": {},
   "outputs": [
    {
     "data": {
      "text/plain": [
       "['the',\n",
       " 'crew',\n",
       " 'of',\n",
       " 'the',\n",
       " 'uss',\n",
       " 'discoveri',\n",
       " 'discov',\n",
       " 'mani',\n",
       " 'discoveri',\n",
       " '.',\n",
       " 'discov',\n",
       " 'is',\n",
       " 'what',\n",
       " 'explor',\n",
       " 'do',\n",
       " '.']"
      ]
     },
     "execution_count": 38,
     "metadata": {},
     "output_type": "execute_result"
    }
   ],
   "source": [
    "stemmed_word = [stemmer.stem(word) for word in words]\n",
    "stemmed_word"
   ]
  },
  {
   "cell_type": "markdown",
   "id": "8f5251b4",
   "metadata": {},
   "source": [
    "- Original Word          - Stemmed Version\n",
    "'Discovery'              'discoveri'\n",
    "'discovered'             'discov'\n",
    "'discoveries'            'discoveri'\n",
    "'Discovering'            'discov'"
   ]
  },
  {
   "cell_type": "markdown",
   "id": "2275d594",
   "metadata": {},
   "source": [
    "- Understemming : happens when two related words should be reduced to the same stem but aren't. This is a false negative\n",
    "- Overstemming : happens when two unrelated words are reduced to the same stem even though it shouldn't. This is false positive"
   ]
  },
  {
   "cell_type": "code",
   "execution_count": 39,
   "id": "702f6da9",
   "metadata": {},
   "outputs": [],
   "source": [
    "from nltk.stem import SnowballStemmer\n",
    "snowball = SnowballStemmer(\"english\")\n",
    "text_str = ''' The crew of the USS Discovery discovered many discoveries . Discovering is what explorers do.'''\n",
    "words = word_tokenize(text_str)\n",
    "snowball_word = [snowball.stem(word) for word in words]"
   ]
  },
  {
   "cell_type": "code",
   "execution_count": 40,
   "id": "5fdc34d5",
   "metadata": {},
   "outputs": [
    {
     "data": {
      "text/plain": [
       "['the',\n",
       " 'crew',\n",
       " 'of',\n",
       " 'the',\n",
       " 'uss',\n",
       " 'discoveri',\n",
       " 'discov',\n",
       " 'mani',\n",
       " 'discoveri',\n",
       " '.',\n",
       " 'discov',\n",
       " 'is',\n",
       " 'what',\n",
       " 'explor',\n",
       " 'do',\n",
       " '.']"
      ]
     },
     "execution_count": 40,
     "metadata": {},
     "output_type": "execute_result"
    }
   ],
   "source": [
    "snowball_word"
   ]
  },
  {
   "cell_type": "code",
   "execution_count": null,
   "id": "bb0ad73d",
   "metadata": {},
   "outputs": [],
   "source": []
  },
  {
   "cell_type": "markdown",
   "id": "7607033f",
   "metadata": {},
   "source": [
    "##### Parts of Speech"
   ]
  },
  {
   "cell_type": "code",
   "execution_count": 31,
   "id": "a2faf07c",
   "metadata": {},
   "outputs": [],
   "source": [
    "word_quote = \"You Learn More From Failure Than From Success. Don't Let It Stop You. Failure Builds Character – Unknown\""
   ]
  },
  {
   "cell_type": "code",
   "execution_count": 32,
   "id": "2407e902",
   "metadata": {},
   "outputs": [],
   "source": [
    "words = word_tokenize(word_quote)"
   ]
  },
  {
   "cell_type": "code",
   "execution_count": 33,
   "id": "a4f6eef5",
   "metadata": {},
   "outputs": [
    {
     "data": {
      "text/plain": [
       "['You',\n",
       " 'Learn',\n",
       " 'More',\n",
       " 'From',\n",
       " 'Failure',\n",
       " 'Than',\n",
       " 'From',\n",
       " 'Success',\n",
       " '.',\n",
       " 'Do',\n",
       " \"n't\",\n",
       " 'Let',\n",
       " 'It',\n",
       " 'Stop',\n",
       " 'You',\n",
       " '.',\n",
       " 'Failure',\n",
       " 'Builds',\n",
       " 'Character',\n",
       " '–',\n",
       " 'Unknown']"
      ]
     },
     "execution_count": 33,
     "metadata": {},
     "output_type": "execute_result"
    }
   ],
   "source": [
    "words"
   ]
  },
  {
   "cell_type": "code",
   "execution_count": 34,
   "id": "744c9163",
   "metadata": {},
   "outputs": [
    {
     "data": {
      "text/plain": [
       "[('You', 'PRP'),\n",
       " ('Learn', 'VBP'),\n",
       " ('More', 'JJR'),\n",
       " ('From', 'IN'),\n",
       " ('Failure', 'NN'),\n",
       " ('Than', 'CD'),\n",
       " ('From', 'IN'),\n",
       " ('Success', 'NNP'),\n",
       " ('.', '.'),\n",
       " ('Do', 'VBP'),\n",
       " (\"n't\", 'RB'),\n",
       " ('Let', 'VB'),\n",
       " ('It', 'PRP'),\n",
       " ('Stop', 'NNP'),\n",
       " ('You', 'PRP'),\n",
       " ('.', '.'),\n",
       " ('Failure', 'NN'),\n",
       " ('Builds', 'NNP'),\n",
       " ('Character', 'NNP'),\n",
       " ('–', 'NNP'),\n",
       " ('Unknown', 'NNP')]"
      ]
     },
     "execution_count": 34,
     "metadata": {},
     "output_type": "execute_result"
    }
   ],
   "source": [
    "\n",
    "#nltk.download('averaged_perceptron_tagger')\n",
    "nltk.pos_tag(words)"
   ]
  },
  {
   "cell_type": "code",
   "execution_count": 35,
   "id": "fd538224",
   "metadata": {},
   "outputs": [
    {
     "name": "stdout",
     "output_type": "stream",
     "text": [
      "$: dollar\n",
      "    $ -$ --$ A$ C$ HK$ M$ NZ$ S$ U.S.$ US$\n",
      "'': closing quotation mark\n",
      "    ' ''\n",
      "(: opening parenthesis\n",
      "    ( [ {\n",
      "): closing parenthesis\n",
      "    ) ] }\n",
      ",: comma\n",
      "    ,\n",
      "--: dash\n",
      "    --\n",
      ".: sentence terminator\n",
      "    . ! ?\n",
      ":: colon or ellipsis\n",
      "    : ; ...\n",
      "CC: conjunction, coordinating\n",
      "    & 'n and both but either et for less minus neither nor or plus so\n",
      "    therefore times v. versus vs. whether yet\n",
      "CD: numeral, cardinal\n",
      "    mid-1890 nine-thirty forty-two one-tenth ten million 0.5 one forty-\n",
      "    seven 1987 twenty '79 zero two 78-degrees eighty-four IX '60s .025\n",
      "    fifteen 271,124 dozen quintillion DM2,000 ...\n",
      "DT: determiner\n",
      "    all an another any both del each either every half la many much nary\n",
      "    neither no some such that the them these this those\n",
      "EX: existential there\n",
      "    there\n",
      "FW: foreign word\n",
      "    gemeinschaft hund ich jeux habeas Haementeria Herr K'ang-si vous\n",
      "    lutihaw alai je jour objets salutaris fille quibusdam pas trop Monte\n",
      "    terram fiche oui corporis ...\n",
      "IN: preposition or conjunction, subordinating\n",
      "    astride among uppon whether out inside pro despite on by throughout\n",
      "    below within for towards near behind atop around if like until below\n",
      "    next into if beside ...\n",
      "JJ: adjective or numeral, ordinal\n",
      "    third ill-mannered pre-war regrettable oiled calamitous first separable\n",
      "    ectoplasmic battery-powered participatory fourth still-to-be-named\n",
      "    multilingual multi-disciplinary ...\n",
      "JJR: adjective, comparative\n",
      "    bleaker braver breezier briefer brighter brisker broader bumper busier\n",
      "    calmer cheaper choosier cleaner clearer closer colder commoner costlier\n",
      "    cozier creamier crunchier cuter ...\n",
      "JJS: adjective, superlative\n",
      "    calmest cheapest choicest classiest cleanest clearest closest commonest\n",
      "    corniest costliest crassest creepiest crudest cutest darkest deadliest\n",
      "    dearest deepest densest dinkiest ...\n",
      "LS: list item marker\n",
      "    A A. B B. C C. D E F First G H I J K One SP-44001 SP-44002 SP-44005\n",
      "    SP-44007 Second Third Three Two * a b c d first five four one six three\n",
      "    two\n",
      "MD: modal auxiliary\n",
      "    can cannot could couldn't dare may might must need ought shall should\n",
      "    shouldn't will would\n",
      "NN: noun, common, singular or mass\n",
      "    common-carrier cabbage knuckle-duster Casino afghan shed thermostat\n",
      "    investment slide humour falloff slick wind hyena override subhumanity\n",
      "    machinist ...\n",
      "NNP: noun, proper, singular\n",
      "    Motown Venneboerger Czestochwa Ranzer Conchita Trumplane Christos\n",
      "    Oceanside Escobar Kreisler Sawyer Cougar Yvette Ervin ODI Darryl CTCA\n",
      "    Shannon A.K.C. Meltex Liverpool ...\n",
      "NNPS: noun, proper, plural\n",
      "    Americans Americas Amharas Amityvilles Amusements Anarcho-Syndicalists\n",
      "    Andalusians Andes Andruses Angels Animals Anthony Antilles Antiques\n",
      "    Apache Apaches Apocrypha ...\n",
      "NNS: noun, common, plural\n",
      "    undergraduates scotches bric-a-brac products bodyguards facets coasts\n",
      "    divestitures storehouses designs clubs fragrances averages\n",
      "    subjectivists apprehensions muses factory-jobs ...\n",
      "PDT: pre-determiner\n",
      "    all both half many quite such sure this\n",
      "POS: genitive marker\n",
      "    ' 's\n",
      "PRP: pronoun, personal\n",
      "    hers herself him himself hisself it itself me myself one oneself ours\n",
      "    ourselves ownself self she thee theirs them themselves they thou thy us\n",
      "PRP$: pronoun, possessive\n",
      "    her his mine my our ours their thy your\n",
      "RB: adverb\n",
      "    occasionally unabatingly maddeningly adventurously professedly\n",
      "    stirringly prominently technologically magisterially predominately\n",
      "    swiftly fiscally pitilessly ...\n",
      "RBR: adverb, comparative\n",
      "    further gloomier grander graver greater grimmer harder harsher\n",
      "    healthier heavier higher however larger later leaner lengthier less-\n",
      "    perfectly lesser lonelier longer louder lower more ...\n",
      "RBS: adverb, superlative\n",
      "    best biggest bluntest earliest farthest first furthest hardest\n",
      "    heartiest highest largest least less most nearest second tightest worst\n",
      "RP: particle\n",
      "    aboard about across along apart around aside at away back before behind\n",
      "    by crop down ever fast for forth from go high i.e. in into just later\n",
      "    low more off on open out over per pie raising start teeth that through\n",
      "    under unto up up-pp upon whole with you\n",
      "SYM: symbol\n",
      "    % & ' '' ''. ) ). * + ,. < = > @ A[fj] U.S U.S.S.R * ** ***\n",
      "TO: \"to\" as preposition or infinitive marker\n",
      "    to\n",
      "UH: interjection\n",
      "    Goodbye Goody Gosh Wow Jeepers Jee-sus Hubba Hey Kee-reist Oops amen\n",
      "    huh howdy uh dammit whammo shucks heck anyways whodunnit honey golly\n",
      "    man baby diddle hush sonuvabitch ...\n",
      "VB: verb, base form\n",
      "    ask assemble assess assign assume atone attention avoid bake balkanize\n",
      "    bank begin behold believe bend benefit bevel beware bless boil bomb\n",
      "    boost brace break bring broil brush build ...\n",
      "VBD: verb, past tense\n",
      "    dipped pleaded swiped regummed soaked tidied convened halted registered\n",
      "    cushioned exacted snubbed strode aimed adopted belied figgered\n",
      "    speculated wore appreciated contemplated ...\n",
      "VBG: verb, present participle or gerund\n",
      "    telegraphing stirring focusing angering judging stalling lactating\n",
      "    hankerin' alleging veering capping approaching traveling besieging\n",
      "    encrypting interrupting erasing wincing ...\n",
      "VBN: verb, past participle\n",
      "    multihulled dilapidated aerosolized chaired languished panelized used\n",
      "    experimented flourished imitated reunifed factored condensed sheared\n",
      "    unsettled primed dubbed desired ...\n",
      "VBP: verb, present tense, not 3rd person singular\n",
      "    predominate wrap resort sue twist spill cure lengthen brush terminate\n",
      "    appear tend stray glisten obtain comprise detest tease attract\n",
      "    emphasize mold postpone sever return wag ...\n",
      "VBZ: verb, present tense, 3rd person singular\n",
      "    bases reconstructs marks mixes displeases seals carps weaves snatches\n",
      "    slumps stretches authorizes smolders pictures emerges stockpiles\n",
      "    seduces fizzes uses bolsters slaps speaks pleads ...\n",
      "WDT: WH-determiner\n",
      "    that what whatever which whichever\n",
      "WP: WH-pronoun\n",
      "    that what whatever whatsoever which who whom whosoever\n",
      "WP$: WH-pronoun, possessive\n",
      "    whose\n",
      "WRB: Wh-adverb\n",
      "    how however whence whenever where whereby whereever wherein whereof why\n",
      "``: opening quotation mark\n",
      "    ` ``\n"
     ]
    },
    {
     "name": "stderr",
     "output_type": "stream",
     "text": [
      "[nltk_data] Downloading package tagsets to C:\\Users\\Ekta\n",
      "[nltk_data]     Shah\\AppData\\Roaming\\nltk_data...\n",
      "[nltk_data]   Package tagsets is already up-to-date!\n"
     ]
    }
   ],
   "source": [
    "# Get all possible tags from NLTK for POS Tagging\n",
    "nltk.download('tagsets')\n",
    "nltk.help.upenn_tagset()"
   ]
  },
  {
   "cell_type": "markdown",
   "id": "5e5eef94",
   "metadata": {},
   "source": [
    "##### Lemmatizing"
   ]
  },
  {
   "cell_type": "markdown",
   "id": "48ac109f",
   "metadata": {},
   "source": [
    "- A lemma is a word that represents a whole group of words, and the group of words i called a lexeme\n",
    "- For example if you look at a word called \"blending\" in the dictionary, then you need to first search for \"blend\" so that will give u the result\n",
    "- \"blend\" is a lemma and \"blending\" is part of the lexeme. So while running lemmization you are reducing each word to its lemma"
   ]
  },
  {
   "cell_type": "code",
   "execution_count": 41,
   "id": "c57b80dd",
   "metadata": {},
   "outputs": [],
   "source": [
    "from nltk.stem import WordNetLemmatizer\n",
    "lemmatizer = WordNetLemmatizer()"
   ]
  },
  {
   "cell_type": "code",
   "execution_count": 42,
   "id": "8f232b5e",
   "metadata": {},
   "outputs": [
    {
     "data": {
      "text/plain": [
       "'dwarf'"
      ]
     },
     "execution_count": 42,
     "metadata": {},
     "output_type": "execute_result"
    }
   ],
   "source": [
    "#nltk.download('wordnet')\n",
    "lemmatizer.lemmatize(\"dwarfs\")"
   ]
  },
  {
   "cell_type": "code",
   "execution_count": 43,
   "id": "ab0e56cc",
   "metadata": {},
   "outputs": [],
   "source": [
    "text_str = ''' The crew of the USS Discovery discovered many discoveries . Discovering is what explorers do.'''\n",
    "words = word_tokenize(text_str)"
   ]
  },
  {
   "cell_type": "code",
   "execution_count": 44,
   "id": "4cbd072b",
   "metadata": {},
   "outputs": [
    {
     "data": {
      "text/plain": [
       "['the',\n",
       " 'crew',\n",
       " 'of',\n",
       " 'the',\n",
       " 'uss',\n",
       " 'discoveri',\n",
       " 'discov',\n",
       " 'mani',\n",
       " 'discoveri',\n",
       " '.',\n",
       " 'discov',\n",
       " 'is',\n",
       " 'what',\n",
       " 'explor',\n",
       " 'do',\n",
       " '.']"
      ]
     },
     "execution_count": 44,
     "metadata": {},
     "output_type": "execute_result"
    }
   ],
   "source": [
    "# Run Stemming\n",
    "stemmed_word = [stemmer.stem(word) for word in words]\n",
    "stemmed_word"
   ]
  },
  {
   "cell_type": "code",
   "execution_count": 38,
   "id": "55e7ad92",
   "metadata": {},
   "outputs": [
    {
     "data": {
      "text/plain": [
       "['the',\n",
       " 'crew',\n",
       " 'of',\n",
       " 'the',\n",
       " 'uss',\n",
       " 'discovery',\n",
       " 'discover',\n",
       " 'many',\n",
       " 'discoveries',\n",
       " '.',\n",
       " 'discover',\n",
       " 'be',\n",
       " 'what',\n",
       " 'explorers',\n",
       " 'do',\n",
       " '.']"
      ]
     },
     "execution_count": 38,
     "metadata": {},
     "output_type": "execute_result"
    }
   ],
   "source": [
    "# Run lemmatization\n",
    "lemm_word = [lemmatizer.lemmatize(word.casefold(),pos = 'v') for word in words] # by default pos = 'n' i.e. noun \n",
    "lemm_word"
   ]
  },
  {
   "cell_type": "markdown",
   "id": "5d4e8443",
   "metadata": {},
   "source": [
    "##### Remove Punctuation"
   ]
  },
  {
   "cell_type": "code",
   "execution_count": 11,
   "id": "413c5956",
   "metadata": {},
   "outputs": [],
   "source": [
    "text_str = '''Megha,Dipali and Gifty - Work 8-10 hours a week on project assignement ans scored 78%,82% and 91% repectively in their exam. Megha scored the least while Gifty managed to top'''\n",
    "words = word_tokenize(text_str)"
   ]
  },
  {
   "cell_type": "code",
   "execution_count": 12,
   "id": "576190ed",
   "metadata": {},
   "outputs": [
    {
     "data": {
      "text/plain": [
       "['Megha',\n",
       " ',',\n",
       " 'Dipali',\n",
       " 'and',\n",
       " 'Gifty',\n",
       " '-',\n",
       " 'Work',\n",
       " '8-10',\n",
       " 'hours',\n",
       " 'a',\n",
       " 'week',\n",
       " 'on',\n",
       " 'project',\n",
       " 'assignement',\n",
       " 'ans',\n",
       " 'scored',\n",
       " '78',\n",
       " '%',\n",
       " ',82',\n",
       " '%',\n",
       " 'and',\n",
       " '91',\n",
       " '%',\n",
       " 'repectively',\n",
       " 'in',\n",
       " 'their',\n",
       " 'exam',\n",
       " '.',\n",
       " 'Megha',\n",
       " 'scored',\n",
       " 'the',\n",
       " 'least',\n",
       " 'while',\n",
       " 'Gifty',\n",
       " 'managed',\n",
       " 'to',\n",
       " 'top']"
      ]
     },
     "execution_count": 12,
     "metadata": {},
     "output_type": "execute_result"
    }
   ],
   "source": [
    "words"
   ]
  },
  {
   "cell_type": "code",
   "execution_count": 15,
   "id": "2480f076",
   "metadata": {},
   "outputs": [],
   "source": [
    "words_no_punct = []\n",
    "for w in words:\n",
    "    if w.isalpha():\n",
    "        words_no_punct.append(w.lower())"
   ]
  },
  {
   "cell_type": "code",
   "execution_count": 16,
   "id": "54bac75f",
   "metadata": {},
   "outputs": [
    {
     "data": {
      "text/plain": [
       "['megha',\n",
       " 'dipali',\n",
       " 'and',\n",
       " 'gifty',\n",
       " 'work',\n",
       " 'hours',\n",
       " 'a',\n",
       " 'week',\n",
       " 'on',\n",
       " 'project',\n",
       " 'assignement',\n",
       " 'ans',\n",
       " 'scored',\n",
       " 'and',\n",
       " 'repectively',\n",
       " 'in',\n",
       " 'their',\n",
       " 'exam',\n",
       " 'megha',\n",
       " 'scored',\n",
       " 'the',\n",
       " 'least',\n",
       " 'while',\n",
       " 'gifty',\n",
       " 'managed',\n",
       " 'to',\n",
       " 'top']"
      ]
     },
     "execution_count": 16,
     "metadata": {},
     "output_type": "execute_result"
    }
   ],
   "source": [
    "words_no_punct"
   ]
  },
  {
   "cell_type": "code",
   "execution_count": null,
   "id": "31deae77",
   "metadata": {},
   "outputs": [],
   "source": []
  },
  {
   "cell_type": "markdown",
   "id": "ff02227a",
   "metadata": {},
   "source": [
    "##### Frequency Distribbution and Plot"
   ]
  },
  {
   "cell_type": "code",
   "execution_count": 13,
   "id": "b2b50560",
   "metadata": {},
   "outputs": [],
   "source": [
    "import nltk\n",
    "from nltk.probability import FreqDist"
   ]
  },
  {
   "cell_type": "code",
   "execution_count": 17,
   "id": "3e2d9bd0",
   "metadata": {},
   "outputs": [
    {
     "data": {
      "text/plain": [
       "FreqDist({'megha': 2, 'and': 2, 'gifty': 2, 'scored': 2, 'dipali': 1, 'work': 1, 'hours': 1, 'a': 1, 'week': 1, 'on': 1, ...})"
      ]
     },
     "execution_count": 17,
     "metadata": {},
     "output_type": "execute_result"
    }
   ],
   "source": [
    "fdist = FreqDist(words_no_punct)\n",
    "fdist"
   ]
  },
  {
   "cell_type": "code",
   "execution_count": 103,
   "id": "e1638c2b",
   "metadata": {},
   "outputs": [
    {
     "data": {
      "image/png": "[encoded data removed]",
      "text/plain": [
       "<Figure size 432x288 with 1 Axes>"
      ]
     },
     "metadata": {
      "needs_background": "light"
     },
     "output_type": "display_data"
    },
    {
     "data": {
      "text/plain": [
       "<matplotlib.axes._subplots.AxesSubplot at 0x24f27de7948>"
      ]
     },
     "execution_count": 103,
     "metadata": {},
     "output_type": "execute_result"
    }
   ],
   "source": [
    "import matplotlib.pyplot as plt\n",
    "fdist.plot(len(fdist))"
   ]
  },
  {
   "cell_type": "code",
   "execution_count": 18,
   "id": "7c7b8813",
   "metadata": {},
   "outputs": [],
   "source": [
    "#nltk.download('stopwords')\n",
    "from nltk.corpus import stopwords\n",
    "from nltk.tokenize import word_tokenize\n",
    "stop_words = set(stopwords.words(\"english\"))\n",
    "# Using list comprehension \n",
    "filtered_list = [word for word in words_no_punct if word.casefold() not in stop_words]\n"
   ]
  },
  {
   "cell_type": "code",
   "execution_count": 29,
   "id": "aaee9da6",
   "metadata": {},
   "outputs": [
    {
     "data": {
      "image/png": "[encoded data removed]",
      "text/plain": [
       "<Figure size 432x288 with 1 Axes>"
      ]
     },
     "metadata": {
      "needs_background": "light"
     },
     "output_type": "display_data"
    },
    {
     "data": {
      "text/plain": [
       "<AxesSubplot:xlabel='Samples', ylabel='Counts'>"
      ]
     },
     "execution_count": 29,
     "metadata": {},
     "output_type": "execute_result"
    }
   ],
   "source": [
    "import matplotlib.pyplot as plt\n",
    "fdist = FreqDist(filtered_list)\n",
    "fdist\n",
    "fdist.plot()\n"
   ]
  },
  {
   "cell_type": "code",
   "execution_count": 30,
   "id": "ffe71740",
   "metadata": {},
   "outputs": [
    {
     "data": {
      "image/png": "[encoded data removed]",
      "text/plain": [
       "<Figure size 432x288 with 1 Axes>"
      ]
     },
     "metadata": {
      "needs_background": "light"
     },
     "output_type": "display_data"
    },
    {
     "data": {
      "text/plain": [
       "<AxesSubplot:xlabel='Samples', ylabel='Counts'>"
      ]
     },
     "execution_count": 30,
     "metadata": {},
     "output_type": "execute_result"
    }
   ],
   "source": [
    "fdist.plot(len(filtered_list))"
   ]
  },
  {
   "cell_type": "code",
   "execution_count": null,
   "id": "ad807fb2",
   "metadata": {},
   "outputs": [],
   "source": []
  }
 ],
 "metadata": {
  "kernelspec": {
   "display_name": "Python 3 (ipykernel)",
   "language": "python",
   "name": "python3"
  },
  "language_info": {
   "codemirror_mode": {
    "name": "ipython",
    "version": 3
   },
   "file_extension": ".py",
   "mimetype": "text/x-python",
   "name": "python",
   "nbconvert_exporter": "python",
   "pygments_lexer": "ipython3",
   "version": "3.8.9"
  }
 },
 "nbformat": 4,
 "nbformat_minor": 5
}
