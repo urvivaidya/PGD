{
 "cells": [
  {
   "cell_type": "markdown",
   "metadata": {},
   "source": [
    "# Introduction to Python"
   ]
  },
  {
   "cell_type": "raw",
   "metadata": {
    "raw_mimetype": "text/markdown"
   },
   "source": [
    "# check the system version\n",
    "# Anything starting with a \"#\" means its a comment\n",
    "\n",
    "# multiple text editors for coding in python (For example – Jupyter, Spyder, ipythonnb and so on)\n",
    "# we will coding in jupyter\n",
    "\n",
    "# how to create a new python workbook ?\n",
    "# how to open an existing one ?\n",
    "# brief about where Python functions and change it ?\n",
    "\n",
    "# shortcut for executing a cell - Shift + enter\n",
    "# how to create a cell above or below ? \n",
    "\n",
    "###### few shortcuts \n",
    "\n",
    "# ----- get into edit mode using ctrl + m\n",
    "# ----- new cell above - a\n",
    "# ----- new cell below - b\n",
    "# ----- explore shortcuts - ctrl + m + h (that is h - help)\n",
    "# ----- enter to edit the cell\n",
    "\n",
    "\n",
    "#the cells by default display only the last result \n"
   ]
  },
  {
   "cell_type": "code",
   "execution_count": null,
   "metadata": {},
   "outputs": [],
   "source": [
    "#check the system version\n",
    "import sys\n",
    "print(sys.version)"
   ]
  },
  {
   "cell_type": "code",
   "execution_count": null,
   "metadata": {},
   "outputs": [],
   "source": [
    "import sys"
   ]
  },
  {
   "cell_type": "code",
   "execution_count": null,
   "metadata": {},
   "outputs": [],
   "source": [
    "print(sys.version)"
   ]
  },
  {
   "cell_type": "code",
   "execution_count": null,
   "metadata": {},
   "outputs": [],
   "source": [
    "x = \"intro to numpy\"\n",
    "print(x)"
   ]
  },
  {
   "cell_type": "code",
   "execution_count": null,
   "metadata": {},
   "outputs": [],
   "source": [
    "name = \"Ekta Shah\"\n",
    "print(name)"
   ]
  },
  {
   "cell_type": "code",
   "execution_count": null,
   "metadata": {},
   "outputs": [],
   "source": [
    "print(type(name))"
   ]
  },
  {
   "cell_type": "code",
   "execution_count": null,
   "metadata": {},
   "outputs": [],
   "source": [
    "y=5\n",
    "x='datascience'\n",
    "print(type(y))\n",
    "print(type(x))\n",
    "print(y)\n",
    "print(x)"
   ]
  },
  {
   "cell_type": "code",
   "execution_count": null,
   "metadata": {},
   "outputs": [],
   "source": [
    "a=5\n",
    "b=4\n",
    "print(a+b)\n",
    "print(a-b)\n",
    "print(a*b)\n",
    "print(a/b)\n",
    "print(b**3)\n",
    "print(a%b)"
   ]
  },
  {
   "cell_type": "code",
   "execution_count": null,
   "metadata": {},
   "outputs": [],
   "source": [
    "#Taking input as a string\n",
    "name = input(\"Enter the name : \")\n",
    "print(\"Name entered is : \", name)"
   ]
  },
  {
   "cell_type": "code",
   "execution_count": null,
   "metadata": {},
   "outputs": [],
   "source": [
    "#Input numbers from user\n",
    "num1 = int(input(\"Enter the num1:\"))\n",
    "num2 = int(input(\"Enter the num2:\"))\n",
    "print(\"Addition :\",num1+num2)\n",
    "print(\"Subtraction:\",num1-num2)\n",
    "print(\"Multiplication:\",num1*num2)\n",
    "print(\"Division:\",num1/num2)\n",
    "print(\"Squaring:\",num1**2)\n",
    "print(\"Modulus:\",num1%num2)"
   ]
  },
  {
   "cell_type": "code",
   "execution_count": null,
   "metadata": {},
   "outputs": [],
   "source": [
    "x=10\n",
    "print(x)"
   ]
  },
  {
   "cell_type": "code",
   "execution_count": null,
   "metadata": {},
   "outputs": [],
   "source": [
    "print(8+3)\n",
    "print(5*2)"
   ]
  },
  {
   "cell_type": "code",
   "execution_count": null,
   "metadata": {},
   "outputs": [],
   "source": [
    "t1 = 5\n",
    "t2 = 0.55\n",
    "t3 = -5/2\n",
    "t4 = \"data science\"\n",
    "t5 = 'data science'\n",
    "\n",
    "print(t1)\n",
    "print(t2)\n",
    "print(t3)\n",
    "print(t4)\n",
    "print(t5)\n",
    "print(\"\")\n",
    "print(t1,t2,t3,t4,t5)\n",
    "\n",
    "#print(t1 t2 t3 t4 t5)\n",
    "\n",
    "\n",
    "# single/double intverted comma's creates the character variables\n",
    "# to print multiple results, we can use commo sepearator"
   ]
  },
  {
   "cell_type": "code",
   "execution_count": null,
   "metadata": {},
   "outputs": [],
   "source": [
    "print(t1)\n",
    "print(T1)"
   ]
  },
  {
   "cell_type": "code",
   "execution_count": null,
   "metadata": {},
   "outputs": [],
   "source": [
    "print(t1)\n",
    "T1 = 'test_value'\n",
    "print(T1)\n",
    "#important thing to note - python is case sensitive \n",
    "# X and x does not means the same thing"
   ]
  },
  {
   "cell_type": "markdown",
   "metadata": {},
   "source": [
    "### Variable Naming\n",
    "\n",
    "\n",
    "You can pretty much chose any name as a variable name, however there are few rules that you'd need to follow\n",
    "\n",
    "\n",
    "* Variable names can not have spaces in between.\n",
    "* They can not contain any special character except underscore [i.e. _ ]\n",
    "* Variable names can not start with a number , however you can have numbers anywhere else in the variable name\n",
    "\n",
    "\n",
    "In addition to these rules there are few good practices when you are naming your variables. Google python style guide  recommends following way of naming variables based on what type of variables they are.\n",
    "\n",
    "\n",
    "module_name, package_name, ClassName, method_name, ExceptionName, function_name, \n",
    "GLOBAL_CONSTANT_NAME, global_var_name, instance_var_name, \n",
    "function_parameter_name, local_var_name\n",
    "\n",
    "\n",
    "*Note: Its not mandatory to use underscore with long variable names , just that it makes your variable name easily readable.*\n",
    "\n",
    "Lets see an example below , you decide yourself which variable name is more readable."
   ]
  },
  {
   "cell_type": "code",
   "execution_count": null,
   "metadata": {},
   "outputs": [],
   "source": [
    "isthisareadablename=3\n",
    "# to break cells in two : ctrl shift -"
   ]
  },
  {
   "cell_type": "code",
   "execution_count": null,
   "metadata": {},
   "outputs": [],
   "source": [
    "_or_this_is_more_readable_despite_being_longer=4"
   ]
  },
  {
   "cell_type": "markdown",
   "metadata": {},
   "source": [
    "**Reserved Words:**\n",
    "\n",
    "\n",
    "['False', 'None', 'True', 'and', 'as', 'assert', 'break', 'class', 'continue', 'def', 'del', 'elif', 'else', 'except', 'finally', 'for', 'from', 'global', 'if', 'import', 'in', 'is', 'lambda', 'nonlocal', 'not', 'or', 'pass', 'raise', 'return', 'try', 'while', 'with', 'yield']\n",
    "\n"
   ]
  },
  {
   "cell_type": "code",
   "execution_count": null,
   "metadata": {},
   "outputs": [],
   "source": [
    "and = 4"
   ]
  },
  {
   "cell_type": "markdown",
   "metadata": {},
   "source": [
    "\n",
    "### variable types\n",
    "\n"
   ]
  },
  {
   "cell_type": "code",
   "execution_count": null,
   "metadata": {},
   "outputs": [],
   "source": [
    "print(t1, \"is of type\",type(t1))\n",
    "print(t2, type(t2))\n",
    "print(t3, type(t3))\n",
    "print(t4, type(t4))\n",
    "print(t5, type(t5))"
   ]
  },
  {
   "cell_type": "code",
   "execution_count": null,
   "metadata": {},
   "outputs": [],
   "source": [
    "x=\"5\"\n",
    "type(x)"
   ]
  },
  {
   "cell_type": "code",
   "execution_count": null,
   "metadata": {},
   "outputs": [],
   "source": [
    "x+\"2\""
   ]
  },
  {
   "cell_type": "code",
   "execution_count": null,
   "metadata": {},
   "outputs": [],
   "source": [
    "int(x)+2"
   ]
  },
  {
   "cell_type": "code",
   "execution_count": null,
   "metadata": {},
   "outputs": [],
   "source": [
    "x=\"1111\"\n",
    "type(x)"
   ]
  },
  {
   "cell_type": "code",
   "execution_count": null,
   "metadata": {},
   "outputs": [],
   "source": [
    "int(x)"
   ]
  },
  {
   "cell_type": "code",
   "execution_count": null,
   "metadata": {},
   "outputs": [],
   "source": [
    "x=\"42\"\n",
    "x=int(x)"
   ]
  },
  {
   "cell_type": "code",
   "execution_count": null,
   "metadata": {},
   "outputs": [],
   "source": [
    "print(x)\n",
    "type(x)"
   ]
  },
  {
   "cell_type": "code",
   "execution_count": null,
   "metadata": {},
   "outputs": [],
   "source": [
    "x = \"42\"\n",
    "print(int(x))\n",
    "print(type(x))\n",
    "\n",
    "print(\"Changing the structure & reasigning it\")\n",
    "x = int(x)\n",
    "print(type(x))"
   ]
  },
  {
   "cell_type": "code",
   "execution_count": null,
   "metadata": {},
   "outputs": [],
   "source": [
    "x=int(x)\n",
    "type(x)\n",
    "\n",
    "# please note - int(x) doesn't changes type of x. to do that you need to replace the variable"
   ]
  },
  {
   "cell_type": "code",
   "execution_count": null,
   "metadata": {},
   "outputs": [],
   "source": [
    "#Data types in python\n",
    "\n",
    "# There are different data types in python\n",
    "# 1. Numeric\n",
    "#     A. Integer\n",
    "#     B. Float\n",
    "# 2. String\n",
    "\n",
    "#only about numeric\n",
    "\n",
    "int1 = 5\n",
    "int2 = 10\n",
    "float1 = 5.25\n",
    "float2 = -0.56\n",
    "none_value = None\n",
    "\n",
    "print(int1/int2)\n",
    "print(int2*int1)\n",
    "print(float1/float2)\n",
    "print(int1/float1)\n",
    "print(float2/int2)\n",
    "print(none_value)\n",
    "\n",
    "print(type(int1/int2))\n",
    "print(type(int2*int1))\n",
    "print(type(float1/float2))\n",
    "print(type(int1/float1))\n",
    "print(type(float2/int2))\n",
    "print(type(none_value))"
   ]
  },
  {
   "cell_type": "code",
   "execution_count": null,
   "metadata": {},
   "outputs": [],
   "source": [
    "int(float1),int(float2)"
   ]
  },
  {
   "cell_type": "code",
   "execution_count": null,
   "metadata": {},
   "outputs": [],
   "source": [
    "int(none_value)"
   ]
  },
  {
   "cell_type": "code",
   "execution_count": null,
   "metadata": {},
   "outputs": [],
   "source": [
    "str(none_value)"
   ]
  },
  {
   "cell_type": "code",
   "execution_count": null,
   "metadata": {},
   "outputs": [],
   "source": [
    "str(5)\n"
   ]
  },
  {
   "cell_type": "markdown",
   "metadata": {},
   "source": [
    "### Numeric Operations \n",
    "\n",
    "for simple algebaric operations , usual symbols work. Below are some examples."
   ]
  },
  {
   "cell_type": "code",
   "execution_count": null,
   "metadata": {},
   "outputs": [],
   "source": [
    "x=1.22\n",
    "y=20\n",
    "x+y"
   ]
  },
  {
   "cell_type": "code",
   "execution_count": null,
   "metadata": {},
   "outputs": [],
   "source": [
    "x-y"
   ]
  },
  {
   "cell_type": "code",
   "execution_count": null,
   "metadata": {},
   "outputs": [],
   "source": [
    "x*y"
   ]
  },
  {
   "cell_type": "code",
   "execution_count": null,
   "metadata": {},
   "outputs": [],
   "source": [
    "x/y"
   ]
  },
  {
   "cell_type": "markdown",
   "metadata": {},
   "source": [
    "you can do multiple operations separated by comma"
   ]
  },
  {
   "cell_type": "code",
   "execution_count": null,
   "metadata": {},
   "outputs": [],
   "source": [
    "x+2,y+3,x+y,x**(x+y)"
   ]
  },
  {
   "cell_type": "code",
   "execution_count": null,
   "metadata": {},
   "outputs": [],
   "source": [
    "# x^y : this is not same x**y \n",
    "x=2\n",
    "y=1\n",
    "x^y"
   ]
  },
  {
   "cell_type": "markdown",
   "metadata": {},
   "source": [
    "you need to use double asterisks for exponents as shown below"
   ]
  },
  {
   "cell_type": "code",
   "execution_count": null,
   "metadata": {},
   "outputs": [],
   "source": [
    "x=2\n",
    "y=3\n",
    "x**y"
   ]
  },
  {
   "cell_type": "code",
   "execution_count": null,
   "metadata": {},
   "outputs": [],
   "source": [
    "z=(x+y)**x - y/x\n",
    "z"
   ]
  },
  {
   "cell_type": "code",
   "execution_count": null,
   "metadata": {},
   "outputs": [],
   "source": [
    "a,b,c,d=x+2,y+3,x+y,x**(x+y)\n",
    "\n",
    "print(a,b,c,d)"
   ]
  },
  {
   "cell_type": "code",
   "execution_count": null,
   "metadata": {},
   "outputs": [],
   "source": [
    "# not allowed\n",
    "a,b,c=2"
   ]
  },
  {
   "cell_type": "markdown",
   "metadata": {},
   "source": [
    "\n",
    "You should either do this :"
   ]
  },
  {
   "cell_type": "code",
   "execution_count": null,
   "metadata": {},
   "outputs": [],
   "source": [
    "a,b,c=2,3,5\n",
    "print(a,b,c)"
   ]
  },
  {
   "cell_type": "markdown",
   "metadata": {},
   "source": [
    "Or this :"
   ]
  },
  {
   "cell_type": "code",
   "execution_count": null,
   "metadata": {},
   "outputs": [],
   "source": [
    "a,b,c=[2,2,2]\n",
    "a,b,c"
   ]
  },
  {
   "cell_type": "markdown",
   "metadata": {},
   "source": [
    "Or this:"
   ]
  },
  {
   "cell_type": "code",
   "execution_count": null,
   "metadata": {},
   "outputs": [],
   "source": [
    "a,b,c=[2]*3\n",
    "a,b,c"
   ]
  },
  {
   "cell_type": "code",
   "execution_count": null,
   "metadata": {},
   "outputs": [],
   "source": [
    "x = 'python'\n",
    "print(x*3)\n",
    "print(x+\"$$$$$\"+x)"
   ]
  },
  {
   "cell_type": "markdown",
   "metadata": {},
   "source": [
    "### Logical values and Operations\n"
   ]
  },
  {
   "cell_type": "code",
   "execution_count": null,
   "metadata": {},
   "outputs": [],
   "source": [
    "x=True\n",
    "y=False"
   ]
  },
  {
   "cell_type": "code",
   "execution_count": null,
   "metadata": {},
   "outputs": [],
   "source": [
    "type(x)"
   ]
  },
  {
   "cell_type": "code",
   "execution_count": null,
   "metadata": {},
   "outputs": [],
   "source": [
    "type(y)"
   ]
  },
  {
   "cell_type": "code",
   "execution_count": null,
   "metadata": {},
   "outputs": [],
   "source": [
    "x and y"
   ]
  },
  {
   "cell_type": "code",
   "execution_count": null,
   "metadata": {},
   "outputs": [],
   "source": [
    "x & y"
   ]
  },
  {
   "cell_type": "code",
   "execution_count": null,
   "metadata": {},
   "outputs": [],
   "source": [
    "x or y"
   ]
  },
  {
   "cell_type": "code",
   "execution_count": null,
   "metadata": {},
   "outputs": [],
   "source": [
    "x | y"
   ]
  },
  {
   "cell_type": "code",
   "execution_count": null,
   "metadata": {},
   "outputs": [],
   "source": [
    "not y"
   ]
  },
  {
   "cell_type": "code",
   "execution_count": null,
   "metadata": {},
   "outputs": [],
   "source": [
    "!x \n",
    "#doesn't works in python"
   ]
  },
  {
   "cell_type": "code",
   "execution_count": null,
   "metadata": {},
   "outputs": [],
   "source": [
    "x= 2 \n",
    "y= 3"
   ]
  },
  {
   "cell_type": "code",
   "execution_count": null,
   "metadata": {},
   "outputs": [],
   "source": [
    "# Is x not equal to y ? \n",
    "\n",
    "print(x != y)\n",
    "\n",
    "\n",
    "# Is x equal to y ? \n",
    "print(x == y)"
   ]
  },
  {
   "cell_type": "markdown",
   "metadata": {},
   "source": [
    "### String values and operations\n",
    "\n"
   ]
  },
  {
   "cell_type": "code",
   "execution_count": null,
   "metadata": {},
   "outputs": [],
   "source": [
    "# A lot of functions today are specifically for string (i.e. Text) !!! \n",
    "# For example - Text Analytics or the most common - (Google search engine)\n",
    "# Doing that is very easy in python \n",
    "\n",
    "# single , double or even triple means string\n",
    "# double or triple quote is used specifically when we need ' in the character (the other way is using \\)\n",
    "\n",
    "x = 'Bombay'\n",
    "y = \"Banglore\"\n",
    "x,y"
   ]
  },
  {
   "cell_type": "code",
   "execution_count": null,
   "metadata": {},
   "outputs": [],
   "source": [
    "check = ''' She said, \"Learning python is an interesting but tedious job ! Yups's\" '''\n",
    "print(check)\n",
    "print(\"\")\n",
    "\n",
    "# escape character\n",
    "check2 = ' She said, \"Learning python is an interesting but tedious job ! Yups\\'s\" '\n",
    "print(check2)\n",
    "print(\"\")\n",
    "\n",
    "\"\\ - is telling python that the next character is a character please treat it like that\"\n",
    "\n",
    "print(\"\")\n",
    "para = '''First line\n",
    "second line\n",
    "third line'''\n",
    "print(para)"
   ]
  },
  {
   "cell_type": "code",
   "execution_count": null,
   "metadata": {},
   "outputs": [],
   "source": [
    "x= \"string\"\n",
    "print(x)"
   ]
  },
  {
   "cell_type": "code",
   "execution_count": null,
   "metadata": {},
   "outputs": [],
   "source": [
    "dir(\"abc\")\n",
    "#dir('abc') -- results in same output"
   ]
  },
  {
   "cell_type": "code",
   "execution_count": null,
   "metadata": {},
   "outputs": [],
   "source": [
    "print(x,\"lenght of x\",len(x))\n",
    "\n",
    "print(y,\"lenght of y\",len(y)) #to get the length of the string"
   ]
  },
  {
   "cell_type": "code",
   "execution_count": null,
   "metadata": {},
   "outputs": [],
   "source": [
    "x+y #concatenation"
   ]
  },
  {
   "cell_type": "code",
   "execution_count": null,
   "metadata": {},
   "outputs": [],
   "source": [
    "x+\" \"+\"fnbnv\"+\" \"+y #while concatenating -- other operations can be added"
   ]
  },
  {
   "cell_type": "code",
   "execution_count": null,
   "metadata": {},
   "outputs": [],
   "source": [
    "x=\"Bombay\""
   ]
  },
  {
   "cell_type": "code",
   "execution_count": null,
   "metadata": {},
   "outputs": [],
   "source": [
    "z=x+\" to \"+y\n",
    "z"
   ]
  },
  {
   "cell_type": "code",
   "execution_count": null,
   "metadata": {},
   "outputs": [],
   "source": [
    "print(z.upper())\n",
    "print(z)"
   ]
  },
  {
   "cell_type": "code",
   "execution_count": null,
   "metadata": {},
   "outputs": [],
   "source": [
    "z = z.upper()\n",
    "print(z)"
   ]
  },
  {
   "cell_type": "code",
   "execution_count": null,
   "metadata": {},
   "outputs": [],
   "source": [
    "z.lower()"
   ]
  },
  {
   "cell_type": "code",
   "execution_count": null,
   "metadata": {},
   "outputs": [],
   "source": [
    "z.capitalize()"
   ]
  },
  {
   "cell_type": "code",
   "execution_count": null,
   "metadata": {},
   "outputs": [],
   "source": [
    "len(z)"
   ]
  },
  {
   "cell_type": "code",
   "execution_count": null,
   "metadata": {},
   "outputs": [],
   "source": [
    "print(z.rjust(30))\n",
    "# 20 is string length after padding with space"
   ]
  },
  {
   "cell_type": "code",
   "execution_count": null,
   "metadata": {},
   "outputs": [],
   "source": [
    "print(z.ljust(30))"
   ]
  },
  {
   "cell_type": "code",
   "execution_count": null,
   "metadata": {},
   "outputs": [],
   "source": [
    "print(z.center(30))"
   ]
  },
  {
   "cell_type": "code",
   "execution_count": null,
   "metadata": {},
   "outputs": [],
   "source": [
    "z"
   ]
  },
  {
   "cell_type": "code",
   "execution_count": null,
   "metadata": {},
   "outputs": [],
   "source": [
    "z=\"   \"+z+\"    \"\n",
    "z"
   ]
  },
  {
   "cell_type": "code",
   "execution_count": null,
   "metadata": {},
   "outputs": [],
   "source": [
    "z.lstrip()"
   ]
  },
  {
   "cell_type": "code",
   "execution_count": null,
   "metadata": {},
   "outputs": [],
   "source": [
    "z = z.rstrip()"
   ]
  },
  {
   "cell_type": "code",
   "execution_count": null,
   "metadata": {},
   "outputs": [],
   "source": [
    "z"
   ]
  },
  {
   "cell_type": "code",
   "execution_count": null,
   "metadata": {},
   "outputs": [],
   "source": [
    "x = 'abc ##$'"
   ]
  },
  {
   "cell_type": "code",
   "execution_count": null,
   "metadata": {},
   "outputs": [],
   "source": [
    "x.strip(\"c\")"
   ]
  },
  {
   "cell_type": "code",
   "execution_count": null,
   "metadata": {},
   "outputs": [],
   "source": [
    "print(x.strip())\n",
    "print(x.strip('$'))\n",
    "print(x.strip('#'))\n",
    "print(x.strip('a'))\n",
    "\n",
    "# -- cannot strip anything in between"
   ]
  },
  {
   "cell_type": "code",
   "execution_count": null,
   "metadata": {},
   "outputs": [],
   "source": [
    "z"
   ]
  },
  {
   "cell_type": "code",
   "execution_count": null,
   "metadata": {},
   "outputs": [],
   "source": [
    "print(z)\n",
    "z.replace(\"B\",\"$#@\")"
   ]
  },
  {
   "cell_type": "markdown",
   "metadata": {},
   "source": [
    "can i remove all white spaces . find out if a function like compress is there in python"
   ]
  },
  {
   "cell_type": "code",
   "execution_count": null,
   "metadata": {},
   "outputs": [],
   "source": [
    "print(z)\n",
    "z=z.strip()\n",
    "z"
   ]
  },
  {
   "cell_type": "code",
   "execution_count": null,
   "metadata": {},
   "outputs": [],
   "source": [
    "print(z)\n",
    "\n",
    "k=z.split(\"A\")\n",
    "print(k)"
   ]
  },
  {
   "cell_type": "code",
   "execution_count": null,
   "metadata": {},
   "outputs": [],
   "source": [
    "print(k)"
   ]
  },
  {
   "cell_type": "code",
   "execution_count": null,
   "metadata": {},
   "outputs": [],
   "source": [
    "print(type(k))"
   ]
  },
  {
   "cell_type": "code",
   "execution_count": null,
   "metadata": {},
   "outputs": [],
   "source": [
    "a,b,c=k"
   ]
  },
  {
   "cell_type": "code",
   "execution_count": null,
   "metadata": {},
   "outputs": [],
   "source": [
    "b"
   ]
  },
  {
   "cell_type": "markdown",
   "metadata": {},
   "source": [
    "Input() Function "
   ]
  },
  {
   "cell_type": "code",
   "execution_count": null,
   "metadata": {},
   "outputs": [],
   "source": [
    "input()"
   ]
  },
  {
   "cell_type": "code",
   "execution_count": null,
   "metadata": {},
   "outputs": [],
   "source": [
    "z = int(input())"
   ]
  },
  {
   "cell_type": "code",
   "execution_count": null,
   "metadata": {},
   "outputs": [],
   "source": [
    "z"
   ]
  },
  {
   "cell_type": "markdown",
   "metadata": {},
   "source": [
    "Solve Assignment 1 :\n",
    "Q5,Q9,Q11,Q12,Q16,Q17"
   ]
  },
  {
   "cell_type": "markdown",
   "metadata": {},
   "source": [
    "## Subsetting a string with indices\n",
    "\n",
    "For extracting a part of the string, we don’t need a special function. We can simple indexing using square brackets “[]”. While using this indexing , we need to keep few things in mind\n",
    "\n",
    "* counting starts with 0. first character gets counted as zero\n",
    "* [a:b] , means starting at ath position and extracting until (b-1)th position \n",
    "* [a:] , means starting at ath position till end\n",
    "* [:a], means starting at the beginning until (a-1)th position\n",
    "\n",
    "negative sign with indices mean counting from right instead of natural left.\n",
    "\n",
    "* [:-a], means starting at the beginning and going up til ath position from end. counting from end also starts with 0.\n",
    "* [-a:], means starting at (a-1)th character from the end and going up till last character.\n",
    "* [a:-b], means starting at ath character at the beginning and going till bth position from end\n",
    "* [-a:-b], means starting at (a+1)th character from the end and going up till bth position from end\n",
    "\n",
    "Lets see these in action"
   ]
  },
  {
   "cell_type": "code",
   "execution_count": null,
   "metadata": {},
   "outputs": [],
   "source": [
    "x='somethingtosay'\n",
    "\n",
    "# a String on n characters is numbered as - \n",
    "# 0,1,2,...n-1 or backwards -1,-2,...\n",
    "print(x[0])\n",
    "print(x[0:5])\n",
    "print(x[2:])\n",
    "print(x[:6])"
   ]
  },
  {
   "cell_type": "code",
   "execution_count": null,
   "metadata": {},
   "outputs": [],
   "source": [
    "z= \"0123456789\""
   ]
  },
  {
   "cell_type": "code",
   "execution_count": null,
   "metadata": {},
   "outputs": [],
   "source": [
    "type(z)"
   ]
  },
  {
   "cell_type": "code",
   "execution_count": null,
   "metadata": {},
   "outputs": [],
   "source": [
    "print(z)\n",
    "z[2:] #--- this is called slice in python, also note '10' is not included"
   ]
  },
  {
   "cell_type": "code",
   "execution_count": null,
   "metadata": {},
   "outputs": [],
   "source": [
    "print(z)\n",
    "z[3:]"
   ]
  },
  {
   "cell_type": "code",
   "execution_count": null,
   "metadata": {},
   "outputs": [],
   "source": [
    "print(z)\n",
    "z[:3]"
   ]
  },
  {
   "cell_type": "code",
   "execution_count": null,
   "metadata": {},
   "outputs": [],
   "source": [
    "print(z)\n",
    "z[:-3]\n",
    "z[-1]\n",
    "z[-5:]\n",
    "z[:-4]\n",
    "z[-9:-5]"
   ]
  },
  {
   "cell_type": "code",
   "execution_count": null,
   "metadata": {},
   "outputs": [],
   "source": [
    "#print(z)\n",
    "#z[-3:]\n",
    "print(len(z))\n",
    "print(z[len(z)-2])\n",
    "z[9]"
   ]
  },
  {
   "cell_type": "code",
   "execution_count": null,
   "metadata": {},
   "outputs": [],
   "source": [
    "print(z)\n",
    "print(z[::-1])\n",
    "print(z[::-3])\n",
    "# we can also reverse the statement"
   ]
  },
  {
   "cell_type": "code",
   "execution_count": null,
   "metadata": {},
   "outputs": [],
   "source": [
    "len(z)"
   ]
  },
  {
   "cell_type": "code",
   "execution_count": null,
   "metadata": {},
   "outputs": [],
   "source": [
    "print(z[len(z)-1])"
   ]
  },
  {
   "cell_type": "code",
   "execution_count": null,
   "metadata": {},
   "outputs": [],
   "source": [
    "print(z)\n",
    "\n",
    "print(z[-1:-10])\n",
    "print(z[-9:-1])\n",
    "\n",
    "print(z[-1:-10 :-1])\n",
    "# we can do that in steps as well"
   ]
  },
  {
   "cell_type": "code",
   "execution_count": null,
   "metadata": {},
   "outputs": [],
   "source": [
    "print(z)\n",
    "z[3:-3]"
   ]
  },
  {
   "cell_type": "code",
   "execution_count": null,
   "metadata": {},
   "outputs": [],
   "source": [
    "print(z)\n",
    "z[-6:-2]"
   ]
  },
  {
   "cell_type": "code",
   "execution_count": null,
   "metadata": {},
   "outputs": [],
   "source": [
    "#please note python doesn't allow modification within the string\n",
    "\n",
    "z = 'Hello'\n",
    "print(z)\n",
    "# lets say you want to make it \"help!\"\n",
    "# will this work ?\n",
    "\n",
    "z[3:]='p!'\n",
    "\n",
    "# String are immutable"
   ]
  },
  {
   "cell_type": "code",
   "execution_count": null,
   "metadata": {},
   "outputs": [],
   "source": [
    "#Other idea\n",
    "print(z)\n",
    "print(\"\")\n",
    "\n",
    "z = z[:3]+\"p!\"\n",
    "print(z)\n",
    "\n",
    "#PLEASE NOTE - String are imutuale - meaning this new Z is NEW !!!!!"
   ]
  },
  {
   "cell_type": "code",
   "execution_count": null,
   "metadata": {},
   "outputs": [],
   "source": [
    "z='aabbccdd-AABBCCDD'"
   ]
  },
  {
   "cell_type": "code",
   "execution_count": null,
   "metadata": {},
   "outputs": [],
   "source": [
    "print(z)\n",
    "z.count(\"B\")\n",
    "# note \"B\" is not included"
   ]
  },
  {
   "cell_type": "code",
   "execution_count": null,
   "metadata": {},
   "outputs": [],
   "source": [
    "x=100\n",
    "y=-90\n",
    "\n",
    "x==y"
   ]
  },
  {
   "cell_type": "code",
   "execution_count": null,
   "metadata": {},
   "outputs": [],
   "source": [
    "x!=y"
   ]
  },
  {
   "cell_type": "code",
   "execution_count": null,
   "metadata": {},
   "outputs": [],
   "source": [
    "x>y"
   ]
  },
  {
   "cell_type": "code",
   "execution_count": null,
   "metadata": {},
   "outputs": [],
   "source": [
    "x<y"
   ]
  },
  {
   "cell_type": "code",
   "execution_count": null,
   "metadata": {},
   "outputs": [],
   "source": [
    "x>=y"
   ]
  },
  {
   "cell_type": "code",
   "execution_count": null,
   "metadata": {},
   "outputs": [],
   "source": [
    "x<=y"
   ]
  },
  {
   "cell_type": "code",
   "execution_count": null,
   "metadata": {},
   "outputs": [],
   "source": [
    "x=\"assignmenta\"\n",
    "y=\"assignment\"\n",
    "\n",
    "y in x"
   ]
  },
  {
   "cell_type": "code",
   "execution_count": null,
   "metadata": {},
   "outputs": [],
   "source": [
    "x>y"
   ]
  },
  {
   "cell_type": "code",
   "execution_count": null,
   "metadata": {},
   "outputs": [],
   "source": [
    "x not in y"
   ]
  },
  {
   "cell_type": "code",
   "execution_count": null,
   "metadata": {},
   "outputs": [],
   "source": [
    "x='abc'\n",
    "y='pqr'\n",
    "x < y"
   ]
  },
  {
   "cell_type": "code",
   "execution_count": null,
   "metadata": {},
   "outputs": [],
   "source": [
    "x > y"
   ]
  },
  {
   "cell_type": "code",
   "execution_count": null,
   "metadata": {},
   "outputs": [],
   "source": [
    "x=\"Aaaaaaaaa\"\n",
    "y=\"Aaajsa\"\n",
    "x>y"
   ]
  },
  {
   "cell_type": "code",
   "execution_count": null,
   "metadata": {},
   "outputs": [],
   "source": [
    "print(56,45,89);\n",
    "\n",
    "print(\"test\")"
   ]
  },
  {
   "cell_type": "markdown",
   "metadata": {},
   "source": [
    "### If-else if condition"
   ]
  },
  {
   "cell_type": "code",
   "execution_count": null,
   "metadata": {},
   "outputs": [],
   "source": [
    "# Control Flow\n",
    "\n",
    "if True:\n",
    "    print(\"Print if True\")\n",
    "    \n",
    "if False:\n",
    "    print(\"Print if False\")"
   ]
  },
  {
   "cell_type": "code",
   "execution_count": null,
   "metadata": {},
   "outputs": [],
   "source": [
    "x = 5\n",
    "\n",
    "if x == 5:\n",
    "    print(\"Yes! x = 5\")\n",
    "    print(\"You are correct!\")\n",
    "    print(\"congratulations\")\n",
    "\n",
    "if x !=5:\n",
    "    print(\"No! x not equal to 5\")\n",
    "    print(\"I am sorry, You are wrong\")\n",
    "\n",
    "print(\"Outside the if function\")\n",
    "\n",
    "#intendation - If conditions in python work with intend only"
   ]
  },
  {
   "cell_type": "code",
   "execution_count": null,
   "metadata": {},
   "outputs": [],
   "source": [
    "#example of intend error\n",
    "if x == 5:\n",
    "print(\"Yes\")"
   ]
  },
  {
   "cell_type": "code",
   "execution_count": null,
   "metadata": {},
   "outputs": [],
   "source": [
    "score = int(input(\"Enter your test score : \"))\n",
    "passing = 40\n",
    "distinction = 90"
   ]
  },
  {
   "cell_type": "code",
   "execution_count": null,
   "metadata": {},
   "outputs": [],
   "source": [
    "if score >= distinction:\n",
    "    print(\"You're at the top! You’ve earned a distinction!\")\n",
    "\n",
    "if score >= passing :\n",
    "    print(\"You have passed!\")\n",
    "\n",
    "if score < passing:\n",
    "    print(\"Sorry! You have failed\")\n"
   ]
  },
  {
   "cell_type": "code",
   "execution_count": null,
   "metadata": {},
   "outputs": [],
   "source": [
    "if score>90:\n",
    "    print(\"TOP\")\n",
    "    \n",
    "elif  score>85:\n",
    "    print(\"Distinction\")\n",
    "elif score >=60:\n",
    "    print(\"First Class\")\n",
    "elif score >=40:\n",
    "    print(\"Second Class\")\n",
    "\n",
    "else:\n",
    "    print(\"Failed\")"
   ]
  },
  {
   "cell_type": "code",
   "execution_count": null,
   "metadata": {},
   "outputs": [],
   "source": [
    "statement = \"The coffee is bad\"\n",
    "\n",
    "if 'bad' in statement:\n",
    "    print(\"Bad review!\")\n",
    "\n",
    "statement2 = \"This phone works great\"\n",
    "\n",
    "if 'bad' not in statement2:\n",
    "    print(\"This is not a bad review\")\n"
   ]
  },
  {
   "cell_type": "code",
   "execution_count": null,
   "metadata": {},
   "outputs": [],
   "source": [
    "num = int(input(\"Enter a number: \"))\n",
    "\n",
    "#enter 24\n",
    "\n",
    "if num%2==0:\n",
    "    print(\"Even\")\n",
    "    if num%4==0:    \n",
    "        print(\"divisible by 4\")\n",
    "    else:\n",
    "        print(\"Not divisible by 4\")\n",
    "        \n",
    "        \n",
    "else:\n",
    "    print(\"Odd\")\n",
    "    if num%3==0:\n",
    "        print(\"Divisible by 3\")\n",
    "    else:\n",
    "        print(\"Not divisible by 3\")\n"
   ]
  },
  {
   "cell_type": "markdown",
   "metadata": {},
   "source": [
    "Solve the following questions from assignment 2: Q2,"
   ]
  },
  {
   "cell_type": "markdown",
   "metadata": {},
   "source": [
    "### try & except"
   ]
  },
  {
   "cell_type": "code",
   "execution_count": null,
   "metadata": {},
   "outputs": [],
   "source": [
    "x= int('abc')"
   ]
  },
  {
   "cell_type": "code",
   "execution_count": null,
   "metadata": {},
   "outputs": [],
   "source": [
    "# if the \"try\" works then \"except\" is skipped : else \"except\" is executed\n",
    "\n",
    "# very useful for handling errors in python\n",
    "\n",
    "try:\n",
    "    x = int('abc')\n",
    "except:\n",
    "    x = -1"
   ]
  },
  {
   "cell_type": "code",
   "execution_count": null,
   "metadata": {},
   "outputs": [],
   "source": [
    "print(x)"
   ]
  },
  {
   "cell_type": "code",
   "execution_count": null,
   "metadata": {},
   "outputs": [],
   "source": [
    "num1 = int(input(\"Number 1 :\"))\n",
    "num2 = int(input(\"Number 2 :\"))\n",
    "\n",
    "try:\n",
    "    print(\"try block getting exe\")\n",
    "    print(num1/num2)\n",
    "    print(\"try block finished\")\n",
    "except:\n",
    "    print(\"Cannot divide by 0\")\n",
    "    print(\"Replacing 0 with 0.001\")\n",
    "    print(num1/0.001)\n",
    "    \n",
    "# Readup on try-except-finally "
   ]
  },
  {
   "cell_type": "code",
   "execution_count": null,
   "metadata": {},
   "outputs": [],
   "source": [
    "# The same thing cannot be done using if-else\n",
    "# try & except is used specifically for handling errors \n",
    "\n",
    "#check\n",
    "if True:\n",
    "    x = int('abc')\n",
    "else :\n",
    "    x = -1"
   ]
  },
  {
   "cell_type": "markdown",
   "metadata": {},
   "source": [
    "A code, which may possibly result in error - should be covered under try:except\n",
    "Solve assignment 2 : Q6"
   ]
  },
  {
   "cell_type": "code",
   "execution_count": null,
   "metadata": {},
   "outputs": [],
   "source": [
    "n = float(input(\"Enter Number of Hrs : \"))\n",
    "r = float(input(\"Enter rate / hr : \"))\n",
    "\n",
    "if n > 40:\n",
    "    eh = n - 40\n",
    "    pay = (40*r) + (eh*r*1.5)\n",
    "else :\n",
    "    pay = (n*r)\n",
    "print(pay)    "
   ]
  },
  {
   "cell_type": "code",
   "execution_count": null,
   "metadata": {},
   "outputs": [],
   "source": [
    "try :\n",
    "    \n",
    "    n = float(input(\"Enter Number of Hrs : \"))\n",
    "    r = float(input(\"Enter rate / hr : \"))\n",
    "\n",
    "    if n > 40:\n",
    "        eh = n - 40\n",
    "        pay = (40*r) + (eh*r*1.5)\n",
    "    else :\n",
    "        pay = (n*r)\n",
    "        \n",
    "    print(pay)\n",
    "        \n",
    "except :\n",
    "    print(\"Please input numeric values\")\n",
    "    \n",
    "finally :\n",
    "    print(\"If then ... then collect from Accounts\")\n",
    "    "
   ]
  },
  {
   "cell_type": "markdown",
   "metadata": {},
   "source": [
    "### Lists\n"
   ]
  },
  {
   "cell_type": "code",
   "execution_count": null,
   "metadata": {},
   "outputs": [],
   "source": [
    "x = [1,2,3,70,-10,0,99,\"a\",\"b\",\"c\"]\n",
    "y = [1,True,'string',None]\n",
    "print(x)\n",
    "print(y)"
   ]
  },
  {
   "cell_type": "markdown",
   "metadata": {},
   "source": [
    "selection and slicing works pretty much like strings we saw earlier here also counting starts from 0. Lets look at few examples for the same.\n"
   ]
  },
  {
   "cell_type": "code",
   "execution_count": null,
   "metadata": {},
   "outputs": [],
   "source": [
    "print(type(y))\n",
    "print(type(y[0]))\n",
    "print(type(y[1]))\n",
    "print(type(y[2]))\n",
    "print(type(y[3]))\n",
    "\n",
    "#Python allows this - good but usually you come up to list with each element of 1 single type"
   ]
  },
  {
   "cell_type": "code",
   "execution_count": null,
   "metadata": {},
   "outputs": [],
   "source": [
    "#referring values within the list \n",
    "print(x)\n",
    "print(x[3:7])\n",
    "print(x[5])\n",
    "print(x[3:])\n",
    "print(x[:3])\n",
    "print(x[0:-1])\n",
    "print(x[0:-1:2])\n",
    "print(x[1::2])"
   ]
  },
  {
   "cell_type": "markdown",
   "metadata": {},
   "source": [
    "while accessing the elements with position , we can do replacement/substitution of the values too. Here is how:"
   ]
  },
  {
   "cell_type": "code",
   "execution_count": null,
   "metadata": {},
   "outputs": [],
   "source": [
    "#Replacing values within a list\n",
    "print(x)\n",
    "\n",
    "# Chnging the value of 2nd index i.e. 3rd element\n",
    "x[2]=\"new 2\"\n",
    "\n",
    "print(x)"
   ]
  },
  {
   "cell_type": "code",
   "execution_count": null,
   "metadata": {},
   "outputs": [],
   "source": [
    "print(x)\n",
    "x[2]=\"2 to 4\"\n",
    "print(x)"
   ]
  },
  {
   "cell_type": "code",
   "execution_count": null,
   "metadata": {},
   "outputs": [],
   "source": [
    "x=[0,1,2,3,4,5,6,7,8]\n",
    "print(x)\n",
    "x[2:4]=[\"2 to 4\"]\n",
    "print(x)"
   ]
  },
  {
   "cell_type": "markdown",
   "metadata": {},
   "source": [
    "In case multiple assignment, value is then treated as a list with each char as individual element"
   ]
  },
  {
   "cell_type": "markdown",
   "metadata": {},
   "source": [
    "For a string to be treated as a single word instead of a char list you need to wrap it in a list as shown below"
   ]
  },
  {
   "cell_type": "code",
   "execution_count": null,
   "metadata": {},
   "outputs": [],
   "source": [
    "#find lenght of a list \n",
    "print(x)\n",
    "len(x)"
   ]
  },
  {
   "cell_type": "code",
   "execution_count": null,
   "metadata": {},
   "outputs": [],
   "source": [
    "dir(list)"
   ]
  },
  {
   "cell_type": "code",
   "execution_count": null,
   "metadata": {},
   "outputs": [],
   "source": [
    "x=[0,1,2,3,4,5,6,7,8,9]\n",
    "print(x)\n",
    "\n",
    "x.append(10)\n",
    "print(x)\n",
    "\n",
    "x.append([14,15,16])\n",
    "print(x)\n",
    "len(x)\n",
    "print(x[-1][0])\n",
    "\n",
    "#Note - A list can contain another list and it is called nesting - Nested list"
   ]
  },
  {
   "cell_type": "code",
   "execution_count": null,
   "metadata": {},
   "outputs": [],
   "source": [
    "print(x[11])"
   ]
  },
  {
   "cell_type": "code",
   "execution_count": null,
   "metadata": {},
   "outputs": [],
   "source": [
    "print(x[11][1])"
   ]
  },
  {
   "cell_type": "code",
   "execution_count": null,
   "metadata": {},
   "outputs": [],
   "source": [
    "print(x[11][1:])"
   ]
  },
  {
   "cell_type": "code",
   "execution_count": null,
   "metadata": {},
   "outputs": [],
   "source": [
    "x = [0,1,2,3]\n",
    "print(x)\n",
    "\n",
    "x = x+[4,5,6]\n",
    "print(x)\n",
    "\n",
    "x.extend([7,8,9])\n",
    "print(x)"
   ]
  },
  {
   "cell_type": "code",
   "execution_count": null,
   "metadata": {},
   "outputs": [],
   "source": [
    "print(x)\n",
    "\n",
    "x.insert(8,\"1b\")\n",
    "print(x)\n",
    "\n",
    "#how to insert multiple numbers ?"
   ]
  },
  {
   "cell_type": "code",
   "execution_count": null,
   "metadata": {},
   "outputs": [],
   "source": [
    "print(x)\n",
    "\n",
    "x.remove(\"1b\")\n",
    "print(x)\n",
    "\n",
    "#how to remove multiple numbers ? "
   ]
  },
  {
   "cell_type": "code",
   "execution_count": null,
   "metadata": {},
   "outputs": [],
   "source": [
    "print(x)\n",
    "\n",
    "x.pop()\n",
    "print(x)\n",
    "\n",
    "x.pop(4)\n",
    "print(x)"
   ]
  },
  {
   "cell_type": "code",
   "execution_count": null,
   "metadata": {},
   "outputs": [],
   "source": [
    "print(x)\n",
    "x.remove(4)\n",
    "print(x)"
   ]
  },
  {
   "cell_type": "markdown",
   "metadata": {},
   "source": [
    "```\n",
    "Ex: what if there are multiple occurences of the value which you are trying to remove. Is there a way to remove multiple values at once or a value at a specific position?\n",
    "```"
   ]
  },
  {
   "cell_type": "code",
   "execution_count": null,
   "metadata": {},
   "outputs": [],
   "source": [
    "x = [0,7,8,5,4,3,2,1]\n",
    "print(x)\n",
    "print(x[2])\n",
    "\n",
    "x.sort() # sorts in place\n",
    "print(x)\n",
    "print(x[2])"
   ]
  },
  {
   "cell_type": "code",
   "execution_count": null,
   "metadata": {},
   "outputs": [],
   "source": [
    "y = [\"b\",\"c\",\"z\",\"a\"]\n",
    "print(y)\n",
    "y.sort()\n",
    "print(y)"
   ]
  },
  {
   "cell_type": "code",
   "execution_count": null,
   "metadata": {},
   "outputs": [],
   "source": [
    "# how to sort descending ?"
   ]
  },
  {
   "cell_type": "code",
   "execution_count": null,
   "metadata": {},
   "outputs": [],
   "source": [
    "z = [1,3,2,9,7,\"z\",\"y\",\"abc\"]\n",
    "z.sort()"
   ]
  },
  {
   "cell_type": "code",
   "execution_count": null,
   "metadata": {},
   "outputs": [],
   "source": [
    "x.reverse() # reverses in place\n",
    "print(x)\n",
    "\n",
    "#is there a direct way of sorting in descending manner ?"
   ]
  },
  {
   "cell_type": "code",
   "execution_count": null,
   "metadata": {},
   "outputs": [],
   "source": [
    "# how to insert multiple objects in list at one go ?\n",
    "# how to remove/delete multiple objects in list at one go ?\n",
    "# how to remove same number which is repeating ?\n",
    "# how to sort descending directly ?"
   ]
  },
  {
   "cell_type": "code",
   "execution_count": null,
   "metadata": {},
   "outputs": [],
   "source": [
    "print(x)\n",
    "x.clear()\n",
    "print(x)"
   ]
  },
  {
   "cell_type": "code",
   "execution_count": null,
   "metadata": {},
   "outputs": [],
   "source": [
    "x = [0,7,8,5,4,3,2,1]\n",
    "print(x)\n",
    "x.delete(1)\n",
    "print(x)"
   ]
  },
  {
   "cell_type": "code",
   "execution_count": null,
   "metadata": {},
   "outputs": [],
   "source": [
    "x = [\"abcd\"]"
   ]
  },
  {
   "cell_type": "code",
   "execution_count": null,
   "metadata": {},
   "outputs": [],
   "source": [
    "x.remove(\"abcd\")\n",
    "print(x)"
   ]
  },
  {
   "cell_type": "code",
   "execution_count": null,
   "metadata": {},
   "outputs": [],
   "source": [
    "nested = [ ['ABC', [0] ], [1,2,3] ,5, ['x','y','z'] ,\"char\", (1,2,3)]"
   ]
  },
  {
   "cell_type": "code",
   "execution_count": null,
   "metadata": {},
   "outputs": [],
   "source": [
    "len(nested)"
   ]
  },
  {
   "cell_type": "code",
   "execution_count": null,
   "metadata": {},
   "outputs": [],
   "source": [
    "nested"
   ]
  },
  {
   "cell_type": "code",
   "execution_count": null,
   "metadata": {},
   "outputs": [],
   "source": [
    "print(nested[0])\n",
    "print(nested[1])\n",
    "print(nested[0][1])\n",
    "\n",
    "print(nested[0][1][0])\n",
    "\n",
    "print(nested[1][0:2])"
   ]
  },
  {
   "cell_type": "code",
   "execution_count": null,
   "metadata": {},
   "outputs": [],
   "source": [
    "nested[1]='ABC'\n",
    "print(nested)\n",
    "\n",
    "#lists are mutuable"
   ]
  },
  {
   "cell_type": "markdown",
   "metadata": {},
   "source": [
    "### Tuples\n"
   ]
  },
  {
   "cell_type": "code",
   "execution_count": null,
   "metadata": {},
   "outputs": [],
   "source": [
    "#Tuple - One dimensional, immutable, ordered sequence of items which can be of mixed datatypes\n",
    "\n",
    "#creating a Tuple\n",
    "t2 =(12345,54321,'hello!')\n",
    "\n",
    "t1 = 12345, 54321, 'hello!'\n",
    "\n",
    "print(t1,t2)\n",
    "print(type(t1))"
   ]
  },
  {
   "cell_type": "code",
   "execution_count": null,
   "metadata": {},
   "outputs": [],
   "source": [
    "t =( 12345, 54321, 'hello!',[1,2,3]) # same thing\n",
    "t[3][0]"
   ]
  },
  {
   "cell_type": "code",
   "execution_count": null,
   "metadata": {},
   "outputs": [],
   "source": [
    "t = (12345,54321,'hello',[1,2,3],(1,2,3))\n",
    "t"
   ]
  },
  {
   "cell_type": "code",
   "execution_count": null,
   "metadata": {},
   "outputs": [],
   "source": [
    "u =  t, (1, 2, 3, 4, 5) \n",
    "print(type(u))"
   ]
  },
  {
   "cell_type": "code",
   "execution_count": null,
   "metadata": {},
   "outputs": [],
   "source": [
    "t = 0,1,2,3,['l1','l2','l3'],('t1','t2','t3')\n",
    "t"
   ]
  },
  {
   "cell_type": "code",
   "execution_count": null,
   "metadata": {},
   "outputs": [],
   "source": [
    "#Acess any object from Tuple ?\n",
    "\n",
    "print(t)\n",
    "print(t[0])\n",
    "print(t[-1])\n",
    "print(t[3:])\n",
    "print(t[:3])\n",
    "print(t[0::2])\n",
    "print(t[4])\n",
    "print(t[5])\n",
    "\n",
    "#so you sure can access all values and pretty much same as list"
   ]
  },
  {
   "cell_type": "code",
   "execution_count": null,
   "metadata": {},
   "outputs": [],
   "source": [
    "t[0]=21 # you can not reassign"
   ]
  },
  {
   "cell_type": "code",
   "execution_count": null,
   "metadata": {},
   "outputs": [],
   "source": [
    "t"
   ]
  },
  {
   "cell_type": "code",
   "execution_count": null,
   "metadata": {},
   "outputs": [],
   "source": [
    "t[0]=21"
   ]
  },
  {
   "cell_type": "code",
   "execution_count": null,
   "metadata": {},
   "outputs": [],
   "source": [
    "print(t)\n",
    "\n",
    "t[5][0]='new t1'\n",
    "\n",
    "print(t)"
   ]
  },
  {
   "cell_type": "code",
   "execution_count": null,
   "metadata": {},
   "outputs": [],
   "source": [
    "print(t)\n",
    "t[4] = 0"
   ]
  },
  {
   "cell_type": "code",
   "execution_count": null,
   "metadata": {},
   "outputs": [],
   "source": [
    "t\n",
    "t.append(1)\n",
    "print(t)"
   ]
  },
  {
   "cell_type": "code",
   "execution_count": null,
   "metadata": {},
   "outputs": [],
   "source": [
    "print(t)\n",
    "t.sort()\n",
    "print(t)\n",
    "\n"
   ]
  },
  {
   "cell_type": "code",
   "execution_count": null,
   "metadata": {},
   "outputs": [],
   "source": [
    "len(t)"
   ]
  },
  {
   "cell_type": "code",
   "execution_count": null,
   "metadata": {},
   "outputs": [],
   "source": [
    "t.clear()"
   ]
  },
  {
   "cell_type": "code",
   "execution_count": null,
   "metadata": {},
   "outputs": [],
   "source": [
    "print(t)\n",
    "del(t)"
   ]
  },
  {
   "cell_type": "code",
   "execution_count": null,
   "metadata": {},
   "outputs": [],
   "source": [
    "t"
   ]
  },
  {
   "cell_type": "code",
   "execution_count": null,
   "metadata": {},
   "outputs": [],
   "source": [
    "t = (1,2,3)\n",
    "#t[0]='new1'\n",
    "t = ('new1',2,3)\n",
    "print(t)\n"
   ]
  },
  {
   "cell_type": "markdown",
   "metadata": {},
   "source": [
    "### Difference between list and tuple:\n",
    "\n",
    "*Note :* lets understand the difference between these 2 first\n"
   ]
  },
  {
   "cell_type": "code",
   "execution_count": null,
   "metadata": {},
   "outputs": [],
   "source": [
    "# Both list & tuple are used to store collection of items\n",
    "\n",
    "# The major difference is, list is mutable and tuple is immutable, but surely we can replace the tuple and consider it mutable\n",
    "\n",
    "#To understand this difference, the first thing you need to understand is -- Variable & Object\n",
    "\n",
    "list1 = [1,2,3]\n",
    "print(list1, id(list1) )"
   ]
  },
  {
   "cell_type": "code",
   "execution_count": null,
   "metadata": {},
   "outputs": [],
   "source": [
    "#step2\n",
    "list1[0] = '1-modified'\n",
    "print(list1, id(list1) )"
   ]
  },
  {
   "cell_type": "code",
   "execution_count": null,
   "metadata": {},
   "outputs": [],
   "source": [
    "tuple1 = (1,2,3)\n",
    "print(tuple1, id(tuple1) )"
   ]
  },
  {
   "cell_type": "code",
   "execution_count": null,
   "metadata": {},
   "outputs": [],
   "source": [
    "tuple1 = ('1-modified',2,3)\n",
    "print(tuple1, id(tuple1) )\n",
    "\n",
    "#which means the variable (referencing) changes for tuple but not for list\n",
    "\n",
    "#The above is true for all Mutuable and Immutable types in python"
   ]
  },
  {
   "cell_type": "code",
   "execution_count": null,
   "metadata": {},
   "outputs": [],
   "source": [
    "x = [2,3]\n",
    "y = [2,3]\n",
    "z = x\n",
    "\n",
    "print(id(x))\n",
    "print(id(y))\n",
    "print(id(z))\n"
   ]
  },
  {
   "cell_type": "code",
   "execution_count": null,
   "metadata": {},
   "outputs": [],
   "source": [
    "z[1] = 5\n",
    "\n",
    "print(z)"
   ]
  },
  {
   "cell_type": "code",
   "execution_count": null,
   "metadata": {},
   "outputs": [],
   "source": [
    "print(x)"
   ]
  },
  {
   "cell_type": "code",
   "execution_count": null,
   "metadata": {},
   "outputs": [],
   "source": [
    "x = [2,3]\n",
    "z = x\n",
    "\n",
    "z[1] = 5\n",
    "print(z)\n",
    "print(x)"
   ]
  },
  {
   "cell_type": "code",
   "execution_count": null,
   "metadata": {},
   "outputs": [],
   "source": [
    "#Extension of the same idea\n",
    "x = 6\n",
    "y = x\n",
    "\n",
    "print(id(x))\n",
    "print(id(y))\n",
    "x = 7\n",
    "print(y)\n",
    "print(x)\n",
    "\n",
    "print(id(x))\n",
    "print(id(y))\n",
    "#Tell me what should be the value of y ?"
   ]
  },
  {
   "cell_type": "code",
   "execution_count": null,
   "metadata": {},
   "outputs": [],
   "source": [
    "#  We saw 2 contrdictory results bcz of Mutable vs Immutable\n",
    "\n",
    "# In Pyhton: for Mutable values, assignment does not make a fresh copy but, for immutable values it DOES !\n",
    "\n",
    "# Next obvious question ?how to create copy ?\n",
    "list1_copy = list1.copy()\n",
    "\n",
    "#please note, we are using slice method to create a copy ! This is called full slice\n"
   ]
  },
  {
   "cell_type": "code",
   "execution_count": null,
   "metadata": {},
   "outputs": [],
   "source": [
    "list2 = list1[:]"
   ]
  },
  {
   "cell_type": "code",
   "execution_count": null,
   "metadata": {},
   "outputs": [],
   "source": [
    "print(list1, list1_copy, list2)\n",
    "print(\"\")\n",
    "\n",
    "print(id(list1), id(list1_copy), id(list2))"
   ]
  },
  {
   "cell_type": "code",
   "execution_count": null,
   "metadata": {},
   "outputs": [],
   "source": [
    "list1 = [1,2,3,4]\n",
    "list2 = [1,2,3,4]\n",
    "list3 = list2"
   ]
  },
  {
   "cell_type": "code",
   "execution_count": null,
   "metadata": {},
   "outputs": [],
   "source": [
    "print(list1 == list2)\n",
    "print(list2 == list3)"
   ]
  },
  {
   "cell_type": "code",
   "execution_count": null,
   "metadata": {},
   "outputs": [],
   "source": [
    "print(id(list1))\n",
    "print(id(list2))\n",
    "print(id(list3))"
   ]
  },
  {
   "cell_type": "code",
   "execution_count": null,
   "metadata": {},
   "outputs": [],
   "source": [
    "# introducing \"is\"\n",
    "print(list1 is list2)\n",
    "print(list2 is list3)"
   ]
  },
  {
   "cell_type": "code",
   "execution_count": null,
   "metadata": {},
   "outputs": [],
   "source": [
    "# 1 last example \n",
    "\n",
    "list1 = [1,2,3,4]\n",
    "list2 = list1\n",
    "\n",
    "print(id(list1))\n",
    "print(id(list2))\n",
    "\n",
    "list1 = list1 + [9]\n",
    "# + - always produces a new list\n",
    "print(list1)\n",
    "print(list2)\n",
    "\n",
    "print(id(list1))\n",
    "print(id(list2))"
   ]
  },
  {
   "cell_type": "markdown",
   "metadata": {},
   "source": [
    "### Dictionaries\n",
    "\n"
   ]
  },
  {
   "cell_type": "code",
   "execution_count": 4,
   "metadata": {},
   "outputs": [
    {
     "name": "stdout",
     "output_type": "stream",
     "text": [
      "{'Teacher': ['Gaurav', 'Akash', 'Bobby'], 'Student': ['Soham', 'Vivek', 'Gifty', 'Dipali'], 'Subject': ['Python', 'R', 'Stats'], 'Example_list': [1, 2]}\n"
     ]
    }
   ],
   "source": [
    "#most important built-in data structure - mapping a certain keys to a certain values\n",
    "\n",
    "#Keys - immutable type (variables)\n",
    "#Values - any data type \n",
    "# both Keys+Values are python objects\n",
    "\n",
    "#we can view,modify,define,create,lookup,delete (Key-Value pair)\n",
    "\n",
    "d= {\"Teacher\":[\"Gaurav\", \"Akash\", \"Bobby\"], \n",
    "    \n",
    "    \"Student\":[\"Soham\", \"Vivek\", \"Gifty\", \"Dipali\"],\n",
    "    \n",
    "    \"Subject\":[\"Python\",\"R\",\"Stats\"],\n",
    "    \n",
    "    \"Example_list\":[1,2]}\n",
    "\n",
    "print(d)\n"
   ]
  },
  {
   "cell_type": "code",
   "execution_count": null,
   "metadata": {},
   "outputs": [],
   "source": [
    "type(d)"
   ]
  },
  {
   "cell_type": "code",
   "execution_count": 1,
   "metadata": {},
   "outputs": [],
   "source": [
    "test_dict = {1:(1,2,3),2:[1,2,3],\"Str_name\":\"Value\"}"
   ]
  },
  {
   "cell_type": "code",
   "execution_count": 2,
   "metadata": {},
   "outputs": [
    {
     "name": "stdout",
     "output_type": "stream",
     "text": [
      "{1: (1, 2, 3), 2: [1, 2, 3], 'Str_name': 'Value'}\n",
      "<class 'dict'>\n"
     ]
    }
   ],
   "source": [
    "print(test_dict)\n",
    "print(type(test_dict))"
   ]
  },
  {
   "cell_type": "code",
   "execution_count": 5,
   "metadata": {},
   "outputs": [
    {
     "data": {
      "text/plain": [
       "dict_keys(['Teacher', 'Student', 'Subject', 'Example_list'])"
      ]
     },
     "execution_count": 5,
     "metadata": {},
     "output_type": "execute_result"
    }
   ],
   "source": [
    "d.keys()"
   ]
  },
  {
   "cell_type": "code",
   "execution_count": 6,
   "metadata": {},
   "outputs": [
    {
     "data": {
      "text/plain": [
       "dict_values([['Gaurav', 'Akash', 'Bobby'], ['Soham', 'Vivek', 'Gifty', 'Dipali'], ['Python', 'R', 'Stats'], [1, 2]])"
      ]
     },
     "execution_count": 6,
     "metadata": {},
     "output_type": "execute_result"
    }
   ],
   "source": [
    "d.values()"
   ]
  },
  {
   "cell_type": "code",
   "execution_count": 7,
   "metadata": {},
   "outputs": [
    {
     "data": {
      "text/plain": [
       "dict_items([('Teacher', ['Gaurav', 'Akash', 'Bobby']), ('Student', ['Soham', 'Vivek', 'Gifty', 'Dipali']), ('Subject', ['Python', 'R', 'Stats']), ('Example_list', [1, 2])])"
      ]
     },
     "execution_count": 7,
     "metadata": {},
     "output_type": "execute_result"
    }
   ],
   "source": [
    "d.items()"
   ]
  },
  {
   "cell_type": "code",
   "execution_count": null,
   "metadata": {},
   "outputs": [],
   "source": [
    "d[\"Teacher\"] "
   ]
  },
  {
   "cell_type": "code",
   "execution_count": null,
   "metadata": {},
   "outputs": [],
   "source": [
    "#update a key value \n",
    "d.update( {\"Teacher\":[\"Gaurav\",\"Akash\"]} )\n",
    "print(d)"
   ]
  },
  {
   "cell_type": "code",
   "execution_count": null,
   "metadata": {},
   "outputs": [],
   "source": [
    "#delete\n",
    "del d['Teacher']\n",
    "print(d)"
   ]
  },
  {
   "cell_type": "code",
   "execution_count": null,
   "metadata": {},
   "outputs": [],
   "source": [
    "# add new key value pair\n",
    "d['module']=\"intro\"\n",
    "print(d)"
   ]
  },
  {
   "cell_type": "code",
   "execution_count": null,
   "metadata": {},
   "outputs": [],
   "source": [
    "#how to use pop() \n",
    "#how to use popitem()\n",
    "#how to copy a dictionary \n",
    "\n",
    "#simple way of constructing a dictionary\n",
    "\n",
    "d = dict(Teacher=\"Gaurav\",Students=\"The Future\",Subject=\"Python -Today & Tom but not day after\")\n",
    "print(d)\n",
    "d1=d.copy()\n",
    "print(\"D1 dictionary \",d1)\n",
    "d.pop('Teacher')\n",
    "print(d)\n",
    "d.popitem()\n",
    "print(d)\n",
    "d.clear()\n",
    "print(d)\n",
    "print(d1)"
   ]
  },
  {
   "cell_type": "code",
   "execution_count": null,
   "metadata": {},
   "outputs": [],
   "source": [
    "keys={'a','e','i','o','u'}\n",
    "values=[1]\n",
    "vowels=dict.fromkeys(keys,values)\n",
    "print(vowels)\n",
    "values.append(2)\n",
    "print(vowels)"
   ]
  },
  {
   "cell_type": "markdown",
   "metadata": {},
   "source": [
    "### Sets\n"
   ]
  },
  {
   "cell_type": "code",
   "execution_count": null,
   "metadata": {},
   "outputs": [],
   "source": [
    "animals = { 'cat', 'dog' }"
   ]
  },
  {
   "cell_type": "code",
   "execution_count": null,
   "metadata": {},
   "outputs": [],
   "source": [
    "type(animals)"
   ]
  },
  {
   "cell_type": "code",
   "execution_count": null,
   "metadata": {},
   "outputs": [],
   "source": [
    "'cat' in animals"
   ]
  },
  {
   "cell_type": "code",
   "execution_count": null,
   "metadata": {},
   "outputs": [],
   "source": [
    "'fish' in animals"
   ]
  },
  {
   "cell_type": "code",
   "execution_count": null,
   "metadata": {},
   "outputs": [],
   "source": [
    "animals.add('fish')\n",
    "print(animals)"
   ]
  },
  {
   "cell_type": "code",
   "execution_count": null,
   "metadata": {},
   "outputs": [],
   "source": [
    "animals.add('cat')   \n",
    "print(animals)"
   ]
  },
  {
   "cell_type": "code",
   "execution_count": null,
   "metadata": {},
   "outputs": [],
   "source": [
    "animals.add('cow')\n",
    "print(animals)"
   ]
  },
  {
   "cell_type": "code",
   "execution_count": null,
   "metadata": {},
   "outputs": [],
   "source": [
    "animals.remove('cat')\n",
    "print(animals)"
   ]
  },
  {
   "cell_type": "code",
   "execution_count": null,
   "metadata": {},
   "outputs": [],
   "source": [
    "a={1,2,3,4,5,6}\n",
    "\n",
    "b={4,5,6,7,8,9}"
   ]
  },
  {
   "cell_type": "code",
   "execution_count": null,
   "metadata": {},
   "outputs": [],
   "source": [
    "c=a.union(b)\n",
    "print(c)\n",
    "\n",
    "c =a | b\n",
    "print(c)"
   ]
  },
  {
   "cell_type": "code",
   "execution_count": null,
   "metadata": {},
   "outputs": [],
   "source": [
    "c = a.intersection(b)\n",
    "print(c)\n",
    "\n",
    "c = a & b\n",
    "print(c)\n"
   ]
  },
  {
   "cell_type": "code",
   "execution_count": null,
   "metadata": {},
   "outputs": [],
   "source": [
    "p={1,2,3}\n",
    "q={1,2,3,4,5,6}\n",
    "print(p)\n",
    "print(q)\n",
    "print(p.issubset(q))\n",
    "print(q.issuperset(p))"
   ]
  },
  {
   "cell_type": "markdown",
   "metadata": {},
   "source": [
    "c.issuperset(b)"
   ]
  },
  {
   "cell_type": "code",
   "execution_count": null,
   "metadata": {},
   "outputs": [],
   "source": [
    "l = [1,1,1,1,2,2,2,3,4,5,6,7,7,7,8]"
   ]
  },
  {
   "cell_type": "code",
   "execution_count": null,
   "metadata": {},
   "outputs": [],
   "source": [
    "nd = list(set(l))\n",
    "print(nd, type(nd))"
   ]
  },
  {
   "cell_type": "code",
   "execution_count": null,
   "metadata": {},
   "outputs": [],
   "source": [
    "#1\n",
    "set1 = {1,2,3,4,5,6}\n",
    "set2 = {3,4,5,6,7,8,9}\n",
    "\n",
    "#2\n",
    "set1.add(7)\n",
    "print(set1)\n",
    "\n",
    "#3\n",
    "print(set1 | set2)\n",
    "print(set1 & set2)\n",
    "\n",
    "#4\n",
    "print(set1.issubset(set2))\n",
    "\n",
    "#5\n",
    "list1 = list(set1)\n",
    "print(list1)"
   ]
  },
  {
   "cell_type": "markdown",
   "metadata": {},
   "source": [
    "Difference between function symmetric_difference and difference is as follows:\n",
    "\n",
    "* s.difference(t) :\tnew set with elements in s but not in t\n",
    "* s.symmetric_difference(t) :  new set with elements in either s or t but not both\n",
    "\n",
    "lets see with our own examples :\n"
   ]
  },
  {
   "cell_type": "code",
   "execution_count": null,
   "metadata": {},
   "outputs": [],
   "source": [
    "print(a)\n",
    "print(b)\n",
    "a.difference(b)"
   ]
  },
  {
   "cell_type": "code",
   "execution_count": null,
   "metadata": {},
   "outputs": [],
   "source": [
    "b.difference(a)"
   ]
  },
  {
   "cell_type": "code",
   "execution_count": null,
   "metadata": {},
   "outputs": [],
   "source": [
    "print(a)\n",
    "print(b)\n",
    "a.symmetric_difference(b)"
   ]
  },
  {
   "cell_type": "markdown",
   "metadata": {},
   "source": [
    "### Loops\n"
   ]
  },
  {
   "cell_type": "code",
   "execution_count": null,
   "metadata": {},
   "outputs": [],
   "source": [
    "# A Simple task -Print all items of this list 1 after the other\n",
    "\n",
    "x = ['abc','bcd','cdf']\n",
    "\n",
    "# Cool ! Simple\n",
    "\n",
    "print(x[0])\n",
    "print(x[1])\n",
    "print(x[2])"
   ]
  },
  {
   "cell_type": "code",
   "execution_count": null,
   "metadata": {},
   "outputs": [],
   "source": [
    "# do the same for below list \n",
    "list1 = [1,2,3,4,5,6,7,8,9,10,11,0]\n",
    "print(list1)\n",
    "# Oops !! we have a solution but not optimal solution"
   ]
  },
  {
   "cell_type": "code",
   "execution_count": null,
   "metadata": {},
   "outputs": [],
   "source": [
    "# For loops in Python\n",
    "\n",
    "for i in list1 :\n",
    "    print(i)\n",
    "\n",
    "# Anything that needs to be done repeatedly - better to use loops"
   ]
  },
  {
   "cell_type": "code",
   "execution_count": null,
   "metadata": {},
   "outputs": [],
   "source": [
    "# print only those values which are < 5\n",
    "\n",
    "for i in list1:\n",
    "    \n",
    "    if i < 5: \n",
    "        print(i)\n",
    "    else:\n",
    "        print(i, \"greater than equal to 5\")"
   ]
  },
  {
   "cell_type": "code",
   "execution_count": null,
   "metadata": {},
   "outputs": [],
   "source": [
    "# introducing range\n",
    "\n",
    "print(range(5))\n",
    "\n",
    "\n",
    "print(type(range(3,6)))\n",
    "range(1,3)"
   ]
  },
  {
   "cell_type": "code",
   "execution_count": null,
   "metadata": {},
   "outputs": [],
   "source": [
    "for i in range(1,5):\n",
    "    print(i)"
   ]
  },
  {
   "cell_type": "code",
   "execution_count": null,
   "metadata": {},
   "outputs": [],
   "source": [
    "#pattern to print-\n",
    "\n",
    "*\n",
    "* *\n",
    "* * *\n",
    "* * * * \n",
    "* * * * *\n",
    "* * * *\n",
    "* * *\n",
    "* *\n",
    "*\n"
   ]
  },
  {
   "cell_type": "code",
   "execution_count": null,
   "metadata": {},
   "outputs": [],
   "source": [
    "str1=''\n",
    "for i in range(9):\n",
    "    if i<5:\n",
    "        str1 += '* '\n",
    "        print(str1)\n",
    "    elif i>=5:\n",
    "        str1 = str1[:-2]\n",
    "        print(str1)"
   ]
  },
  {
   "cell_type": "code",
   "execution_count": null,
   "metadata": {},
   "outputs": [],
   "source": [
    "for i in range(1,6):\n",
    "    print(str(i)*i)"
   ]
  },
  {
   "cell_type": "markdown",
   "metadata": {},
   "source": [
    "To Solve : Convert the below list into a numeric list\n",
    "\n",
    "l1 = ['1','2','3','4','5',6,7,8]"
   ]
  },
  {
   "cell_type": "code",
   "execution_count": null,
   "metadata": {},
   "outputs": [],
   "source": [
    "#classify into good and bad reviews\n",
    "\n",
    "s1 = \"This app is Bad\"\n",
    "s2 = \"This app is BAD\"\n",
    "s3 = \"I have never used something so pathetic\"\n",
    "s4 = \"Not that bad, needs improvisation\"\n",
    "s5 = \"Good, who ever is calling it bad is dumb\"\n",
    "s6 = \"Amazing app! loved it\"\n",
    "s7 = \"Worst\""
   ]
  },
  {
   "cell_type": "code",
   "execution_count": null,
   "metadata": {},
   "outputs": [],
   "source": [
    "for i in s1,s2,s3,s4,s5,s6,s7:\n",
    "    if \"bad\" in i.lower():\n",
    "        print(\"bad review\")\n",
    "    else:\n",
    "        print(\"good review\")"
   ]
  },
  {
   "cell_type": "code",
   "execution_count": null,
   "metadata": {},
   "outputs": [],
   "source": [
    "l1 = []\n",
    "l1.extend([s1,s2,s3,s4,s5,s6,s7])"
   ]
  },
  {
   "cell_type": "code",
   "execution_count": null,
   "metadata": {},
   "outputs": [],
   "source": [
    "for i in l1:\n",
    "    if \"bad\" in i.lower():\n",
    "        print(\"bad review\")\n",
    "    else:\n",
    "        print(\"good review\")"
   ]
  },
  {
   "cell_type": "code",
   "execution_count": null,
   "metadata": {},
   "outputs": [],
   "source": [
    "for i in l1:\n",
    "    \n",
    "    if \"bad\" in i.lower():\n",
    "        print(\"bad review\")\n",
    "        \n",
    "    elif \"pathetic\" in i.lower():\n",
    "        print(\"bad review\")\n",
    "        \n",
    "    elif \"worst\" in i.lower():\n",
    "        print(\"bad review\")\n",
    "        \n",
    "    else :\n",
    "        print(\"good review\")"
   ]
  },
  {
   "cell_type": "code",
   "execution_count": null,
   "metadata": {},
   "outputs": [],
   "source": [
    "for i in l1:\n",
    "    if (\"bad\" in i.lower() or \"pathetic\" in i.lower() or \"worst\" in i.lower()) :\n",
    "        print(\"bad review\")\n",
    "    else :\n",
    "        print(\"good review\")"
   ]
  },
  {
   "cell_type": "code",
   "execution_count": null,
   "metadata": {},
   "outputs": [],
   "source": [
    "neg_words=['bad','pathetic','worst']\n",
    "for i in l1:\n",
    "    if neg_words in i.lower():\n",
    "        print(\"bad review\")\n",
    "    else :\n",
    "        print(\"good review\")"
   ]
  },
  {
   "cell_type": "code",
   "execution_count": null,
   "metadata": {},
   "outputs": [],
   "source": [
    "for i in range(4):\n",
    "    print(i)\n",
    "    print(\"**************************\")\n",
    "    \n",
    "    for j in range(3):\n",
    "        print(j)\n",
    "        \n",
    "    print(\"__________________________\")\n",
    "    \n",
    "    \n",
    "print(\"$$$$$$$$$$$$$$$$$$$$$$$$$$$$$\")"
   ]
  },
  {
   "cell_type": "code",
   "execution_count": null,
   "metadata": {},
   "outputs": [],
   "source": [
    "bad = ['bad', 'pathetic', 'worst', 'terrible']"
   ]
  },
  {
   "cell_type": "code",
   "execution_count": null,
   "metadata": {},
   "outputs": [],
   "source": [
    "for i in l1:\n",
    "    \n",
    "    count = 0\n",
    "    for j in bad:    \n",
    "        if j in i.lower():\n",
    "            count += 1\n",
    "            \n",
    "    if count > 0:\n",
    "        print(i,\":\" ,\"bad review\")\n",
    "    else :\n",
    "        print(i ,\":\", \"good review\")"
   ]
  },
  {
   "cell_type": "markdown",
   "metadata": {},
   "source": [
    "for loops in string"
   ]
  },
  {
   "cell_type": "code",
   "execution_count": null,
   "metadata": {},
   "outputs": [],
   "source": [
    "my_string = \"This is introduction to for loops in python\"\n",
    "print(my_string)"
   ]
  },
  {
   "cell_type": "markdown",
   "metadata": {},
   "source": [
    "To Solve - Count all of the vowels in the below statement\n",
    "\n",
    "st = \"This is introduction to for loops in python\""
   ]
  },
  {
   "cell_type": "markdown",
   "metadata": {},
   "source": [
    "for loops in dictionaries"
   ]
  },
  {
   "cell_type": "code",
   "execution_count": null,
   "metadata": {},
   "outputs": [],
   "source": [
    "sd = {1:['Shivam Bansal', 24] , 2:['Udit Bansal',25], 3:['Sonam Gupta', 26], 4:['Saif Ansari',24], 5:['Huzefa Calcuttawala',27]}\n",
    "sd"
   ]
  },
  {
   "cell_type": "code",
   "execution_count": null,
   "metadata": {},
   "outputs": [],
   "source": [
    "for i in sd:\n",
    "    print(i)"
   ]
  },
  {
   "cell_type": "code",
   "execution_count": null,
   "metadata": {},
   "outputs": [],
   "source": [
    "for key, val in sd.items():\n",
    "    print(val, type(val))\n",
    "    print(\"------------------\")\n"
   ]
  },
  {
   "cell_type": "code",
   "execution_count": null,
   "metadata": {},
   "outputs": [],
   "source": [
    "sd.items()"
   ]
  },
  {
   "cell_type": "code",
   "execution_count": null,
   "metadata": {},
   "outputs": [],
   "source": [
    "for val in sd.values():\n",
    "    print(val[0],val[1])\n"
   ]
  },
  {
   "cell_type": "markdown",
   "metadata": {},
   "source": [
    "Identify number of students < age 25"
   ]
  },
  {
   "cell_type": "code",
   "execution_count": null,
   "metadata": {},
   "outputs": [],
   "source": [
    "count = 0\n",
    "\n",
    "for key, val in sd.items():\n",
    "    if val[1]<=25:\n",
    "        print(key,val)\n",
    "        count+= 1\n",
    "\n",
    "print(count)"
   ]
  },
  {
   "cell_type": "markdown",
   "metadata": {},
   "source": [
    "Challenge -\n",
    "1. Identify different hashtags in twitter \n",
    "2. Count number of times they are repeating\n",
    "3. Classify what is trending and what is viral"
   ]
  },
  {
   "cell_type": "code",
   "execution_count": 1,
   "metadata": {},
   "outputs": [
    {
     "name": "stdout",
     "output_type": "stream",
     "text": [
      "Enter number of hrs:-5\n",
      "Enter rate/hr:2\n",
      "invalid input\n",
      "Enter n-5\n",
      "Please input numeric values\n",
      "If then ...then collect from accounts\n"
     ]
    }
   ],
   "source": [
    "try:\n",
    "    \n",
    "    n = float(input(\"Enter number of hrs:\"))\n",
    "    r = float(input(\"Enter rate/hr:\"))\n",
    "    \n",
    "    if n < 0:\n",
    "        print(\"invalid input\")\n",
    "        n=float(input(\"Enter n\"))\n",
    "#         eh = n -40\n",
    "#         pay = (40*r) + (eh*r*1.5)\n",
    "    else: \n",
    "        pay = (n*r)\n",
    "        \n",
    "    print(pay)\n",
    "    \n",
    "except:\n",
    "    print(\"Please input numeric values\")\n",
    "    \n",
    "finally:\n",
    "    print(\"If then ...then collect from accounts\")"
   ]
  },
  {
   "cell_type": "code",
   "execution_count": 2,
   "metadata": {},
   "outputs": [
    {
     "name": "stdout",
     "output_type": "stream",
     "text": [
      "#beautiful\n",
      "#morning\n",
      "it\n",
      "is\n",
      "looking\n",
      "good\n"
     ]
    }
   ],
   "source": [
    "#sentence check\n",
    "tweet1 = '#beautiful #morning it is looking good'\n",
    "\n",
    "#step1\n",
    "for word in tweet1.split():\n",
    "    print(word)"
   ]
  },
  {
   "cell_type": "code",
   "execution_count": 3,
   "metadata": {},
   "outputs": [
    {
     "name": "stdout",
     "output_type": "stream",
     "text": [
      "beautiful\n",
      "morning\n",
      "beautiful\n",
      "morning\n"
     ]
    }
   ],
   "source": [
    "    \n",
    "#step2\n",
    "for word in tweet1.split():\n",
    "    if word[0] == '#':\n",
    "        print(word[1:])\n",
    "\n",
    "#step3\n",
    "for word in tweet1.split():\n",
    "    if word.startswith('#'):\n",
    "        print(word[1:])"
   ]
  },
  {
   "cell_type": "code",
   "execution_count": 4,
   "metadata": {},
   "outputs": [],
   "source": [
    "tweet1 = '#beautiful #morning it is looking good'\n",
    "tweet2 = 'A big move towards #NEWINDia #Article370'\n",
    "tweet3 = 'Loved the ICC world cup match #icc2019'\n",
    "tweet4 = 'lost #icc2019 lost kashmir #article370 thats the #newindia'\n",
    "tweet5 = 'you have 1note of 2000 and i have 4*500 notes #icc2019 - I am richer'"
   ]
  },
  {
   "cell_type": "code",
   "execution_count": 5,
   "metadata": {},
   "outputs": [
    {
     "data": {
      "text/plain": [
       "['#beautiful #morning it is looking good',\n",
       " 'A big move towards #NEWINDia #Article370',\n",
       " 'Loved the ICC world cup match #icc2019',\n",
       " 'lost #icc2019 lost kashmir #article370 thats the #newindia',\n",
       " 'you have 1note of 2000 and i have 4*500 notes #icc2019 - I am richer']"
      ]
     },
     "execution_count": 5,
     "metadata": {},
     "output_type": "execute_result"
    }
   ],
   "source": [
    "l1 = []\n",
    "l1.extend([tweet1, tweet2, tweet3, tweet4, tweet5])\n",
    "l1"
   ]
  },
  {
   "cell_type": "code",
   "execution_count": 6,
   "metadata": {},
   "outputs": [
    {
     "data": {
      "text/plain": [
       "['#BEAUTIFUL',\n",
       " '#MORNING',\n",
       " '#NEWINDIA',\n",
       " '#ARTICLE370',\n",
       " '#ICC2019',\n",
       " '#ICC2019',\n",
       " '#ARTICLE370',\n",
       " '#NEWINDIA',\n",
       " '#ICC2019']"
      ]
     },
     "execution_count": 6,
     "metadata": {},
     "output_type": "execute_result"
    }
   ],
   "source": [
    "#sentence check\n",
    "list_hashtags = []\n",
    "\n",
    "for i in l1:\n",
    "    t = str.upper(i)\n",
    "    \n",
    "    for j in t.split():\n",
    "        if j.startswith('#'):\n",
    "            list_hashtags.extend([j])  \n",
    "            \n",
    "list_hashtags  "
   ]
  },
  {
   "cell_type": "code",
   "execution_count": 7,
   "metadata": {},
   "outputs": [
    {
     "name": "stdout",
     "output_type": "stream",
     "text": [
      "{'#BEAUTIFUL': 1, '#MORNING': 1, '#NEWINDIA': 2, '#ARTICLE370': 2, '#ICC2019': 3}\n"
     ]
    }
   ],
   "source": [
    "cnt_hashtags = {} \n",
    "\n",
    "for z in list_hashtags:\n",
    "    \n",
    "    if z in cnt_hashtags: \n",
    "        cnt_hashtags[z] += 1\n",
    "        \n",
    "    else: \n",
    "        cnt_hashtags[z] = 1\n",
    "                \n",
    "print(cnt_hashtags)"
   ]
  },
  {
   "cell_type": "code",
   "execution_count": 8,
   "metadata": {},
   "outputs": [
    {
     "name": "stdout",
     "output_type": "stream",
     "text": [
      "{'#BEAUTIFUL': 1, '#MORNING': 1, '#NEWINDIA': 2, '#ARTICLE370': 2, '#ICC2019': 3}\n"
     ]
    }
   ],
   "source": [
    "cnt_hashtags = {}\n",
    "\n",
    "for i in l1:\n",
    "    t = i.upper()\n",
    "    for j in t.split():\n",
    "        if j.startswith('#'):\n",
    "            cnt_hashtags[j] = cnt_hashtags.get(j,0)+1\n",
    "print(cnt_hashtags)"
   ]
  },
  {
   "cell_type": "code",
   "execution_count": null,
   "metadata": {},
   "outputs": [],
   "source": [
    "cnt_tweets = {}\n",
    "\n",
    "with open('test.txt','r',encoding=\"utf-8\") as file:    \n",
    "    \n",
    "    for i in file :\n",
    "        t = i.upper()\n",
    "        \n",
    "        for j in t.split():\n",
    "            if j.startswith('@'):                \n",
    "                cnt_tweets[j] = cnt_tweets.get(j,0)+1\n",
    "                \n",
    "cnt_tweets"
   ]
  },
  {
   "cell_type": "markdown",
   "metadata": {},
   "source": [
    "While loop"
   ]
  },
  {
   "cell_type": "code",
   "execution_count": null,
   "metadata": {},
   "outputs": [],
   "source": [
    "#Do not run this\n",
    "\n",
    "#while True:\n",
    "    #print('infinite loop')"
   ]
  },
  {
   "cell_type": "code",
   "execution_count": 10,
   "metadata": {},
   "outputs": [
    {
     "name": "stdout",
     "output_type": "stream",
     "text": [
      "0\n",
      "1\n",
      "2\n",
      "3\n",
      "4\n"
     ]
    }
   ],
   "source": [
    "i = 0\n",
    "\n",
    "while i < 5:\n",
    "    print(i)\n",
    "    i += 1"
   ]
  },
  {
   "cell_type": "code",
   "execution_count": 13,
   "metadata": {},
   "outputs": [
    {
     "name": "stdout",
     "output_type": "stream",
     "text": [
      "Enter the number :6\n",
      "720\n"
     ]
    }
   ],
   "source": [
    "x = int(input(\"Enter the number :\"))\n",
    "\n",
    "if x < 0:\n",
    "    print(\"Invalid number\")\n",
    "else:\n",
    "    f = 1\n",
    "    while x >0:\n",
    "        f *= x\n",
    "        x -= 1 \n",
    "        #print(f)\n",
    "    print(f)"
   ]
  },
  {
   "cell_type": "markdown",
   "metadata": {},
   "source": [
    "break continue & pass\n",
    "\n",
    "    break - terminates current loop & resumes execution at the next statement\n",
    "    continue - returns the control to the beginning of the statement \n",
    "    pass - required syntactically but you do not want any command to be executed"
   ]
  },
  {
   "cell_type": "code",
   "execution_count": 14,
   "metadata": {},
   "outputs": [
    {
     "name": "stdout",
     "output_type": "stream",
     "text": [
      "------- befor if-------\n",
      "0 inside else\n",
      "------- After ifelse-------\n",
      "\n",
      "\n",
      "------- befor if-------\n",
      "1 inside else\n",
      "------- After ifelse-------\n",
      "\n",
      "\n",
      "------- befor if-------\n",
      "2 inside else\n",
      "------- After ifelse-------\n",
      "\n",
      "\n",
      "------- befor if-------\n",
      "3 Outside the loop block\n"
     ]
    }
   ],
   "source": [
    "for i in range(6):\n",
    "    print('------- befor if-------')\n",
    "    if i == 3:\n",
    "        break\n",
    "    else:\n",
    "        print(i,'inside else')\n",
    "        \n",
    "    print('------- After ifelse-------')\n",
    "    print(\"\")\n",
    "    print(\"\")\n",
    "    \n",
    "print(i,'Outside the loop block')"
   ]
  },
  {
   "cell_type": "code",
   "execution_count": 15,
   "metadata": {},
   "outputs": [
    {
     "name": "stdout",
     "output_type": "stream",
     "text": [
      "------- befor if-------\n",
      "0 inside if\n",
      "------- After if-------\n",
      "\n",
      "\n",
      "------- befor if-------\n",
      "1 inside if\n",
      "------- After if-------\n",
      "\n",
      "\n",
      "------- befor if-------\n",
      "2 inside if\n",
      "------- After if-------\n",
      "\n",
      "\n",
      "------- befor if-------\n",
      "------- befor if-------\n",
      "4 inside if\n",
      "------- After if-------\n",
      "\n",
      "\n",
      "------- befor if-------\n",
      "5 inside if\n",
      "------- After if-------\n",
      "\n",
      "\n",
      "5 Outside the loop block\n"
     ]
    }
   ],
   "source": [
    "for i in range(6):\n",
    "    print('------- befor if-------')\n",
    "    if i == 3:\n",
    "        continue\n",
    "    else:\n",
    "        print(i,'inside if')\n",
    "    print('------- After if-------') \n",
    "    print(\"\")\n",
    "    print(\"\")\n",
    "print(i,'Outside the loop block')"
   ]
  },
  {
   "cell_type": "code",
   "execution_count": 16,
   "metadata": {},
   "outputs": [
    {
     "name": "stdout",
     "output_type": "stream",
     "text": [
      "------- befor if-------\n",
      "0 inside if\n",
      "------- After if-------\n",
      "\n",
      "\n",
      "------- befor if-------\n",
      "1 inside if\n",
      "------- After if-------\n",
      "\n",
      "\n",
      "------- befor if-------\n",
      "2 inside if\n",
      "------- After if-------\n",
      "\n",
      "\n",
      "------- befor if-------\n",
      "------- After if-------\n",
      "\n",
      "\n",
      "------- befor if-------\n",
      "4 inside if\n",
      "------- After if-------\n",
      "\n",
      "\n",
      "------- befor if-------\n",
      "5 inside if\n",
      "------- After if-------\n",
      "\n",
      "\n",
      "5 Outside the loop block\n"
     ]
    }
   ],
   "source": [
    "for i in range(6):\n",
    "    print('------- befor if-------')\n",
    "    if i ==3:\n",
    "        pass\n",
    "    else:\n",
    "        print(i,'inside if')\n",
    "    print('------- After if-------')\n",
    "    print(\"\")\n",
    "    print(\"\")\n",
    "print(i,'Outside the loop block')"
   ]
  },
  {
   "cell_type": "code",
   "execution_count": 17,
   "metadata": {},
   "outputs": [
    {
     "name": "stdout",
     "output_type": "stream",
     "text": [
      "['G', 'e', 'e', 'k', 's', ' ', '4', ' ', 'G', 'e', 'e', 'k', 's', '!']\n"
     ]
    }
   ],
   "source": [
    "List = []\n",
    " \n",
    "# Traditional approach of iterating\n",
    "for character in 'Geeks 4 Geeks!':\n",
    "    List.append(character)\n",
    " \n",
    "# Display list\n",
    "print(List)"
   ]
  },
  {
   "cell_type": "code",
   "execution_count": 18,
   "metadata": {},
   "outputs": [
    {
     "name": "stdout",
     "output_type": "stream",
     "text": [
      "['G', 'e', 'e', 'k', 's', ' ', '4', ' ', 'G', 'e', 'e', 'k', 's', '!']\n"
     ]
    }
   ],
   "source": [
    "List = [character for character in 'Geeks 4 Geeks!']\n",
    " \n",
    "# Displaying list\n",
    "print(List)"
   ]
  },
  {
   "cell_type": "code",
   "execution_count": 19,
   "metadata": {},
   "outputs": [
    {
     "name": "stdout",
     "output_type": "stream",
     "text": [
      "[1, 9, 25, 49, 81]\n"
     ]
    }
   ],
   "source": [
    "numbers=[1,3,5,7,9]\n",
    "squares=[]\n",
    "for i in numbers:\n",
    "    squares.append(i**2)\n",
    "print(squares)\n",
    "    "
   ]
  },
  {
   "cell_type": "code",
   "execution_count": 20,
   "metadata": {},
   "outputs": [
    {
     "name": "stdout",
     "output_type": "stream",
     "text": [
      "[1, 9, 25, 49, 81]\n"
     ]
    }
   ],
   "source": [
    "squares =[i**2 for i in numbers]\n",
    "print(squares)"
   ]
  },
  {
   "cell_type": "markdown",
   "metadata": {},
   "source": [
    "Solve the following :\n",
    "    * Ask for input until the user inputs \"q\"\n",
    "    * Provide avg of all numeric inputted values"
   ]
  },
  {
   "cell_type": "code",
   "execution_count": null,
   "metadata": {},
   "outputs": [],
   "source": [
    "x = 0\n",
    "n = 0\n",
    "\n",
    "while True :\n",
    "    i = input(\"Enter 'q' to end / number for avg \")\n",
    "    \n",
    "    if i == 'q':\n",
    "        break\n",
    "        \n",
    "    else:\n",
    "        \n",
    "        try:\n",
    "            x += int(i)\n",
    "            n += 1\n",
    "            \n",
    "        except:\n",
    "            continue\n",
    "\n",
    "print(\"Avg\", str(x/n))"
   ]
  },
  {
   "cell_type": "markdown",
   "metadata": {},
   "source": [
    "1. I need list of words\n",
    "2. Randomly select 1 word from the list\n",
    "3. Shuffle the selected word\n",
    "4. Ask user to guess the word\n",
    "5. If input mataches - Win\n",
    "6. If input fails, more 2 attempts (in total 3)"
   ]
  },
  {
   "cell_type": "code",
   "execution_count": null,
   "metadata": {},
   "outputs": [],
   "source": [
    "word_list = ['secret','python','mean','jupyter','math','probablity','number','guess','life']\n",
    "\n",
    "import random\n",
    "theword = word_list[random.randrange(len(word_list))]\n",
    "theword"
   ]
  },
  {
   "cell_type": "code",
   "execution_count": null,
   "metadata": {},
   "outputs": [],
   "source": [
    "# will this run ? - Will result in error\n",
    "random.shuffle('Check')\n",
    "# String - immutable"
   ]
  },
  {
   "cell_type": "code",
   "execution_count": null,
   "metadata": {},
   "outputs": [],
   "source": [
    "# list - mutable\n",
    "templist = list(theword)\n",
    "random.shuffle(templist)\n",
    "show_word = ''.join(templist)\n",
    "show_word"
   ]
  },
  {
   "cell_type": "code",
   "execution_count": null,
   "metadata": {},
   "outputs": [],
   "source": [
    "print(show_word)\n",
    "attempts = 1\n",
    "\n",
    "while attempts <=3:    \n",
    "    x = input((\"Attempt \"+str(attempts)+\" Guess the above word correctly: \"))\n",
    "    \n",
    "    if x.lower() == theword:\n",
    "        print(\"You Won !\")\n",
    "        break\n",
    "        \n",
    "    elif attempts<=3:\n",
    "        print(\"You have \"+str(3-attempts)+\" attempts to go!\")\n",
    "        attempts += 1\n",
    "        \n",
    "        if attempts == 4:\n",
    "            print(\"Game over\")\n",
    "            "
   ]
  },
  {
   "cell_type": "code",
   "execution_count": 4,
   "metadata": {},
   "outputs": [
    {
     "name": "stdout",
     "output_type": "stream",
     "text": [
      "0\n"
     ]
    }
   ],
   "source": [
    "List = len([character for character in \"List Comprehensions\" if character =='a'])\n",
    "print(List)"
   ]
  },
  {
   "cell_type": "code",
   "execution_count": 13,
   "metadata": {},
   "outputs": [
    {
     "name": "stdout",
     "output_type": "stream",
     "text": [
      "Enter a string value: ethdghdg ggfhgfhgfh gfhfghfgh\n",
      "2\n"
     ]
    }
   ],
   "source": [
    "inp = input(\"Enter a string value: \")\n",
    "x=inp\n",
    "count = len([x for i in range(len(inp)) if x[i] == \" \"])\n",
    "print(count)"
   ]
  },
  {
   "cell_type": "code",
   "execution_count": 14,
   "metadata": {},
   "outputs": [
    {
     "name": "stdout",
     "output_type": "stream",
     "text": [
      "{0: 0, 1: 1, 2: 4, 3: 9, 4: 16, 5: 25}\n"
     ]
    }
   ],
   "source": [
    "squares={x:x*x for x in range(6)}\n",
    "print(squares)"
   ]
  },
  {
   "cell_type": "code",
   "execution_count": 15,
   "metadata": {},
   "outputs": [
    {
     "name": "stdout",
     "output_type": "stream",
     "text": [
      "{1: 1, 3: 9, 5: 25}\n"
     ]
    }
   ],
   "source": [
    "squares={x:x*x for x in range(6) if x%2==1}\n",
    "print(squares)"
   ]
  },
  {
   "cell_type": "code",
   "execution_count": 17,
   "metadata": {},
   "outputs": [
    {
     "name": "stdout",
     "output_type": "stream",
     "text": [
      "[[0, 1, 2, 3, 4, 5], [0, 1, 2, 3, 4, 5], [0, 1, 2, 3, 4, 5], [0, 1, 2, 3, 4, 5], [0, 1, 2, 3, 4, 5]]\n"
     ]
    }
   ],
   "source": [
    "matrix = [[j for j in range(6)] for i in range(5)]\n",
    "  \n",
    "print(matrix)"
   ]
  },
  {
   "cell_type": "code",
   "execution_count": 19,
   "metadata": {},
   "outputs": [
    {
     "name": "stdout",
     "output_type": "stream",
     "text": [
      "wlcm t nd\n"
     ]
    }
   ],
   "source": [
    "string=\"Welcome to India\"\n",
    "q4 = \"\".join([char for char in string.lower() if char not in [\"a\",\"e\",\"i\",\"o\",\"u\"]])\n",
    "print(q4)"
   ]
  },
  {
   "cell_type": "markdown",
   "metadata": {},
   "source": [
    "Defining a function in python"
   ]
  },
  {
   "cell_type": "markdown",
   "metadata": {},
   "source": [
    "def f(a,b,c):\n",
    "    statement1\n",
    "    statement2\n",
    "    return(v)"
   ]
  },
  {
   "cell_type": "code",
   "execution_count": 20,
   "metadata": {},
   "outputs": [],
   "source": [
    "def gsum(a,b):\n",
    "    v = a+b+1\n",
    "    return v"
   ]
  },
  {
   "cell_type": "code",
   "execution_count": 21,
   "metadata": {},
   "outputs": [
    {
     "data": {
      "text/plain": [
       "17"
      ]
     },
     "execution_count": 21,
     "metadata": {},
     "output_type": "execute_result"
    }
   ],
   "source": [
    "gsum(8,8)"
   ]
  },
  {
   "cell_type": "code",
   "execution_count": 22,
   "metadata": {},
   "outputs": [
    {
     "data": {
      "text/plain": [
       "11"
      ]
     },
     "execution_count": 22,
     "metadata": {},
     "output_type": "execute_result"
    }
   ],
   "source": [
    "gsum(5,5)"
   ]
  },
  {
   "cell_type": "code",
   "execution_count": 23,
   "metadata": {},
   "outputs": [
    {
     "name": "stdout",
     "output_type": "stream",
     "text": [
      "11\n"
     ]
    }
   ],
   "source": [
    "t  = gsum(5,5)\n",
    "print(t)"
   ]
  },
  {
   "cell_type": "code",
   "execution_count": 27,
   "metadata": {},
   "outputs": [
    {
     "data": {
      "text/plain": [
       "3628800"
      ]
     },
     "execution_count": 27,
     "metadata": {},
     "output_type": "execute_result"
    }
   ],
   "source": [
    "# A function can be recursive in nature, Example - \n",
    "def factorial(n):\n",
    "    if n <= 0:\n",
    "        return(1)\n",
    "    else:\n",
    "        v = n*factorial(n-1)\n",
    "        #print(v)\n",
    "        return(v)\n",
    "factorial(10)"
   ]
  },
  {
   "cell_type": "code",
   "execution_count": 30,
   "metadata": {},
   "outputs": [
    {
     "data": {
      "text/plain": [
       "'Divisible by 3'"
      ]
     },
     "execution_count": 30,
     "metadata": {},
     "output_type": "execute_result"
    }
   ],
   "source": [
    "def div(x):\n",
    "    if x%3 == 0:\n",
    "        return(\"Divisible by 3\")\n",
    "    else:\n",
    "        return(\"Not divisible by 3\")\n",
    "div(9)"
   ]
  },
  {
   "cell_type": "code",
   "execution_count": 41,
   "metadata": {},
   "outputs": [
    {
     "name": "stdout",
     "output_type": "stream",
     "text": [
      "3\n",
      "1\n",
      "2\n",
      "3\n",
      "0\n",
      "1\n",
      "2\n",
      "['3']\n",
      "['2']\n"
     ]
    },
    {
     "ename": "TypeError",
     "evalue": "int() argument must be a string, a bytes-like object or a number, not 'list'",
     "output_type": "error",
     "traceback": [
      "\u001b[1;31m---------------------------------------------------------------------------\u001b[0m",
      "\u001b[1;31mTypeError\u001b[0m                                 Traceback (most recent call last)",
      "\u001b[1;32m<ipython-input-41-3ee0793a3d3b>\u001b[0m in \u001b[0;36m<module>\u001b[1;34m\u001b[0m\n\u001b[0;32m      5\u001b[0m         \u001b[0mprint\u001b[0m\u001b[1;33m(\u001b[0m\u001b[0mn\u001b[0m\u001b[1;33m[\u001b[0m\u001b[0melem\u001b[0m\u001b[1;33m]\u001b[0m\u001b[1;33m)\u001b[0m\u001b[1;33m\u001b[0m\u001b[1;33m\u001b[0m\u001b[0m\n\u001b[0;32m      6\u001b[0m         \u001b[0mprint\u001b[0m\u001b[1;33m(\u001b[0m\u001b[0mn\u001b[0m\u001b[1;33m[\u001b[0m\u001b[0melem\u001b[0m\u001b[1;33m-\u001b[0m\u001b[1;36m1\u001b[0m\u001b[1;33m]\u001b[0m\u001b[1;33m)\u001b[0m\u001b[1;33m\u001b[0m\u001b[1;33m\u001b[0m\u001b[0m\n\u001b[1;32m----> 7\u001b[1;33m         \u001b[0ma\u001b[0m\u001b[1;33m=\u001b[0m\u001b[0mint\u001b[0m\u001b[1;33m(\u001b[0m\u001b[0mn\u001b[0m\u001b[1;33m[\u001b[0m\u001b[0melem\u001b[0m\u001b[1;33m]\u001b[0m\u001b[1;33m)\u001b[0m\u001b[1;33m*\u001b[0m\u001b[0mint\u001b[0m\u001b[1;33m(\u001b[0m\u001b[0mn\u001b[0m\u001b[1;33m[\u001b[0m\u001b[0melem\u001b[0m\u001b[1;33m-\u001b[0m\u001b[1;36m1\u001b[0m\u001b[1;33m]\u001b[0m\u001b[1;33m)\u001b[0m\u001b[1;33m\u001b[0m\u001b[1;33m\u001b[0m\u001b[0m\n\u001b[0m\u001b[0;32m      8\u001b[0m         \u001b[0mprint\u001b[0m\u001b[1;33m(\u001b[0m\u001b[0ma\u001b[0m\u001b[1;33m)\u001b[0m\u001b[1;33m\u001b[0m\u001b[1;33m\u001b[0m\u001b[0m\n\u001b[0;32m      9\u001b[0m \u001b[1;31m#flatList = [n[elem]*n[elem-1] for elem in range(0,len(n)) if elem-1>0]\u001b[0m\u001b[1;33m\u001b[0m\u001b[1;33m\u001b[0m\u001b[1;33m\u001b[0m\u001b[0m\n",
      "\u001b[1;31mTypeError\u001b[0m: int() argument must be a string, a bytes-like object or a number, not 'list'"
     ]
    }
   ],
   "source": [
    "n = [input().split() for _ in range(int(input()))]\n",
    "for elem in range(0,len(n)):\n",
    "    print(elem)\n",
    "    if elem-1>0:\n",
    "        print(n[elem])\n",
    "        print(n[elem-1])\n",
    "        a=int(n[elem])*int(n[elem-1])\n",
    "        print(a)\n",
    "#flatList = [n[elem]*n[elem-1] for elem in range(0,len(n)) if elem-1>0]\n",
    "#print(flatList)"
   ]
  },
  {
   "cell_type": "markdown",
   "metadata": {},
   "source": [
    " * function with default values\n",
    " * function with *args\n",
    " * function with **kwargs\n",
    " * global & local function "
   ]
  },
  {
   "cell_type": "code",
   "execution_count": 48,
   "metadata": {},
   "outputs": [
    {
     "name": "stdout",
     "output_type": "stream",
     "text": [
      "20\n",
      "22\n",
      "9\n",
      "4\n"
     ]
    }
   ],
   "source": [
    "# functions with default values\n",
    "def sum1(a,b=10):\n",
    "    return a+b\n",
    "\n",
    "print(sum1(10))\n",
    "print(sum1(12))\n",
    "print(sum1(8,1))\n",
    "print(sum1(2,2))"
   ]
  },
  {
   "cell_type": "code",
   "execution_count": 49,
   "metadata": {},
   "outputs": [],
   "source": [
    "def area(shape,base=None,height=None,radius=None):\n",
    "    \n",
    "    if shape.upper() == 'CIRCLE':\n",
    "        return(3.14*radius*radius)\n",
    "    \n",
    "    elif shape.upper() == 'TRIANGLE':\n",
    "        return(0.5*base*height)\n",
    "    \n",
    "    else:\n",
    "        return(None)"
   ]
  },
  {
   "cell_type": "code",
   "execution_count": 50,
   "metadata": {},
   "outputs": [
    {
     "name": "stdout",
     "output_type": "stream",
     "text": [
      "25.0\n"
     ]
    }
   ],
   "source": [
    "print(area('triangle',10,5))"
   ]
  },
  {
   "cell_type": "code",
   "execution_count": 51,
   "metadata": {},
   "outputs": [
    {
     "name": "stdout",
     "output_type": "stream",
     "text": [
      "78.5\n"
     ]
    }
   ],
   "source": [
    "print(area('circle',radius =5))"
   ]
  },
  {
   "cell_type": "code",
   "execution_count": 52,
   "metadata": {},
   "outputs": [],
   "source": [
    "area('square')"
   ]
  },
  {
   "cell_type": "code",
   "execution_count": null,
   "metadata": {},
   "outputs": [],
   "source": [
    "#while assigning default variables, python will not understand the sequence-- unless its in order or specified"
   ]
  },
  {
   "cell_type": "code",
   "execution_count": 53,
   "metadata": {},
   "outputs": [],
   "source": [
    "def exp(*arg):\n",
    "    for i in arg:\n",
    "        print(i)"
   ]
  },
  {
   "cell_type": "code",
   "execution_count": 54,
   "metadata": {},
   "outputs": [
    {
     "name": "stdout",
     "output_type": "stream",
     "text": [
      "1\n",
      "2\n",
      "3\n",
      "4\n",
      "5\n"
     ]
    }
   ],
   "source": [
    "exp(1,2,3,4,5)"
   ]
  },
  {
   "cell_type": "code",
   "execution_count": 56,
   "metadata": {},
   "outputs": [
    {
     "name": "stdout",
     "output_type": "stream",
     "text": [
      "15\n",
      "1\n",
      "6\n",
      "159\n"
     ]
    }
   ],
   "source": [
    "def sum1(*arg):\n",
    "    s = 0\n",
    "    for i in arg:\n",
    "        s += i\n",
    "    return s\n",
    "\n",
    "print(sum1(1,2,3,4,5))\n",
    "print(sum1(1))\n",
    "print(sum1(1,2,3))\n",
    "print(sum1(2,3,4,5,2,4,3,4,8,4,3,2,5,2,4,2,4,1,6,4,2,5,6,74))"
   ]
  },
  {
   "cell_type": "code",
   "execution_count": 57,
   "metadata": {},
   "outputs": [],
   "source": [
    "def area(shape, *arg):\n",
    "    if shape.upper() == 'CIRCLE':\n",
    "        for i in arg:\n",
    "            return 3.14*i**2\n",
    "    elif shape.upper() == 'TRIANGLE':\n",
    "        a=0.5\n",
    "        for i in arg:\n",
    "            a = a*i\n",
    "        return a\n",
    "    else:\n",
    "        return None"
   ]
  },
  {
   "cell_type": "code",
   "execution_count": 63,
   "metadata": {},
   "outputs": [
    {
     "name": "stdout",
     "output_type": "stream",
     "text": [
      "314.0\n",
      "10.0\n",
      "3150.0\n"
     ]
    }
   ],
   "source": [
    "print(area('Circle',10))\n",
    "print(area('Triangle',10,2))\n",
    "print(area('Triangle',1,2,3,5,5,6,7))"
   ]
  },
  {
   "cell_type": "code",
   "execution_count": 64,
   "metadata": {},
   "outputs": [],
   "source": [
    "def exp(**kwargs):\n",
    "    for i,j in kwargs.items():\n",
    "        print(i,j)"
   ]
  },
  {
   "cell_type": "code",
   "execution_count": 65,
   "metadata": {},
   "outputs": [
    {
     "name": "stdout",
     "output_type": "stream",
     "text": [
      "k1 v1\n",
      "k2 None\n",
      "k3 123\n",
      "None\n"
     ]
    }
   ],
   "source": [
    "print(exp(k1='v1', k2=None, k3 = 123))"
   ]
  },
  {
   "cell_type": "code",
   "execution_count": 66,
   "metadata": {},
   "outputs": [
    {
     "name": "stdout",
     "output_type": "stream",
     "text": [
      "k1 v1\n",
      "k2 None\n",
      "None\n"
     ]
    }
   ],
   "source": [
    "print(exp(k1='v1', k2=None))"
   ]
  },
  {
   "cell_type": "code",
   "execution_count": 67,
   "metadata": {},
   "outputs": [],
   "source": [
    "def intro(**data):\n",
    "    print(\"\\nData type of argument:\",type(data))\n",
    "\n",
    "    for key, value in data.items():\n",
    "        print(\"{} is {}\".format(key,value))"
   ]
  },
  {
   "cell_type": "code",
   "execution_count": 68,
   "metadata": {},
   "outputs": [
    {
     "name": "stdout",
     "output_type": "stream",
     "text": [
      "\n",
      "Data type of argument: <class 'dict'>\n",
      "Firstname is Sita\n",
      "Lastname is Sharma\n",
      "Age is 22\n",
      "Phone is 1234567890\n",
      "\n",
      "Data type of argument: <class 'dict'>\n",
      "Firstname is John\n",
      "Lastname is Wood\n",
      "Email is johnwood@nomail.com\n",
      "Country is Wakanda\n",
      "Age is 25\n",
      "Phone is 9876543210\n"
     ]
    }
   ],
   "source": [
    "intro(Firstname=\"Sita\", Lastname=\"Sharma\", Age=22, Phone=1234567890)\n",
    "intro(Firstname=\"John\", Lastname=\"Wood\", Email=\"johnwood@nomail.com\", Country=\"Wakanda\", Age=25, Phone=9876543210)"
   ]
  },
  {
   "cell_type": "code",
   "execution_count": 69,
   "metadata": {},
   "outputs": [],
   "source": [
    "def sum1(*arg):\n",
    "    v = 0\n",
    "    for i in arg:\n",
    "        v += i\n",
    "    return v"
   ]
  },
  {
   "cell_type": "code",
   "execution_count": 70,
   "metadata": {},
   "outputs": [],
   "source": [
    "v = 10"
   ]
  },
  {
   "cell_type": "code",
   "execution_count": 71,
   "metadata": {},
   "outputs": [],
   "source": [
    "v = sum1(1,2)"
   ]
  },
  {
   "cell_type": "code",
   "execution_count": 72,
   "metadata": {},
   "outputs": [
    {
     "name": "stdout",
     "output_type": "stream",
     "text": [
      "3\n"
     ]
    }
   ],
   "source": [
    "print(v)"
   ]
  },
  {
   "cell_type": "code",
   "execution_count": 84,
   "metadata": {},
   "outputs": [
    {
     "name": "stdout",
     "output_type": "stream",
     "text": [
      "OUTSIDE\n",
      "INSIDE\n",
      "OUTSIDE\n"
     ]
    }
   ],
   "source": [
    "value = \"OUTSIDE\"\n",
    "\n",
    "def global_local():\n",
    "    value = \"INSIDE\"\n",
    "    return value\n",
    "print(value)\n",
    "r=global_local()\n",
    "print(r)\n",
    "print(value)"
   ]
  },
  {
   "cell_type": "code",
   "execution_count": 77,
   "metadata": {},
   "outputs": [
    {
     "name": "stdout",
     "output_type": "stream",
     "text": [
      "OUTSIDE\n",
      "INSIDE\n"
     ]
    }
   ],
   "source": [
    "print(value)\n",
    "\n",
    "x = global_local()\n",
    "print(x)"
   ]
  },
  {
   "cell_type": "code",
   "execution_count": 86,
   "metadata": {},
   "outputs": [],
   "source": [
    "value = \"Outside\""
   ]
  },
  {
   "cell_type": "code",
   "execution_count": 87,
   "metadata": {},
   "outputs": [],
   "source": [
    "def global_local():\n",
    "    global value\n",
    "    value = \"INSIDE\"\n",
    "    return value"
   ]
  },
  {
   "cell_type": "code",
   "execution_count": 88,
   "metadata": {},
   "outputs": [
    {
     "data": {
      "text/plain": [
       "'Outside'"
      ]
     },
     "execution_count": 88,
     "metadata": {},
     "output_type": "execute_result"
    }
   ],
   "source": [
    "value"
   ]
  },
  {
   "cell_type": "code",
   "execution_count": 89,
   "metadata": {},
   "outputs": [
    {
     "data": {
      "text/plain": [
       "'INSIDE'"
      ]
     },
     "execution_count": 89,
     "metadata": {},
     "output_type": "execute_result"
    }
   ],
   "source": [
    "global_local()"
   ]
  },
  {
   "cell_type": "code",
   "execution_count": 90,
   "metadata": {},
   "outputs": [
    {
     "data": {
      "text/plain": [
       "'INSIDE'"
      ]
     },
     "execution_count": 90,
     "metadata": {},
     "output_type": "execute_result"
    }
   ],
   "source": [
    "value"
   ]
  },
  {
   "cell_type": "code",
   "execution_count": 91,
   "metadata": {},
   "outputs": [
    {
     "data": {
      "text/plain": [
       "'INSIDE'"
      ]
     },
     "execution_count": 91,
     "metadata": {},
     "output_type": "execute_result"
    }
   ],
   "source": [
    "value"
   ]
  },
  {
   "cell_type": "code",
   "execution_count": null,
   "metadata": {},
   "outputs": [],
   "source": [
    "fruits = [\"apple\", \"banana\", \"cherry\", \"kiwi\", \"mango\"]\n",
    "\n",
    "newlist = [x for x in fruits if \"a\" in x]\n",
    "\n",
    "print(newlist)\n",
    "\n"
   ]
  },
  {
   "cell_type": "code",
   "execution_count": 92,
   "metadata": {},
   "outputs": [],
   "source": [
    "##Lambda Functions"
   ]
  },
  {
   "cell_type": "markdown",
   "metadata": {},
   "source": [
    "# What are Anonymous Functions in Python?\n",
    "In Python, an anonymous function may be a function that’s defined without a reputation.\n",
    "\n",
    "While defining normal functions, we are using the def keyword in Python, but while defining anonymous functions we are using the lambda keyword.\n",
    "\n",
    "Hence, anonymous functions also are called Lambda functions.\n",
    "\n",
    "How to use Lambda Functions in Python?\n",
    "A lambda function in python has the subsequent syntax.\n",
    "\n",
    "Syntax of Lambda Function in Python:\n",
    "\n",
    "lambda arguments: expression\n",
    "\n",
    "\n",
    "\n",
    "\n",
    "Note that the Lambda functions can have any number of arguments but they have only one expression. Firtsly, the expression is evaluated and then returned. We used Lambda functions wherever function objects are required."
   ]
  },
  {
   "cell_type": "code",
   "execution_count": 103,
   "metadata": {},
   "outputs": [],
   "source": [
    "def double1(x):\n",
    "    return x * 2"
   ]
  },
  {
   "cell_type": "code",
   "execution_count": 104,
   "metadata": {},
   "outputs": [
    {
     "data": {
      "text/plain": [
       "10"
      ]
     },
     "execution_count": 104,
     "metadata": {},
     "output_type": "execute_result"
    }
   ],
   "source": [
    "double1(5)"
   ]
  },
  {
   "cell_type": "code",
   "execution_count": 105,
   "metadata": {},
   "outputs": [
    {
     "name": "stdout",
     "output_type": "stream",
     "text": [
      "20\n"
     ]
    }
   ],
   "source": [
    "double = lambda x: x * 2\n",
    "print(double(10))"
   ]
  },
  {
   "cell_type": "markdown",
   "metadata": {},
   "source": [
    "# Use of Lambda Functions in Python\n",
    "We use lambda functions once we require a nameless function for a brief period of your time.\n",
    "\n",
    "In Python, we generally use Lambda Functions as an argument to a higher-order function (a function that takes in other functions as arguments)."
   ]
  },
  {
   "cell_type": "markdown",
   "metadata": {},
   "source": [
    "# Pros\n",
    "Good for simple logical operations that are easy to understand. This makes the code more readable too.\n",
    "Good when you want a function that you will use just one time."
   ]
  },
  {
   "cell_type": "markdown",
   "metadata": {},
   "source": [
    "# Cons\n",
    "They can only perform one expression. It’s not possible to have multiple independent operations in one lambda function.\n",
    "Bad for operations that would span more than one line in a normal def function (For example nested conditional operations). If you need a minute or two to understand the code, use a named function instead.\n",
    "Bad because you can’t write a doc-string to explain all the inputs, operations, and outputs as you would in a normal def function."
   ]
  },
  {
   "cell_type": "markdown",
   "metadata": {},
   "source": [
    "# Filter().\n",
    "This is a Python inbuilt library that returns only those values that fit certain criteria. The syntax is filter(function, iterable). The iterable can be any sequence such as a list, set, or series object (more below).\n",
    "The example below filters a list for even numbers. Note that the filter function returns a ‘Filter object’ and you need to encapsulate it with a list to return the values."
   ]
  },
  {
   "cell_type": "code",
   "execution_count": 96,
   "metadata": {},
   "outputs": [
    {
     "data": {
      "text/plain": [
       "<filter at 0x2103099bee0>"
      ]
     },
     "execution_count": 96,
     "metadata": {},
     "output_type": "execute_result"
    }
   ],
   "source": [
    "list_1 = [1,2,3,4,5,6,7,8,9]\n",
    "filter(lambda x: x%2==0, list_1)"
   ]
  },
  {
   "cell_type": "code",
   "execution_count": 97,
   "metadata": {},
   "outputs": [
    {
     "data": {
      "text/plain": [
       "[2, 4, 6, 8]"
      ]
     },
     "execution_count": 97,
     "metadata": {},
     "output_type": "execute_result"
    }
   ],
   "source": [
    "list(filter(lambda x: x%2==0, list_1))"
   ]
  },
  {
   "cell_type": "markdown",
   "metadata": {},
   "source": [
    "# Map(). \n",
    "This is another inbuilt python library with the syntax map(function, iterable).\n",
    "This returns a modified list where every value in the original list has been changed based on a function. The example below cubes every number in the list."
   ]
  },
  {
   "cell_type": "code",
   "execution_count": 98,
   "metadata": {},
   "outputs": [
    {
     "data": {
      "text/plain": [
       "[1, 8, 27, 64, 125, 216, 343, 512, 729]"
      ]
     },
     "execution_count": 98,
     "metadata": {},
     "output_type": "execute_result"
    }
   ],
   "source": [
    "list_1 = [1,2,3,4,5,6,7,8,9]\n",
    "cubed = map(lambda x: pow(x,3), list_1)\n",
    "list(cubed)"
   ]
  },
  {
   "cell_type": "code",
   "execution_count": 107,
   "metadata": {},
   "outputs": [
    {
     "name": "stdout",
     "output_type": "stream",
     "text": [
      "[7, 9, 11, 13, 15]\n"
     ]
    }
   ],
   "source": [
    "list1 = [1,2,3,4,5]\n",
    "list2 = [6,7,8,9,10]\n",
    "add = map(lambda x,y: x+y,list1,list2)\n",
    "print(list(add))"
   ]
  },
  {
   "cell_type": "markdown",
   "metadata": {},
   "source": [
    "# Lambda Functions in reduce()\n",
    "The reduce function, like map(), is employed to use an operation to each element in a sequence. However, it’s working is a bit differs from the map function. The following steps are to be followed by the reduce() function to compute an output:\n",
    "\n",
    "Step-1: Perform the defined operation on the primary 2 elements of the sequence.\n",
    "\n",
    "Step-2: Save this result\n",
    "\n",
    "Step-3: Perform the operation with the saved result and therefore the next element within the sequence.\n",
    "\n",
    "Step-4: Repeat until no more elements are left.\n",
    "\n",
    "It also takes two parameters:\n",
    "\n",
    "A function that defines how the operations to be performed\n",
    "A sequence (any iterator like lists, tuples, etc.)"
   ]
  },
  {
   "cell_type": "code",
   "execution_count": 108,
   "metadata": {},
   "outputs": [
    {
     "name": "stdout",
     "output_type": "stream",
     "text": [
      "720\n"
     ]
    }
   ],
   "source": [
    "from functools import reduce\n",
    "sequences = [1,2,3,4,5,6]\n",
    "product = reduce (lambda x, y: x*y, sequences)\n",
    "print(product)"
   ]
  },
  {
   "cell_type": "code",
   "execution_count": 110,
   "metadata": {},
   "outputs": [
    {
     "name": "stdout",
     "output_type": "stream",
     "text": [
      "['aaa', 'bbb']\n"
     ]
    }
   ],
   "source": [
    "words=['abc','aaa','bbb']\n",
    "result = list(filter(lambda x: (x == \"\".join(reversed(x))), words)) \n",
    "print(result)\n"
   ]
  },
  {
   "cell_type": "code",
   "execution_count": 116,
   "metadata": {},
   "outputs": [
    {
     "name": "stdout",
     "output_type": "stream",
     "text": [
      "aaaa\n",
      "a\n",
      "a\n",
      "a\n",
      "a\n"
     ]
    }
   ],
   "source": [
    "a='aaaa'\n",
    "c=reversed(a)\n",
    "b=a[::-1]\n",
    "print(b)\n",
    "#\"\".join(reversed(a))\n",
    "for i in c:\n",
    "    print(i)"
   ]
  },
  {
   "cell_type": "code",
   "execution_count": 124,
   "metadata": {},
   "outputs": [
    {
     "name": "stdout",
     "output_type": "stream",
     "text": [
      "Enter the radius: 5\n",
      "Enter the height: 4\n",
      "314.1592653589793\n",
      "282.7433388230814\n"
     ]
    }
   ],
   "source": [
    "import math as m\n",
    "pi = m.pi\n",
    "r = int(input(\"Enter the radius: \"))\n",
    "h = int(input(\"Enter the height: \"))\n",
    "\n",
    "Vol = pi*(r**2)*h\n",
    "Area = 2*pi*r*(h+r)\n",
    "print(Vol)\n",
    "print(Area)"
   ]
  },
  {
   "cell_type": "code",
   "execution_count": 117,
   "metadata": {},
   "outputs": [
    {
     "data": {
      "text/plain": [
       "['abccba', 'aaaa']"
      ]
     },
     "execution_count": 117,
     "metadata": {},
     "output_type": "execute_result"
    }
   ],
   "source": [
    "list1 = ['abccba', 'pqrst', 'aaaa']\n",
    "palindrome = filter(lambda x: (x== \"\".join(reversed(x))), list1)\n",
    "list(palindrome)"
   ]
  },
  {
   "cell_type": "markdown",
   "metadata": {},
   "source": [
    "# Import \n",
    "in python is similar to #include header_file in C/C++. Python modules can get access to code from another module by importing the file/function using import. The import statement is the most common way of invoking the import machinery, but it is not the only way.\n",
    "\n",
    "import module_name \n",
    "\n",
    "\n",
    "\n",
    "When the import is used, it searches for the module initially in the local scope by calling __import__() function. The value returned by the function is then reflected in the output of the initial code. "
   ]
  },
  {
   "cell_type": "code",
   "execution_count": 118,
   "metadata": {},
   "outputs": [],
   "source": [
    "import math"
   ]
  },
  {
   "cell_type": "code",
   "execution_count": 119,
   "metadata": {},
   "outputs": [
    {
     "name": "stdout",
     "output_type": "stream",
     "text": [
      "pi is 3.141592653589793\n",
      "cos(pi) is -1.0\n"
     ]
    }
   ],
   "source": [
    "import math\n",
    "\n",
    "print('pi is', math.pi)\n",
    "print('cos(pi) is', math.cos(math.pi))"
   ]
  },
  {
   "cell_type": "code",
   "execution_count": 125,
   "metadata": {},
   "outputs": [
    {
     "data": {
      "text/plain": [
       "['abccba', 'aaaa']"
      ]
     },
     "execution_count": 125,
     "metadata": {},
     "output_type": "execute_result"
    }
   ],
   "source": [
    "list1 = ['abccba', 'pqrst', 'aaaa']\n",
    "palindrome = filter(lambda x: (x== \"\".join(reversed(x))), list1)\n",
    "list(palindrome)"
   ]
  },
  {
   "cell_type": "code",
   "execution_count": 120,
   "metadata": {},
   "outputs": [
    {
     "name": "stdout",
     "output_type": "stream",
     "text": [
      "Help on built-in module math:\n",
      "\n",
      "NAME\n",
      "    math\n",
      "\n",
      "DESCRIPTION\n",
      "    This module provides access to the mathematical functions\n",
      "    defined by the C standard.\n",
      "\n",
      "FUNCTIONS\n",
      "    acos(x, /)\n",
      "        Return the arc cosine (measured in radians) of x.\n",
      "    \n",
      "    acosh(x, /)\n",
      "        Return the inverse hyperbolic cosine of x.\n",
      "    \n",
      "    asin(x, /)\n",
      "        Return the arc sine (measured in radians) of x.\n",
      "    \n",
      "    asinh(x, /)\n",
      "        Return the inverse hyperbolic sine of x.\n",
      "    \n",
      "    atan(x, /)\n",
      "        Return the arc tangent (measured in radians) of x.\n",
      "    \n",
      "    atan2(y, x, /)\n",
      "        Return the arc tangent (measured in radians) of y/x.\n",
      "        \n",
      "        Unlike atan(y/x), the signs of both x and y are considered.\n",
      "    \n",
      "    atanh(x, /)\n",
      "        Return the inverse hyperbolic tangent of x.\n",
      "    \n",
      "    ceil(x, /)\n",
      "        Return the ceiling of x as an Integral.\n",
      "        \n",
      "        This is the smallest integer >= x.\n",
      "    \n",
      "    comb(n, k, /)\n",
      "        Number of ways to choose k items from n items without repetition and without order.\n",
      "        \n",
      "        Evaluates to n! / (k! * (n - k)!) when k <= n and evaluates\n",
      "        to zero when k > n.\n",
      "        \n",
      "        Also called the binomial coefficient because it is equivalent\n",
      "        to the coefficient of k-th term in polynomial expansion of the\n",
      "        expression (1 + x)**n.\n",
      "        \n",
      "        Raises TypeError if either of the arguments are not integers.\n",
      "        Raises ValueError if either of the arguments are negative.\n",
      "    \n",
      "    copysign(x, y, /)\n",
      "        Return a float with the magnitude (absolute value) of x but the sign of y.\n",
      "        \n",
      "        On platforms that support signed zeros, copysign(1.0, -0.0)\n",
      "        returns -1.0.\n",
      "    \n",
      "    cos(x, /)\n",
      "        Return the cosine of x (measured in radians).\n",
      "    \n",
      "    cosh(x, /)\n",
      "        Return the hyperbolic cosine of x.\n",
      "    \n",
      "    degrees(x, /)\n",
      "        Convert angle x from radians to degrees.\n",
      "    \n",
      "    dist(p, q, /)\n",
      "        Return the Euclidean distance between two points p and q.\n",
      "        \n",
      "        The points should be specified as sequences (or iterables) of\n",
      "        coordinates.  Both inputs must have the same dimension.\n",
      "        \n",
      "        Roughly equivalent to:\n",
      "            sqrt(sum((px - qx) ** 2.0 for px, qx in zip(p, q)))\n",
      "    \n",
      "    erf(x, /)\n",
      "        Error function at x.\n",
      "    \n",
      "    erfc(x, /)\n",
      "        Complementary error function at x.\n",
      "    \n",
      "    exp(x, /)\n",
      "        Return e raised to the power of x.\n",
      "    \n",
      "    expm1(x, /)\n",
      "        Return exp(x)-1.\n",
      "        \n",
      "        This function avoids the loss of precision involved in the direct evaluation of exp(x)-1 for small x.\n",
      "    \n",
      "    fabs(x, /)\n",
      "        Return the absolute value of the float x.\n",
      "    \n",
      "    factorial(x, /)\n",
      "        Find x!.\n",
      "        \n",
      "        Raise a ValueError if x is negative or non-integral.\n",
      "    \n",
      "    floor(x, /)\n",
      "        Return the floor of x as an Integral.\n",
      "        \n",
      "        This is the largest integer <= x.\n",
      "    \n",
      "    fmod(x, y, /)\n",
      "        Return fmod(x, y), according to platform C.\n",
      "        \n",
      "        x % y may differ.\n",
      "    \n",
      "    frexp(x, /)\n",
      "        Return the mantissa and exponent of x, as pair (m, e).\n",
      "        \n",
      "        m is a float and e is an int, such that x = m * 2.**e.\n",
      "        If x is 0, m and e are both 0.  Else 0.5 <= abs(m) < 1.0.\n",
      "    \n",
      "    fsum(seq, /)\n",
      "        Return an accurate floating point sum of values in the iterable seq.\n",
      "        \n",
      "        Assumes IEEE-754 floating point arithmetic.\n",
      "    \n",
      "    gamma(x, /)\n",
      "        Gamma function at x.\n",
      "    \n",
      "    gcd(x, y, /)\n",
      "        greatest common divisor of x and y\n",
      "    \n",
      "    hypot(...)\n",
      "        hypot(*coordinates) -> value\n",
      "        \n",
      "        Multidimensional Euclidean distance from the origin to a point.\n",
      "        \n",
      "        Roughly equivalent to:\n",
      "            sqrt(sum(x**2 for x in coordinates))\n",
      "        \n",
      "        For a two dimensional point (x, y), gives the hypotenuse\n",
      "        using the Pythagorean theorem:  sqrt(x*x + y*y).\n",
      "        \n",
      "        For example, the hypotenuse of a 3/4/5 right triangle is:\n",
      "        \n",
      "            >>> hypot(3.0, 4.0)\n",
      "            5.0\n",
      "    \n",
      "    isclose(a, b, *, rel_tol=1e-09, abs_tol=0.0)\n",
      "        Determine whether two floating point numbers are close in value.\n",
      "        \n",
      "          rel_tol\n",
      "            maximum difference for being considered \"close\", relative to the\n",
      "            magnitude of the input values\n",
      "          abs_tol\n",
      "            maximum difference for being considered \"close\", regardless of the\n",
      "            magnitude of the input values\n",
      "        \n",
      "        Return True if a is close in value to b, and False otherwise.\n",
      "        \n",
      "        For the values to be considered close, the difference between them\n",
      "        must be smaller than at least one of the tolerances.\n",
      "        \n",
      "        -inf, inf and NaN behave similarly to the IEEE 754 Standard.  That\n",
      "        is, NaN is not close to anything, even itself.  inf and -inf are\n",
      "        only close to themselves.\n",
      "    \n",
      "    isfinite(x, /)\n",
      "        Return True if x is neither an infinity nor a NaN, and False otherwise.\n",
      "    \n",
      "    isinf(x, /)\n",
      "        Return True if x is a positive or negative infinity, and False otherwise.\n",
      "    \n",
      "    isnan(x, /)\n",
      "        Return True if x is a NaN (not a number), and False otherwise.\n",
      "    \n",
      "    isqrt(n, /)\n",
      "        Return the integer part of the square root of the input.\n",
      "    \n",
      "    ldexp(x, i, /)\n",
      "        Return x * (2**i).\n",
      "        \n",
      "        This is essentially the inverse of frexp().\n",
      "    \n",
      "    lgamma(x, /)\n",
      "        Natural logarithm of absolute value of Gamma function at x.\n",
      "    \n",
      "    log(...)\n",
      "        log(x, [base=math.e])\n",
      "        Return the logarithm of x to the given base.\n",
      "        \n",
      "        If the base not specified, returns the natural logarithm (base e) of x.\n",
      "    \n",
      "    log10(x, /)\n",
      "        Return the base 10 logarithm of x.\n",
      "    \n",
      "    log1p(x, /)\n",
      "        Return the natural logarithm of 1+x (base e).\n",
      "        \n",
      "        The result is computed in a way which is accurate for x near zero.\n",
      "    \n",
      "    log2(x, /)\n",
      "        Return the base 2 logarithm of x.\n",
      "    \n",
      "    modf(x, /)\n",
      "        Return the fractional and integer parts of x.\n",
      "        \n",
      "        Both results carry the sign of x and are floats.\n",
      "    \n",
      "    perm(n, k=None, /)\n",
      "        Number of ways to choose k items from n items without repetition and with order.\n",
      "        \n",
      "        Evaluates to n! / (n - k)! when k <= n and evaluates\n",
      "        to zero when k > n.\n",
      "        \n",
      "        If k is not specified or is None, then k defaults to n\n",
      "        and the function returns n!.\n",
      "        \n",
      "        Raises TypeError if either of the arguments are not integers.\n",
      "        Raises ValueError if either of the arguments are negative.\n",
      "    \n",
      "    pow(x, y, /)\n",
      "        Return x**y (x to the power of y).\n",
      "    \n",
      "    prod(iterable, /, *, start=1)\n",
      "        Calculate the product of all the elements in the input iterable.\n",
      "        \n",
      "        The default start value for the product is 1.\n",
      "        \n",
      "        When the iterable is empty, return the start value.  This function is\n",
      "        intended specifically for use with numeric values and may reject\n",
      "        non-numeric types.\n",
      "    \n",
      "    radians(x, /)\n",
      "        Convert angle x from degrees to radians.\n",
      "    \n",
      "    remainder(x, y, /)\n",
      "        Difference between x and the closest integer multiple of y.\n",
      "        \n",
      "        Return x - n*y where n*y is the closest integer multiple of y.\n",
      "        In the case where x is exactly halfway between two multiples of\n",
      "        y, the nearest even value of n is used. The result is always exact.\n",
      "    \n",
      "    sin(x, /)\n",
      "        Return the sine of x (measured in radians).\n",
      "    \n",
      "    sinh(x, /)\n",
      "        Return the hyperbolic sine of x.\n",
      "    \n",
      "    sqrt(x, /)\n",
      "        Return the square root of x.\n",
      "    \n",
      "    tan(x, /)\n",
      "        Return the tangent of x (measured in radians).\n",
      "    \n",
      "    tanh(x, /)\n",
      "        Return the hyperbolic tangent of x.\n",
      "    \n",
      "    trunc(x, /)\n",
      "        Truncates the Real x to the nearest Integral toward 0.\n",
      "        \n",
      "        Uses the __trunc__ magic method.\n",
      "\n",
      "DATA\n",
      "    e = 2.718281828459045\n",
      "    inf = inf\n",
      "    nan = nan\n",
      "    pi = 3.141592653589793\n",
      "    tau = 6.283185307179586\n",
      "\n",
      "FILE\n",
      "    (built-in)\n",
      "\n",
      "\n"
     ]
    }
   ],
   "source": [
    "help(math)"
   ]
  },
  {
   "cell_type": "markdown",
   "metadata": {},
   "source": [
    "This brings us to the end of Fundamentals of Python\n",
    "\n",
    "Two topics have not been covered as of now, they will be introduced after assignments & internal exams \n",
    "* lambda functions\n",
    "* list comprehensions"
   ]
  },
  {
   "cell_type": "markdown",
   "metadata": {},
   "source": [
    "#                                                     THE END"
   ]
  },
  {
   "cell_type": "markdown",
   "metadata": {},
   "source": [
    "___________________________________________________________________________________________________________________________"
   ]
  }
 ],
 "metadata": {
  "anaconda-cloud": {},
  "celltoolbar": "Raw Cell Format",
  "kernelspec": {
   "display_name": "Python 3 (ipykernel)",
   "language": "python",
   "name": "python3"
  },
  "language_info": {
   "codemirror_mode": {
    "name": "ipython",
    "version": 3
   },
   "file_extension": ".py",
   "mimetype": "text/x-python",
   "name": "python",
   "nbconvert_exporter": "python",
   "pygments_lexer": "ipython3",
   "version": "3.8.9"
  }
 },
 "nbformat": 4,
 "nbformat_minor": 1
}
