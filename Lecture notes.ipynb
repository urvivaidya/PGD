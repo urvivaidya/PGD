{
 "cells": [
  {
   "cell_type": "code",
   "execution_count": 11,
   "id": "f1655589",
   "metadata": {},
   "outputs": [
    {
     "name": "stdout",
     "output_type": "stream",
     "text": [
      "{1: 5, 3: 7, 'Urvi': 'python'}\n"
     ]
    }
   ],
   "source": [
    "## dictionaries\n",
    "test_dict = {1:5,3:7,\"Urvi\":\"python\"}\n",
    "print(test_dict)"
   ]
  },
  {
   "cell_type": "code",
   "execution_count": 25,
   "id": "686c2bbe",
   "metadata": {},
   "outputs": [
    {
     "name": "stdout",
     "output_type": "stream",
     "text": [
      "{'a': None, 'o': None, 'e': None, 'i': None, 'u': None}\n",
      "{'a': 'letters', 'o': 'letters', 'e': 'letters', 'i': 'letters', 'u': 'letters'}\n"
     ]
    }
   ],
   "source": [
    "keys ={'a','e','i','o','u'}\n",
    "value='letters'\n",
    "vowels= dict.fromkeys(keys)\n",
    "print(vowels)\n",
    "vowels= dict.fromkeys(keys,value)\n",
    "print(vowels)"
   ]
  },
  {
   "cell_type": "code",
   "execution_count": 36,
   "id": "4cb059e6",
   "metadata": {},
   "outputs": [
    {
     "name": "stdout",
     "output_type": "stream",
     "text": [
      "Name:u\n",
      "Standard:9\n",
      "Maths Marks:90\n",
      "English Marks:90\n",
      "Science Marks:90\n",
      "{'name': 'u', 'std': '9', 'maths': '90', 'english': '90', 'science': '90', 'total': 270, 'percentage': 90.0}\n"
     ]
    }
   ],
   "source": [
    "student ={}\n",
    "name = input(\"Name:\")\n",
    "student[\"name\"]= name\n",
    "std = input(\"Standard:\")\n",
    "student[\"std\"]= std\n",
    "maths = input(\"Maths Marks:\")\n",
    "student[\"maths\"]= maths\n",
    "english = input(\"English Marks:\")\n",
    "student[\"english\"]= english\n",
    "science = input(\"Science Marks:\")\n",
    "student[\"science\"]= science\n",
    "marks = int(maths) + int(english) + int(science)\n",
    "student[\"total\"] = marks\n",
    "percentage = (marks/300) * 100\n",
    "student[\"percentage\"] = percentage\n",
    "print(student)"
   ]
  },
  {
   "cell_type": "code",
   "execution_count": 40,
   "id": "70804cbe",
   "metadata": {},
   "outputs": [
    {
     "data": {
      "text/plain": [
       "set"
      ]
     },
     "execution_count": 40,
     "metadata": {},
     "output_type": "execute_result"
    }
   ],
   "source": [
    "## sets\n",
    "\n",
    "animals = {'cat','dog'}\n",
    "type(animals)          "
   ]
  },
  {
   "cell_type": "code",
   "execution_count": 42,
   "id": "f053da54",
   "metadata": {},
   "outputs": [
    {
     "data": {
      "text/plain": [
       "True"
      ]
     },
     "execution_count": 42,
     "metadata": {},
     "output_type": "execute_result"
    }
   ],
   "source": [
    "'cat' in animals\n",
    "\n"
   ]
  },
  {
   "cell_type": "code",
   "execution_count": null,
   "id": "4d6eee67",
   "metadata": {},
   "outputs": [],
   "source": [
    "'fish' in animals"
   ]
  },
  {
   "cell_type": "code",
   "execution_count": 44,
   "id": "ee13a18d",
   "metadata": {},
   "outputs": [
    {
     "name": "stdout",
     "output_type": "stream",
     "text": [
      "{'dog', 'fish', 'cat'}\n"
     ]
    }
   ],
   "source": [
    "animals.add('fish')\n",
    "print(animals)"
   ]
  },
  {
   "cell_type": "code",
   "execution_count": 45,
   "id": "f175b85b",
   "metadata": {},
   "outputs": [
    {
     "name": "stdout",
     "output_type": "stream",
     "text": [
      "{1, 2, 3, 4, 5, 6, 7, 8}\n",
      "{1, 2, 3, 4, 5, 6, 7, 8}\n"
     ]
    }
   ],
   "source": [
    "a = {1,2,3,4,5,6}\n",
    "b = {3,4,5,6,7,8}\n",
    "\n",
    "c = a.union(b)\n",
    "print(c)\n",
    "\n",
    "d= a|b\n",
    "print(d)"
   ]
  },
  {
   "cell_type": "code",
   "execution_count": 47,
   "id": "d05fc147",
   "metadata": {},
   "outputs": [
    {
     "name": "stdout",
     "output_type": "stream",
     "text": [
      "{1, 2, 3, 4, 5, 6}\n",
      "{3, 4, 5, 6, 7, 8}\n"
     ]
    },
    {
     "data": {
      "text/plain": [
       "False"
      ]
     },
     "execution_count": 47,
     "metadata": {},
     "output_type": "execute_result"
    }
   ],
   "source": [
    "print(a)\n",
    "print(b)\n",
    "a.issubset(b)"
   ]
  },
  {
   "cell_type": "code",
   "execution_count": 48,
   "id": "a7f8f581",
   "metadata": {},
   "outputs": [
    {
     "data": {
      "text/plain": [
       "True"
      ]
     },
     "execution_count": 48,
     "metadata": {},
     "output_type": "execute_result"
    }
   ],
   "source": [
    "p = {1,2,3}\n",
    "q = {1,2,3,4,5}\n",
    "p.issubset(q)"
   ]
  },
  {
   "cell_type": "code",
   "execution_count": 49,
   "id": "c6c89bb6",
   "metadata": {},
   "outputs": [
    {
     "data": {
      "text/plain": [
       "False"
      ]
     },
     "execution_count": 49,
     "metadata": {},
     "output_type": "execute_result"
    }
   ],
   "source": [
    "q.issubset(p)"
   ]
  },
  {
   "cell_type": "code",
   "execution_count": 46,
   "id": "5d6bb878",
   "metadata": {
    "scrolled": true
   },
   "outputs": [
    {
     "name": "stdout",
     "output_type": "stream",
     "text": [
      "{3, 4, 5, 6}\n",
      "{3, 4, 5, 6}\n"
     ]
    }
   ],
   "source": [
    "x = {1,2,3,4,5,6}\n",
    "y = {3,4,5,6,7,8}\n",
    "\n",
    "z = x.intersection(y)\n",
    "print(z)\n",
    "\n",
    "w = x&y\n",
    "print(w)"
   ]
  },
  {
   "cell_type": "code",
   "execution_count": 51,
   "id": "b8c0999e",
   "metadata": {},
   "outputs": [
    {
     "data": {
      "text/plain": [
       "{1, 2}"
      ]
     },
     "execution_count": 51,
     "metadata": {},
     "output_type": "execute_result"
    }
   ],
   "source": [
    "x.difference(y)"
   ]
  },
  {
   "cell_type": "code",
   "execution_count": 52,
   "id": "b16c19a8",
   "metadata": {},
   "outputs": [
    {
     "data": {
      "text/plain": [
       "{1, 2, 7, 8}"
      ]
     },
     "execution_count": 52,
     "metadata": {},
     "output_type": "execute_result"
    }
   ],
   "source": [
    "x.symmetric_difference(y)"
   ]
  },
  {
   "cell_type": "code",
   "execution_count": 50,
   "id": "ed9be98c",
   "metadata": {
    "scrolled": true
   },
   "outputs": [
    {
     "name": "stdout",
     "output_type": "stream",
     "text": [
      "[1, 2, 3, 4, 5, 6, 7, 8] <class 'list'>\n"
     ]
    }
   ],
   "source": [
    "h = [1,1,1,3,3,3,4,4,4,2,2,5,5,5,5,6,7,7,8]\n",
    "nd = list(set(h))\n",
    "print (nd, type(nd))"
   ]
  },
  {
   "cell_type": "code",
   "execution_count": 7,
   "id": "731e2fc0",
   "metadata": {},
   "outputs": [
    {
     "name": "stdout",
     "output_type": "stream",
     "text": [
      "1\n",
      "22\n",
      "333\n",
      "4444\n",
      "55555\n"
     ]
    }
   ],
   "source": [
    "## loop for printing a pattern \n",
    "for i in range(1,6):\n",
    "    print(str(i)*i)"
   ]
  },
  {
   "cell_type": "code",
   "execution_count": 56,
   "id": "521139f6",
   "metadata": {},
   "outputs": [
    {
     "name": "stdout",
     "output_type": "stream",
     "text": [
      "1 \n",
      "2 3 \n",
      "4 5 6 \n",
      "7 8 9 10 \n",
      "11 12 13 14 15 \n"
     ]
    }
   ],
   "source": [
    "# nested for loop for incremental numbers \n",
    "x = 1\n",
    "for i in range(1,6):\n",
    "    for j in range(1,i+1):\n",
    "        print(x, end=\" \")\n",
    "        x+=1\n",
    "    print(\"\")"
   ]
  },
  {
   "cell_type": "code",
   "execution_count": 33,
   "id": "d43c2bfe",
   "metadata": {},
   "outputs": [
    {
     "name": "stdout",
     "output_type": "stream",
     "text": [
      "11111\n",
      "2222\n",
      "333\n",
      "44\n",
      "5\n"
     ]
    }
   ],
   "source": [
    "## loop for printing a pattern \n",
    "x = 5\n",
    "for i in range(1,6):\n",
    "    print(str(i)*x)\n",
    "    x-=1"
   ]
  },
  {
   "cell_type": "code",
   "execution_count": 55,
   "id": "e005d7de",
   "metadata": {},
   "outputs": [
    {
     "name": "stdout",
     "output_type": "stream",
     "text": [
      "1 \n",
      "2 4 \n",
      "3 6 9 \n",
      "4 8 12 16 \n",
      "5 10 15 20 25 \n"
     ]
    }
   ],
   "source": [
    "# nested for loop for incremental numbers \n",
    "\n",
    "for i in range(1,6):\n",
    "    for j in range(1,i+1):\n",
    "        print(i*j, end=\" \")\n",
    "    print(\"\")\n"
   ]
  },
  {
   "cell_type": "code",
   "execution_count": 64,
   "id": "1d6e96cc",
   "metadata": {},
   "outputs": [
    {
     "name": "stdout",
     "output_type": "stream",
     "text": [
      "13\n"
     ]
    }
   ],
   "source": [
    "# counting the number of vowels in a string\n",
    "st = \"This is introduction to for loops in python\"\n",
    "vowel = [\"a\",\"e\",\"i\",\"o\",\"u\"]\n",
    "count = 0 \n",
    "for i in list(st.lower()):\n",
    "    for j in vowel:\n",
    "        if j in i:\n",
    "            count +=1\n",
    "print(count)"
   ]
  },
  {
   "cell_type": "code",
   "execution_count": 31,
   "id": "c0557233",
   "metadata": {
    "scrolled": true
   },
   "outputs": [
    {
     "name": "stdout",
     "output_type": "stream",
     "text": [
      "Enter number of hrs:60\n",
      "Enter rate/hr:7\n",
      "490.0\n",
      "If then ... then collect from accounts\n"
     ]
    }
   ],
   "source": [
    "try :\n",
    "    n = float(input(\"Enter number of hrs:\"))\n",
    "    r = float(input(\"Enter rate/hr:\"))\n",
    "\n",
    "    if n > 40:\n",
    "        eh = n - 40\n",
    "        pay = (40*r) + (eh*r*1.5)\n",
    "    else:\n",
    "        pay = (n*r)\n",
    "\n",
    "    print(pay)\n",
    "\n",
    "except :\n",
    "    print(\"Please input numeric values\")\n",
    "\n",
    "finally :\n",
    "    print(\"If then ... then collect from accounts\" )"
   ]
  },
  {
   "cell_type": "code",
   "execution_count": null,
   "id": "b0629efe",
   "metadata": {},
   "outputs": [],
   "source": [
    "# Write a program to print the following using while loop"
   ]
  },
  {
   "cell_type": "code",
   "execution_count": 5,
   "id": "ab31a589",
   "metadata": {},
   "outputs": [
    {
     "name": "stdout",
     "output_type": "stream",
     "text": [
      "1\n",
      "3\n",
      "5\n",
      "7\n",
      "9\n",
      "11\n",
      "13\n",
      "15\n",
      "17\n",
      "19\n"
     ]
    }
   ],
   "source": [
    "# a. First 10 Even numbers\n",
    "num = 1\n",
    "while(num<=20):\n",
    "    print(num)\n",
    "    num = num + 2"
   ]
  },
  {
   "cell_type": "code",
   "execution_count": 8,
   "id": "d530fd52",
   "metadata": {},
   "outputs": [
    {
     "name": "stdout",
     "output_type": "stream",
     "text": [
      "1\n",
      "3\n",
      "5\n",
      "7\n",
      "9\n",
      "11\n",
      "13\n",
      "15\n",
      "17\n",
      "19\n"
     ]
    }
   ],
   "source": [
    "# b. First 10 Odd numbers\n",
    "num = 1 \n",
    "while(num<=20):   \n",
    "    print(num)   \n",
    "    num = num + 2"
   ]
  },
  {
   "cell_type": "code",
   "execution_count": 22,
   "id": "e5c9e2ba",
   "metadata": {},
   "outputs": [
    {
     "name": "stdout",
     "output_type": "stream",
     "text": [
      "55\n"
     ]
    }
   ],
   "source": [
    "# c. First 10 Natural numbers\n",
    "x = 1\n",
    "while x <= 10:\n",
    "    print(x)\n",
    "    x+=1\n"
   ]
  },
  {
   "cell_type": "code",
   "execution_count": null,
   "id": "38234b31",
   "metadata": {},
   "outputs": [],
   "source": [
    "# d. First 10 Whole numbers\n",
    "x = 1\n",
    "while x <= 10:\n",
    "    print(x)\n",
    "    x+=1"
   ]
  },
  {
   "cell_type": "code",
   "execution_count": 16,
   "id": "e5913f78",
   "metadata": {},
   "outputs": [
    {
     "name": "stdout",
     "output_type": "stream",
     "text": [
      "The number is:  1\n",
      "The square of the above number is:  1\n",
      "The number is:  2\n",
      "The square of the above number is:  4\n",
      "The number is:  3\n",
      "The square of the above number is:  9\n",
      "The number is:  4\n",
      "The square of the above number is:  16\n",
      "The number is:  5\n",
      "The square of the above number is:  25\n",
      "The number is:  6\n",
      "The square of the above number is:  36\n",
      "The number is:  7\n",
      "The square of the above number is:  49\n",
      "The number is:  8\n",
      "The square of the above number is:  64\n",
      "The number is:  9\n",
      "The square of the above number is:  81\n",
      "The number is:  10\n",
      "The square of the above number is:  100\n"
     ]
    }
   ],
   "source": [
    "# Write a program to print first 10 integers and their squares using while loop.\n",
    "x = 1\n",
    "while(x<=10):\n",
    "    print(\"The number is: \",x)\n",
    "    print(\"The square of the above number is: \", x*x)\n",
    "    x= x+1"
   ]
  },
  {
   "cell_type": "code",
   "execution_count": null,
   "id": "f3546ab4",
   "metadata": {},
   "outputs": [],
   "source": [
    "# Sum of First 10 Natural numbers\n",
    "x = 1\n",
    "sum_x = 0\n",
    "while x <= 10:\n",
    "    sum_x = sum_x + x\n",
    "    x+=1\n",
    "print(sum_x)"
   ]
  },
  {
   "cell_type": "markdown",
   "id": "6e0a9bec",
   "metadata": {},
   "source": [
    "\n"
   ]
  },
  {
   "cell_type": "code",
   "execution_count": 29,
   "id": "7fc1ddbf",
   "metadata": {},
   "outputs": [
    {
     "name": "stdout",
     "output_type": "stream",
     "text": [
      "Enter a number7\n",
      "7  is a prime number\n"
     ]
    }
   ],
   "source": [
    "# if a number is prime or no\n",
    "x = int(input(\"Enter a number\"))\n",
    "a = 1\n",
    "b = 2\n",
    "for i in range(1,(x-1)):\n",
    "    if x % b == 0:\n",
    "        a = 0\n",
    "    else:\n",
    "        i += 1\n",
    "        b +=1\n",
    "        \n",
    "if a == 1:\n",
    "    print(x,\" is a prime number\")\n",
    "else:\n",
    "    print(x,\" is not a prime number\")"
   ]
  },
  {
   "cell_type": "code",
   "execution_count": 37,
   "id": "7e1cc951",
   "metadata": {},
   "outputs": [
    {
     "name": "stdout",
     "output_type": "stream",
     "text": [
      "1\n",
      "2\n",
      "3\n",
      "5\n",
      "8\n"
     ]
    }
   ],
   "source": [
    "# fibonacci sequence\n",
    "x = 0\n",
    "y = 1\n",
    "\n",
    "print(x)\n",
    "for i in range(1,6):\n",
    "    sum = x + y\n",
    "    x = y\n",
    "    y = sum\n",
    "    print(sum)\n",
    "    i+=1\n",
    "    "
   ]
  },
  {
   "cell_type": "code",
   "execution_count": 38,
   "id": "02be8c97",
   "metadata": {},
   "outputs": [
    {
     "name": "stdout",
     "output_type": "stream",
     "text": [
      "Enter the length:5\n",
      "0\n",
      "1\n",
      "2\n",
      "3\n",
      "5\n"
     ]
    }
   ],
   "source": [
    "# fibonacci sequence with user input\n",
    "z = int(input(\"Enter the length: \"))\n",
    "x = 0\n",
    "y = 1\n",
    "\n",
    "print(x)\n",
    "for i in range(1,z):\n",
    "    sum = x + y\n",
    "    x = y\n",
    "    y = sum\n",
    "    print(sum)\n",
    "    i+=1"
   ]
  },
  {
   "cell_type": "code",
   "execution_count": 39,
   "id": "46328286",
   "metadata": {},
   "outputs": [
    {
     "name": "stdout",
     "output_type": "stream",
     "text": [
      "['L', 'i', 's', 't', ' ', 'C', 'o', 'm', 'p', 'r', 'e', 'h', 'e', 'n', 's', 'i', 'o', 'n', 's']\n",
      "['L', 'i', 's', 't', ' ', 'C', 'o', 'm', 'p', 'r', 'e', 'h', 'e', 'n', 's', 'i', 'o', 'n', 's']\n"
     ]
    }
   ],
   "source": [
    "# list comprehensions\n",
    "# conventional for loop\n",
    "List = []\n",
    "\n",
    "for character in \"List Comprehensions\":\n",
    "    List.append(character)\n",
    "print(List)    \n",
    "    \n",
    "# alternate - List comprehension method\n",
    "List = [character for character in \"List Comprehensions\"]\n",
    "print(List) "
   ]
  },
  {
   "cell_type": "code",
   "execution_count": 1,
   "id": "537b6245",
   "metadata": {},
   "outputs": [
    {
     "name": "stdout",
     "output_type": "stream",
     "text": [
      "[1, 9, 25, 49]\n"
     ]
    }
   ],
   "source": [
    "# list comprehensions for numbers\n",
    "numbers = [1,3,5,7]\n",
    "squares = [i**2 for i in numbers]\n",
    "print(squares)"
   ]
  },
  {
   "cell_type": "code",
   "execution_count": 50,
   "id": "a15c1202",
   "metadata": {},
   "outputs": [
    {
     "name": "stdout",
     "output_type": "stream",
     "text": [
      "[8, 16, 24, 32, 40, 48, 56, 64, 72, 80, 88, 96, 104, 112, 120, 128, 136, 144, 152, 160, 168, 176, 184, 192, 200, 208, 216, 224, 232, 240, 248, 256, 264, 272, 280, 288, 296, 304, 312, 320, 328, 336, 344, 352, 360, 368, 376, 384, 392, 400, 408, 416, 424, 432, 440, 448, 456, 464, 472, 480, 488, 496, 504, 512, 520, 528, 536, 544, 552, 560, 568, 576, 584, 592, 600, 608, 616, 624, 632, 640, 648, 656, 664, 672, 680, 688, 696, 704, 712, 720, 728, 736, 744, 752, 760, 768, 776, 784, 792, 800, 808, 816, 824, 832, 840, 848, 856, 864, 872, 880, 888, 896, 904, 912, 920, 928, 936, 944, 952, 960, 968, 976, 984, 992]\n"
     ]
    }
   ],
   "source": [
    "# Find all of the numbers from 1–1000 that are divisible by 8\n",
    "numbers = [i for i in range(1,1000) if i%8 == 0 ]\n",
    "print(numbers)"
   ]
  },
  {
   "cell_type": "code",
   "execution_count": 15,
   "id": "95468bf5",
   "metadata": {},
   "outputs": [
    {
     "name": "stdout",
     "output_type": "stream",
     "text": [
      "1\n"
     ]
    }
   ],
   "source": [
    "# Count the number of spaces in a string using list comprehensions\n",
    "\n",
    "List = len ([character for character in \"List Comprehensions\" if character ==' '])\n",
    "print(List)\n"
   ]
  },
  {
   "cell_type": "code",
   "execution_count": null,
   "id": "47c47a26",
   "metadata": {},
   "outputs": [],
   "source": []
  },
  {
   "cell_type": "code",
   "execution_count": 18,
   "id": "344b23d8",
   "metadata": {},
   "outputs": [
    {
     "data": {
      "text/plain": [
       "{0: 0,\n",
       " 2: 8,\n",
       " 4: 64,\n",
       " 6: 216,\n",
       " 8: 512,\n",
       " 10: 1000,\n",
       " 12: 1728,\n",
       " 14: 2744,\n",
       " 16: 4096,\n",
       " 18: 5832,\n",
       " 20: 8000,\n",
       " 22: 10648,\n",
       " 24: 13824,\n",
       " 26: 17576,\n",
       " 28: 21952,\n",
       " 30: 27000,\n",
       " 32: 32768,\n",
       " 34: 39304,\n",
       " 36: 46656,\n",
       " 38: 54872,\n",
       " 40: 64000,\n",
       " 42: 74088,\n",
       " 44: 85184,\n",
       " 46: 97336,\n",
       " 48: 110592,\n",
       " 50: 125000,\n",
       " 52: 140608,\n",
       " 54: 157464,\n",
       " 56: 175616,\n",
       " 58: 195112,\n",
       " 60: 216000,\n",
       " 62: 238328,\n",
       " 64: 262144,\n",
       " 66: 287496,\n",
       " 68: 314432,\n",
       " 70: 343000,\n",
       " 72: 373248,\n",
       " 74: 405224,\n",
       " 76: 438976,\n",
       " 78: 474552,\n",
       " 80: 512000,\n",
       " 82: 551368,\n",
       " 84: 592704,\n",
       " 86: 636056,\n",
       " 88: 681472,\n",
       " 90: 729000,\n",
       " 92: 778688,\n",
       " 94: 830584,\n",
       " 96: 884736,\n",
       " 98: 941192,\n",
       " 100: 1000000,\n",
       " 102: 1061208,\n",
       " 104: 1124864,\n",
       " 106: 1191016,\n",
       " 108: 1259712,\n",
       " 110: 1331000,\n",
       " 112: 1404928,\n",
       " 114: 1481544,\n",
       " 116: 1560896,\n",
       " 118: 1643032,\n",
       " 120: 1728000,\n",
       " 122: 1815848,\n",
       " 124: 1906624,\n",
       " 126: 2000376,\n",
       " 128: 2097152,\n",
       " 130: 2197000,\n",
       " 132: 2299968,\n",
       " 134: 2406104,\n",
       " 136: 2515456,\n",
       " 138: 2628072,\n",
       " 140: 2744000,\n",
       " 142: 2863288,\n",
       " 144: 2985984,\n",
       " 146: 3112136,\n",
       " 148: 3241792,\n",
       " 150: 3375000,\n",
       " 152: 3511808,\n",
       " 154: 3652264,\n",
       " 156: 3796416,\n",
       " 158: 3944312,\n",
       " 160: 4096000,\n",
       " 162: 4251528,\n",
       " 164: 4410944,\n",
       " 166: 4574296,\n",
       " 168: 4741632,\n",
       " 170: 4913000,\n",
       " 172: 5088448,\n",
       " 174: 5268024,\n",
       " 176: 5451776,\n",
       " 178: 5639752,\n",
       " 180: 5832000,\n",
       " 182: 6028568,\n",
       " 184: 6229504,\n",
       " 186: 6434856,\n",
       " 188: 6644672,\n",
       " 190: 6859000,\n",
       " 192: 7077888,\n",
       " 194: 7301384,\n",
       " 196: 7529536,\n",
       " 198: 7762392}"
      ]
     },
     "execution_count": 18,
     "metadata": {},
     "output_type": "execute_result"
    }
   ],
   "source": [
    "# Calculate cubes for all even numbers till 200 using dictionary comprehensions\n",
    "\n",
    "cubes = {x : x*x*x for x in range(200) if x%2==0}\n",
    "cubes"
   ]
  },
  {
   "cell_type": "code",
   "execution_count": 19,
   "id": "4ecbe01f",
   "metadata": {},
   "outputs": [
    {
     "name": "stdout",
     "output_type": "stream",
     "text": [
      "Enter a sentence: urvi vaidya\n",
      "{'urvi': 4, 'vaidya': 6}\n"
     ]
    }
   ],
   "source": [
    "# Use a dictionary comprehension to count the length of each word in a sentence \n",
    "\n",
    "inp = input(\"Enter a sentence: \")\n",
    "str_count = {x:len(x) for x in inp.split()}\n",
    "print(str_count)"
   ]
  },
  {
   "cell_type": "code",
   "execution_count": 31,
   "id": "1a911d08",
   "metadata": {},
   "outputs": [
    {
     "name": "stdout",
     "output_type": "stream",
     "text": [
      "Enter a sentence: Urvi vaidya\n",
      "rv vdy\n"
     ]
    }
   ],
   "source": [
    "# Remove all of the vowels in a string using list comprehensions\n",
    "\n",
    "string_s = input(\"Enter a sentence: \")\n",
    "list = ''.join([character for character in string_s.lower() if character not in [\"a\",\"e\",\"i\",\"o\",\"u\"]])\n",
    "print(list)"
   ]
  },
  {
   "cell_type": "code",
   "execution_count": 10,
   "id": "be7ae86e",
   "metadata": {},
   "outputs": [
    {
     "name": "stdout",
     "output_type": "stream",
     "text": [
      "Factorial of 5 is 120\n"
     ]
    }
   ],
   "source": [
    "# recursive function\n",
    "def factorial(n):\n",
    "    if n < 0:\n",
    "        print(\"Sorry, factorial does not exist for negative numbers\")\n",
    "    elif n <=0:\n",
    "        return(1)\n",
    "    else:\n",
    "        v = n*factorial(n-1)\n",
    "        return(v)\n",
    "    \n",
    "x = 5\n",
    "print(f'Factorial of {x} is {factorial(x)}')"
   ]
  },
  {
   "cell_type": "code",
   "execution_count": 44,
   "id": "ff176dfe",
   "metadata": {},
   "outputs": [
    {
     "data": {
      "text/plain": [
       "[0, 1, 2, 3, 5, 8, 13, 21]"
      ]
     },
     "execution_count": 44,
     "metadata": {},
     "output_type": "execute_result"
    }
   ],
   "source": [
    "# function for fibonacci \n",
    "\n",
    "def fibonacci(n): \n",
    "    x = 0\n",
    "    y = 1\n",
    "\n",
    "    list_fib = [x]\n",
    "    for i in range(1,n):\n",
    "        sum = x + y\n",
    "        x = y\n",
    "        y = sum\n",
    "        list_fib.append(sum)\n",
    "        i+=1\n",
    "    return(list_fib)\n",
    "    \n",
    "fibonacci(8)"
   ]
  },
  {
   "cell_type": "code",
   "execution_count": 62,
   "id": "12c33d79",
   "metadata": {},
   "outputs": [
    {
     "data": {
      "text/plain": [
       "78"
      ]
     },
     "execution_count": 62,
     "metadata": {},
     "output_type": "execute_result"
    }
   ],
   "source": [
    "# Write a Python function to sum all the numbers in a list.\n",
    "\n",
    "def add(x):\n",
    "    total = 0\n",
    "    for i in range(len(x)):\n",
    "        total += x[i]\n",
    "    return total\n",
    "\n",
    "num = [1,2,3,4,5,6,7,8,9,10,11,12]\n",
    "add(num)"
   ]
  },
  {
   "cell_type": "code",
   "execution_count": 2,
   "id": "47550a1e",
   "metadata": {},
   "outputs": [
    {
     "data": {
      "text/plain": [
       "479001600"
      ]
     },
     "execution_count": 2,
     "metadata": {},
     "output_type": "execute_result"
    }
   ],
   "source": [
    "# Write a Python function to multiply all the numbers in a list.\n",
    "def mult(nums):\n",
    "    count=1\n",
    "    for i in nums:\n",
    "        count*=i\n",
    "    return count\n",
    "\n",
    "nums = [1,2,3,4,5,6,7,8,9,10,11,12]\n",
    "mult(nums)\n"
   ]
  },
  {
   "cell_type": "code",
   "execution_count": 19,
   "id": "69dc5565",
   "metadata": {},
   "outputs": [
    {
     "data": {
      "text/plain": [
       "10"
      ]
     },
     "execution_count": 19,
     "metadata": {},
     "output_type": "execute_result"
    }
   ],
   "source": [
    "# find the maximum number in a listdef maximum(num):\n",
    "    max_no = 0\n",
    "    for i in num:\n",
    "        if i>max_no:\n",
    "            max_no = i\n",
    "            \n",
    "    return max_no\n",
    "           \n",
    "            \n",
    "num = [1,2,-3,2,-6,10]\n",
    "maximum(num)\n",
    "    \n",
    "\n",
    "                "
   ]
  },
  {
   "cell_type": "code",
   "execution_count": 26,
   "id": "fd0a23f5",
   "metadata": {},
   "outputs": [
    {
     "name": "stdout",
     "output_type": "stream",
     "text": [
      "12.96\n",
      "4.0\n",
      "4\n",
      "8\n",
      "8\n"
     ]
    }
   ],
   "source": [
    "# default values\n",
    "\n",
    "def area(shape,base=None,height=None, radius=None, side=None, length=None,breadth=None):\n",
    "    \n",
    "    if shape.upper() == 'CIRCLE':\n",
    "        return (3.24*radius*radius)\n",
    "    \n",
    "    elif shape.upper() == 'TRIANGLE':\n",
    "        return (0.5*base*height)\n",
    "    \n",
    "    elif shape.upper() == 'SQUARE':\n",
    "        return (side*side)\n",
    "    \n",
    "    elif shape.upper() == 'RECTANGLE':\n",
    "        return (length*breadth)\n",
    "    \n",
    "    else:\n",
    "        return(None)\n",
    "    \n",
    "print(area(\"circle\",radius=2))\n",
    "print(area(\"triangle\",base=2,height=4))\n",
    "print(area(\"square\",side=2))\n",
    "print(area(\"rectangle\",length=2,breadth=4))\n",
    "print(area(\"rectangle\",breadth=2,length=4))"
   ]
  },
  {
   "cell_type": "code",
   "execution_count": 28,
   "id": "6092511b",
   "metadata": {},
   "outputs": [
    {
     "name": "stdout",
     "output_type": "stream",
     "text": [
      "1\n",
      "2\n",
      "3\n",
      "4\n",
      "5\n"
     ]
    }
   ],
   "source": [
    "# unknown no of arguments to be passed in a function\n",
    "\n",
    "def exp(*arg):\n",
    "    for i in arg:\n",
    "        print(i)\n",
    "        \n",
    "exp (1,2,3,4,5)"
   ]
  },
  {
   "cell_type": "code",
   "execution_count": 3,
   "id": "bcf59459",
   "metadata": {},
   "outputs": [
    {
     "data": {
      "text/plain": [
       "[2, 4]"
      ]
     },
     "execution_count": 3,
     "metadata": {},
     "output_type": "execute_result"
    }
   ],
   "source": [
    "# lambda functions \n",
    "\n",
    "list_1 = [1,2,3,4,5]\n",
    "list(filter(lambda x : x%2 == 0, list_1))"
   ]
  },
  {
   "cell_type": "code",
   "execution_count": 2,
   "id": "29d97982",
   "metadata": {},
   "outputs": [
    {
     "name": "stdout",
     "output_type": "stream",
     "text": [
      "Enter a number6\n",
      "21\n"
     ]
    }
   ],
   "source": [
    "# Write a Python program to create a lambda function that adds 15 to a given number passed in as an argument\n",
    "n= int(input('Enter a number'))\n",
    "add = lambda x: x+15\n",
    "print(add(n))"
   ]
  },
  {
   "cell_type": "code",
   "execution_count": 10,
   "id": "6ff7d862",
   "metadata": {},
   "outputs": [
    {
     "data": {
      "text/plain": [
       "2"
      ]
     },
     "execution_count": 10,
     "metadata": {},
     "output_type": "execute_result"
    }
   ],
   "source": [
    "# return count of even numbers\n",
    "\n",
    "list_1 = [1,2,3,4,5]\n",
    "len(list(filter(lambda x : x%2 == 0, list_1)))\n"
   ]
  },
  {
   "cell_type": "code",
   "execution_count": 11,
   "id": "b1be69aa",
   "metadata": {},
   "outputs": [
    {
     "data": {
      "text/plain": [
       "3"
      ]
     },
     "execution_count": 11,
     "metadata": {},
     "output_type": "execute_result"
    }
   ],
   "source": [
    "# return count of odd nos\n",
    "list_1 = [1,2,3,4,5]\n",
    "odd = len(list(filter(lambda x : x%2 != 0, list_1)))\n",
    "print(odd)"
   ]
  },
  {
   "cell_type": "code",
   "execution_count": 12,
   "id": "42f195de",
   "metadata": {},
   "outputs": [
    {
     "name": "stdout",
     "output_type": "stream",
     "text": [
      "[2, 4, 6, 8, 10]\n"
     ]
    }
   ],
   "source": [
    "# add two lists using map and lambda\n",
    "\n",
    "list_1 = [1,2,3,4,5]\n",
    "list_2 = [1,2,3,4,5]\n",
    "\n",
    "add = map(lambda x,y:x+y, list_1, list_2)\n",
    "print(list (add))"
   ]
  },
  {
   "cell_type": "code",
   "execution_count": 14,
   "id": "42fe7445",
   "metadata": {},
   "outputs": [
    {
     "name": "stdout",
     "output_type": "stream",
     "text": [
      "120\n"
     ]
    }
   ],
   "source": [
    "# lambda functions in reduce() which only works on sequences not single valu\n",
    "\n",
    "from functools import reduce\n",
    "sequences = [1,2,3,4,5]\n",
    "product = reduce(lambda x,y: x*y, sequences)\n",
    "print(product)\n"
   ]
  },
  {
   "cell_type": "code",
   "execution_count": 17,
   "id": "7a283c69",
   "metadata": {},
   "outputs": [
    {
     "name": "stdout",
     "output_type": "stream",
     "text": [
      "225\n"
     ]
    }
   ],
   "source": [
    "# cube every number then add it using lambda\n",
    "\n",
    "from functools import reduce\n",
    "sequences = [1,2,3,4,5]\n",
    "cube_sum = reduce(lambda x,y: x+y, list(map(lambda x : pow(x,3), sequences)))\n",
    "print(cube_sum)"
   ]
  },
  {
   "cell_type": "code",
   "execution_count": 20,
   "id": "5a0a9114",
   "metadata": {},
   "outputs": [
    {
     "name": "stdout",
     "output_type": "stream",
     "text": [
      "['aaa', 'bbbb']\n"
     ]
    }
   ],
   "source": [
    "# find if a number is a palindrome using lambda\n",
    "\n",
    "# option 1\n",
    "words =[\"about\",\"aaa\",\"bbbb\"]\n",
    "result = list(filter(lambda x: (x == \"\".join(reversed(x))), words))\n",
    "print(result)\n",
    "\n",
    "              "
   ]
  },
  {
   "cell_type": "code",
   "execution_count": 28,
   "id": "cf18e0c2",
   "metadata": {},
   "outputs": [
    {
     "data": {
      "text/plain": [
       "['aaa', 'bbbb']"
      ]
     },
     "execution_count": 28,
     "metadata": {},
     "output_type": "execute_result"
    }
   ],
   "source": [
    "# option 2\n",
    "\n",
    "words =[\"about\",\"aaa\",\"bbbb\"]\n",
    "result2 = filter(lambda x: x==x[::-1], words)\n",
    "list(result2)"
   ]
  },
  {
   "cell_type": "code",
   "execution_count": 29,
   "id": "0d58c85d",
   "metadata": {},
   "outputs": [
    {
     "name": "stdout",
     "output_type": "stream",
     "text": [
      "pi =  3.141592653589793\n",
      "cos(pi) =  -1.0\n"
     ]
    }
   ],
   "source": [
    "# importing functions\n",
    "\n",
    "# using the math library\n",
    "\n",
    "import math\n",
    "\n",
    "print(\"pi = \", math.pi)\n",
    "\n",
    "print(\"cos(pi) = \", math.cos(math.pi))"
   ]
  },
  {
   "cell_type": "code",
   "execution_count": 31,
   "id": "829f63cb",
   "metadata": {},
   "outputs": [
    {
     "name": "stdout",
     "output_type": "stream",
     "text": [
      "pi =  3.141592653589793\n",
      "cos(pi) =  -1.0\n"
     ]
    }
   ],
   "source": [
    "# alternatively if you dont want to use math. you can import \n",
    "from math import pi, cos\n",
    "\n",
    "print(\"pi = \", pi)\n",
    "\n",
    "print(\"cos(pi) = \", cos(pi))"
   ]
  },
  {
   "cell_type": "code",
   "execution_count": 33,
   "id": "6f7e3c81",
   "metadata": {},
   "outputs": [
    {
     "name": "stdout",
     "output_type": "stream",
     "text": [
      "50.26548245743669\n",
      "75.39822368615503\n"
     ]
    }
   ],
   "source": [
    "# find area and volume of a cylinder \n",
    "\n",
    "from math import pi\n",
    "\n",
    "r = 2\n",
    "h = 4\n",
    "\n",
    "volume = pi*r**2*h\n",
    "area = (2*pi*r*h) + (2*pi*r**2)\n",
    "print(volume)\n",
    "print(area)"
   ]
  },
  {
   "cell_type": "code",
   "execution_count": 35,
   "id": "4f983c8c",
   "metadata": {},
   "outputs": [
    {
     "name": "stdout",
     "output_type": "stream",
     "text": [
      "Enter a no: 4\n",
      "2.0\n"
     ]
    }
   ],
   "source": [
    "from math import sqrt\n",
    "num = int(input(\"Enter a no: \"))\n",
    "\n",
    "rt = sqrt(num)\n",
    "\n",
    "print(rt)"
   ]
  },
  {
   "cell_type": "code",
   "execution_count": 38,
   "id": "eabbebd2",
   "metadata": {},
   "outputs": [
    {
     "name": "stdout",
     "output_type": "stream",
     "text": [
      "Enter a no: 5\n",
      "120\n"
     ]
    }
   ],
   "source": [
    "from math import factorial\n",
    "num = int(input(\"Enter a no: \"))\n",
    "\n",
    "fact = factorial(num)\n",
    "\n",
    "print(fact)"
   ]
  },
  {
   "cell_type": "code",
   "execution_count": 40,
   "id": "f25da286",
   "metadata": {},
   "outputs": [
    {
     "name": "stdout",
     "output_type": "stream",
     "text": [
      "Enter the radius: 2\n",
      "Enter the height: 4\n"
     ]
    },
    {
     "ename": "TypeError",
     "evalue": "'int' object is not callable",
     "output_type": "error",
     "traceback": [
      "\u001b[0;31m---------------------------------------------------------------------------\u001b[0m",
      "\u001b[0;31mTypeError\u001b[0m                                 Traceback (most recent call last)",
      "\u001b[0;32m/var/folders/ym/2h22q1p55915jphkjky0p1_h0000gn/T/ipykernel_869/3924488596.py\u001b[0m in \u001b[0;36m<module>\u001b[0;34m\u001b[0m\n\u001b[1;32m      5\u001b[0m \u001b[0;34m\u001b[0m\u001b[0m\n\u001b[1;32m      6\u001b[0m \u001b[0mVol\u001b[0m \u001b[0;34m=\u001b[0m \u001b[0mpi\u001b[0m\u001b[0;34m*\u001b[0m\u001b[0;34m(\u001b[0m\u001b[0mr\u001b[0m\u001b[0;34m**\u001b[0m\u001b[0;36m2\u001b[0m\u001b[0;34m)\u001b[0m\u001b[0;34m*\u001b[0m\u001b[0mh\u001b[0m\u001b[0;34m\u001b[0m\u001b[0;34m\u001b[0m\u001b[0m\n\u001b[0;32m----> 7\u001b[0;31m \u001b[0mArea\u001b[0m \u001b[0;34m=\u001b[0m \u001b[0;36m2\u001b[0m\u001b[0;34m*\u001b[0m\u001b[0mpi\u001b[0m\u001b[0;34m*\u001b[0m\u001b[0mr\u001b[0m\u001b[0;34m(\u001b[0m\u001b[0mh\u001b[0m\u001b[0;34m+\u001b[0m\u001b[0mr\u001b[0m\u001b[0;34m)\u001b[0m\u001b[0;34m\u001b[0m\u001b[0;34m\u001b[0m\u001b[0m\n\u001b[0m\u001b[1;32m      8\u001b[0m \u001b[0mprint\u001b[0m\u001b[0;34m(\u001b[0m\u001b[0mVol\u001b[0m\u001b[0;34m)\u001b[0m\u001b[0;34m\u001b[0m\u001b[0;34m\u001b[0m\u001b[0m\n",
      "\u001b[0;31mTypeError\u001b[0m: 'int' object is not callable"
     ]
    }
   ],
   "source": [
    "# keyush code\n",
    "import math as m\n",
    "pi = m.pi\n",
    "r = int(input(\"Enter the radius: \"))\n",
    "h = int(input(\"Enter the height: \"))\n",
    "\n",
    "Vol = pi*(r**2)*h\n",
    "Area = 2*pi*r(h+r)\n",
    "print(Vol)"
   ]
  },
  {
   "cell_type": "code",
   "execution_count": 5,
   "id": "fa99efd6",
   "metadata": {},
   "outputs": [],
   "source": [
    "# opening, reading, writing and closing files\n",
    "try:\n",
    "    f = open('test.txt','r', encoding='utf-8')\n",
    "finally:\n",
    "    f.close()"
   ]
  },
  {
   "cell_type": "code",
   "execution_count": 7,
   "id": "e392cdc0",
   "metadata": {},
   "outputs": [],
   "source": [
    "with open('test.txt','w', encoding='utf-8') as f:\n",
    "    f.write(\"Hello\\n\")\n",
    "    f.write(\"Python is an interpreted language\\n\")\n",
    "    f.write(\"W allows users to write to files\\n\")\n",
    "    f.write(\"R allows users to read to files\\n\")\n",
    "    "
   ]
  },
  {
   "cell_type": "code",
   "execution_count": 15,
   "id": "f0d5b699",
   "metadata": {},
   "outputs": [
    {
     "name": "stdout",
     "output_type": "stream",
     "text": [
      "Hello\n",
      "5\n",
      "Hello\n",
      "Python is an interpreted language\n",
      "W allows users to write to files\n",
      "R allows users to read to files\n",
      "\n"
     ]
    }
   ],
   "source": [
    "f = open(\"test.txt\", mode='r', encoding='utf-8')\n",
    "print(f.read(5))\n",
    "\n",
    "# tell gives us where the cursor is at presently\n",
    "print(f.tell())\n",
    "\n",
    "# seek - move cursor to desired posiyyion, in this case back to the start of the file\n",
    "f.seek(0)\n",
    "print(f.read())\n",
    "\n",
    "f.close()\n"
   ]
  },
  {
   "cell_type": "code",
   "execution_count": 18,
   "id": "7fb556ed",
   "metadata": {},
   "outputs": [
    {
     "name": "stdout",
     "output_type": "stream",
     "text": [
      "Hello\n",
      "\n",
      "Python is an interpreted language\n",
      "\n",
      "W allows users to write to files\n",
      "\n",
      "R allows users to read to files\n",
      "\n"
     ]
    }
   ],
   "source": [
    "# printing file using a loop\n",
    "\n",
    "f = open(\"test.txt\", mode='r', encoding='utf-8')\n",
    "\n",
    "for line in f:\n",
    "    print(line, end=\"\\n\")\n",
    "    \n",
    "f.close()"
   ]
  },
  {
   "cell_type": "code",
   "execution_count": 20,
   "id": "94008f8a",
   "metadata": {},
   "outputs": [
    {
     "name": "stdout",
     "output_type": "stream",
     "text": [
      "Hello\n",
      "\n",
      "['Python is an interpreted language\\n', 'W allows users to write to files\\n', 'R allows users to read to files\\n']\n"
     ]
    }
   ],
   "source": [
    "with open(\"test.txt\", mode='r', encoding='utf-8') as f:\n",
    "    print(f.readline())\n",
    "    \n",
    "    print(f.readlines())\n"
   ]
  },
  {
   "cell_type": "code",
   "execution_count": 23,
   "id": "26bd8c06",
   "metadata": {},
   "outputs": [
    {
     "name": "stdout",
     "output_type": "stream",
     "text": [
      "['Hello\\n', 'Python is an interpreted language\\n', 'W allows users to write to files\\n', 'R allows users to read to files\\n']\n"
     ]
    }
   ],
   "source": [
    "# Write a Python program to read a file line by line and store it into a list.\n",
    "lines =[]\n",
    "with open(\"test.txt\", mode='r', encoding='utf-8') as f:\n",
    "    for line in f:\n",
    "        lines.append(line)\n",
    "        \n",
    "print(lines)\n",
    "       "
   ]
  },
  {
   "cell_type": "code",
   "execution_count": 38,
   "id": "aa175070",
   "metadata": {},
   "outputs": [
    {
     "name": "stdout",
     "output_type": "stream",
     "text": [
      "['Hello\\n', 'Python is an interpreted language\\n', 'W allows users to write to files\\n', 'R allows users to read to files\\n']\n",
      "['Hello', 'Python is an interpreted language', 'W allows users to write to files', 'R allows users to read to files']\n"
     ]
    }
   ],
   "source": [
    "# alternative to above\n",
    "f = open(\"test.txt\",mode='r',encoding=\"utf-8\")\n",
    "new_list = f.readlines()\n",
    "\n",
    "f.close()\n",
    "\n",
    "# removing the \\n from the readlines\n",
    "new_list2 = [item.replace('\\n','') for item in new_list]\n",
    "\n",
    "# alternative\n",
    "new_list2 = [item.rstrip('\\n') for item in new_list]\n",
    "    \n",
    "print(new_list)\n",
    "print(new_list2)"
   ]
  },
  {
   "cell_type": "code",
   "execution_count": null,
   "id": "e968f09a",
   "metadata": {},
   "outputs": [],
   "source": [
    "# Accept five names from the user and write in a file “name.txt”\n",
    "\n",
    "with open(\"name.txt\",\"w\") as f:\n",
    "    for i in range(5):\n",
    "        name = input(\"Enter your name: \")\n",
    "        f.write(name +\"\\n\")"
   ]
  },
  {
   "cell_type": "code",
   "execution_count": null,
   "id": "a9a0575d",
   "metadata": {},
   "outputs": [],
   "source": [
    "# Take 5 numbers as input from the user and store their squares in a file called as 'square.txt' in the below format:\n",
    "\n",
    "with open(\"squares.txt\",\"w\") as s:\n",
    "    for i in range(5):\n",
    "        num = input(\"Enter a number: \")\n",
    "        s.write(num +\"*\"+num +\"=\" +str(int(num)**2)+\"\\n\")\n",
    "    s.close()"
   ]
  },
  {
   "cell_type": "code",
   "execution_count": 3,
   "id": "e0a66b8a",
   "metadata": {},
   "outputs": [
    {
     "name": "stdout",
     "output_type": "stream",
     "text": [
      "Enter input: urvi\n",
      "Enter input: oho\n",
      "Enter input: anna\n",
      "Enter input: june\n",
      "Enter input: nana\n"
     ]
    }
   ],
   "source": [
    "# Accept 5 strings as input and check whether they are palindrome or not, save the following format in the file palindrome.txt-\n",
    "# string -> Palindrome/Not palindrome\n",
    "# to reverse a string we can even use -> string == string[::-1]\n",
    "\n",
    "with open(\"palindrome.txt\", \"w\") as p:\n",
    "    for i in range(5):\n",
    "        str_inp = input(\"Enter input: \")\n",
    "        if str_inp == \"\".join(reversed(str_inp)):\n",
    "            p.write(str_inp +\"->\" + \"Palindrome\\n\")\n",
    "        else:\n",
    "            p.write(str_inp +\"->\" + \" Not Palindrome\\n\")"
   ]
  },
  {
   "cell_type": "code",
   "execution_count": 5,
   "id": "c7afb11f",
   "metadata": {},
   "outputs": [
    {
     "name": "stdout",
     "output_type": "stream",
     "text": [
      "4\n"
     ]
    }
   ],
   "source": [
    "# If there is a text file 'abc.txt' and you have writtten some lines of content within it. Read this file via python and count the number of lines in that file and display it.\n",
    "\n",
    "with open(\"test.txt\", \"r\") as f:\n",
    "    lines_list = f.readlines()\n",
    "        \n",
    "print(len(lines_list))\n"
   ]
  },
  {
   "cell_type": "code",
   "execution_count": 6,
   "id": "75eb2438",
   "metadata": {},
   "outputs": [
    {
     "name": "stdout",
     "output_type": "stream",
     "text": [
      "4\n"
     ]
    }
   ],
   "source": [
    "# alternate method\n",
    "\n",
    "count = 0\n",
    "with open(\"test.txt\", \"r\") as f:\n",
    "    for string in f:\n",
    "        count+=1\n",
    "        \n",
    "print(count)"
   ]
  },
  {
   "cell_type": "code",
   "execution_count": 13,
   "id": "acab9c18",
   "metadata": {},
   "outputs": [
    {
     "name": "stdout",
     "output_type": "stream",
     "text": [
      "Hello\n",
      "\n",
      "Python is an interpreted language\n",
      "\n",
      "W allows users to write to files\n",
      "\n",
      "R allows users to read to files\n",
      "\n"
     ]
    }
   ],
   "source": [
    "# withput count variable\n",
    "\n",
    "a = open(\"test.txt\", \"r\", encoding = \"utf-8\")\n",
    "for i in a:\n",
    "    print(i)\n",
    "\n",
    "a.close()\n"
   ]
  },
  {
   "cell_type": "code",
   "execution_count": 16,
   "id": "e5842348",
   "metadata": {},
   "outputs": [
    {
     "name": "stdout",
     "output_type": "stream",
     "text": [
      "0\n",
      "12\n",
      "1\n",
      "14\n",
      "2\n",
      "16\n",
      "3\n",
      "18\n",
      "4\n",
      "20\n"
     ]
    }
   ],
   "source": [
    "# enumerate gives two iterators the index and the actual value\n",
    "\n",
    "nums = [12,14,16,18,20]\n",
    "\n",
    "for i,num in enumerate(nums):\n",
    "    print(i)\n",
    "    print(num)\n"
   ]
  },
  {
   "cell_type": "code",
   "execution_count": 26,
   "id": "bef278ea",
   "metadata": {},
   "outputs": [
    {
     "name": "stdout",
     "output_type": "stream",
     "text": [
      "Enter data: randomness is coming\n",
      "Enter data: merry christmas\n",
      "['Hello\\n', 'Python is an interpreted language\\n', 'W allows users to write to files\\n', 'R allows users to read to files\\n', 'this is a trial entry\\n', 'this is a second trial entry\\n', 'this is a thirst trial\\n', 'this is a fourth trial\\n', 'this is a fifth trial I think\\n', 'this is just d=soe trial\\n', 'im tried if making entries\\n', 'ill do another \\n', 'my trial journey\\n', 'is ongoing endlessly\\n', 'im running out of lines\\n', 'la de dad de dah\\n', 'randomness is coming\\n', 'merry christmas\\n']\n"
     ]
    }
   ],
   "source": [
    "# add data to existing file mode = \"a+\" allows you to read and append the file in the same open\n",
    "\n",
    "f = open(\"test.txt\", \"a+\")\n",
    "for i in range(2):\n",
    "    str_inp = input(\"Enter data: \")\n",
    "    f.write(str_inp + \"\\n\") \n",
    "# move the pointer to the start of the file and read it    \n",
    "f.seek(0)\n",
    "print(f.readlines())\n",
    "\n",
    "f.close()  \n"
   ]
  },
  {
   "cell_type": "code",
   "execution_count": 30,
   "id": "7aecbdc8",
   "metadata": {},
   "outputs": [],
   "source": [
    "# writing datad to a csv file\n",
    "\n",
    "import csv\n",
    "\n",
    "# filed names\n",
    "fields = ['Name', 'Branch', 'Year', 'CGPA']\n",
    "  \n",
    "# data rows of csv file\n",
    "rows = [ ['Nikhil', 'COE', '2', '9.0'],\n",
    "         ['Sanchit', 'COE', '2', '9.1'],\n",
    "         ['Aditya', 'IT', '2', '9.3'],\n",
    "         ['Sagar', 'SE', '1', '9.5'],\n",
    "         ['Prateek', 'MCE', '3', '7.8'],\n",
    "         ['Sahil', 'EP', '2', '9.1']]\n",
    "\n",
    "# name of csv file\n",
    "filename = \"uni_records.csv\"\n",
    "\n",
    "# writing to file\n",
    "\n",
    "with open(filename, \"w\") as csvfile:\n",
    "    # creating a csv writer\n",
    "    csvwriter = csv.writer(csvfile)\n",
    "    \n",
    "    # writing the header fields\n",
    "    csvwriter.writerow(fields)\n",
    "    \n",
    "    # writing the data \n",
    "    csvwriter.writerows(rows)\n",
    "    "
   ]
  },
  {
   "cell_type": "code",
   "execution_count": 33,
   "id": "9996d2ef",
   "metadata": {},
   "outputs": [
    {
     "name": "stdout",
     "output_type": "stream",
     "text": [
      "Total no. of rows: 7\n",
      "Field names are:Name, Branch, Year, CGPA\n",
      "\n",
      "First 5 rows are:\n",
      "\n",
      "    Nikhil\n",
      "       COE\n",
      "         2\n",
      "       9.0\n",
      "\n",
      "\n",
      "   Sanchit\n",
      "       COE\n",
      "         2\n",
      "       9.1\n",
      "\n",
      "\n",
      "    Aditya\n",
      "        IT\n",
      "         2\n",
      "       9.3\n",
      "\n",
      "\n",
      "     Sagar\n",
      "        SE\n",
      "         1\n",
      "       9.5\n",
      "\n",
      "\n",
      "   Prateek\n",
      "       MCE\n",
      "         3\n",
      "       7.8\n",
      "\n",
      "\n",
      "     Sahil\n",
      "        EP\n",
      "         2\n",
      "       9.1\n",
      "\n",
      "\n"
     ]
    }
   ],
   "source": [
    "# reading our csv file\n",
    "\n",
    "filename = \"uni_records.csv\"\n",
    "fields = []\n",
    "rows = []\n",
    "\n",
    "with open(filename, 'r') as csvfile:\n",
    "    # creating a csv reader object\n",
    "    csvreader = csv.reader(csvfile)\n",
    "      \n",
    "    # extracting field names through first row\n",
    "    fields = next(csvreader)\n",
    "  \n",
    "    # extracting each data row one by one\n",
    "    for row in csvreader:\n",
    "        rows.append(row)\n",
    "  \n",
    "    # get total number of rows using an inbuilt function line_num\n",
    "    print(\"Total no. of rows: %d\"%(csvreader.line_num))\n",
    "    \n",
    "# printing the field names\n",
    "print('Field names are:' + ', '.join(field for field in fields))\n",
    "  \n",
    "#  printing first 5 rows\n",
    "print('\\nFirst 5 rows are:\\n')\n",
    "for row in rows[:10]:\n",
    "    # parsing each column of a row\n",
    "    for col in row:\n",
    "        print(\"%10s\"%col),\n",
    "    print('\\n')"
   ]
  },
  {
   "cell_type": "code",
   "execution_count": null,
   "id": "ddd01d53",
   "metadata": {},
   "outputs": [],
   "source": []
  },
  {
   "cell_type": "code",
   "execution_count": null,
   "id": "bd7fdab8",
   "metadata": {},
   "outputs": [],
   "source": []
  },
  {
   "cell_type": "code",
   "execution_count": null,
   "id": "788fe60b",
   "metadata": {},
   "outputs": [],
   "source": []
  },
  {
   "cell_type": "code",
   "execution_count": null,
   "id": "9d09ecb5",
   "metadata": {},
   "outputs": [],
   "source": []
  },
  {
   "cell_type": "code",
   "execution_count": null,
   "id": "24958c78",
   "metadata": {},
   "outputs": [],
   "source": []
  },
  {
   "cell_type": "code",
   "execution_count": null,
   "id": "3ef47afa",
   "metadata": {},
   "outputs": [],
   "source": []
  },
  {
   "cell_type": "code",
   "execution_count": null,
   "id": "a7e74858",
   "metadata": {},
   "outputs": [],
   "source": []
  },
  {
   "cell_type": "code",
   "execution_count": null,
   "id": "63658446",
   "metadata": {},
   "outputs": [],
   "source": []
  },
  {
   "cell_type": "code",
   "execution_count": null,
   "id": "a6dc2723",
   "metadata": {},
   "outputs": [],
   "source": []
  },
  {
   "cell_type": "code",
   "execution_count": null,
   "id": "599a5c9c",
   "metadata": {},
   "outputs": [],
   "source": []
  },
  {
   "cell_type": "code",
   "execution_count": null,
   "id": "49893641",
   "metadata": {},
   "outputs": [],
   "source": []
  },
  {
   "cell_type": "code",
   "execution_count": null,
   "id": "420a8ab4",
   "metadata": {},
   "outputs": [],
   "source": []
  },
  {
   "cell_type": "code",
   "execution_count": null,
   "id": "2a8e4467",
   "metadata": {},
   "outputs": [],
   "source": []
  },
  {
   "cell_type": "code",
   "execution_count": null,
   "id": "9af959b0",
   "metadata": {},
   "outputs": [],
   "source": []
  },
  {
   "cell_type": "code",
   "execution_count": null,
   "id": "653e3990",
   "metadata": {},
   "outputs": [],
   "source": []
  },
  {
   "cell_type": "code",
   "execution_count": null,
   "id": "1bd6b15a",
   "metadata": {},
   "outputs": [],
   "source": []
  },
  {
   "cell_type": "code",
   "execution_count": null,
   "id": "d29402e8",
   "metadata": {},
   "outputs": [],
   "source": []
  },
  {
   "cell_type": "code",
   "execution_count": null,
   "id": "18cfffda",
   "metadata": {},
   "outputs": [],
   "source": []
  },
  {
   "cell_type": "code",
   "execution_count": null,
   "id": "2f65f6f9",
   "metadata": {},
   "outputs": [],
   "source": []
  },
  {
   "cell_type": "code",
   "execution_count": null,
   "id": "3bad087c",
   "metadata": {},
   "outputs": [],
   "source": []
  },
  {
   "cell_type": "code",
   "execution_count": null,
   "id": "502ed7dd",
   "metadata": {},
   "outputs": [],
   "source": []
  },
  {
   "cell_type": "code",
   "execution_count": null,
   "id": "0625c792",
   "metadata": {},
   "outputs": [],
   "source": []
  },
  {
   "cell_type": "code",
   "execution_count": null,
   "id": "60221312",
   "metadata": {},
   "outputs": [],
   "source": []
  }
 ],
 "metadata": {
  "kernelspec": {
   "display_name": "Python 3 (ipykernel)",
   "language": "python",
   "name": "python3"
  },
  "language_info": {
   "codemirror_mode": {
    "name": "ipython",
    "version": 3
   },
   "file_extension": ".py",
   "mimetype": "text/x-python",
   "name": "python",
   "nbconvert_exporter": "python",
   "pygments_lexer": "ipython3",
   "version": "3.8.9"
  }
 },
 "nbformat": 4,
 "nbformat_minor": 5
}
